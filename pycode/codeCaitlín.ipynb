{
 "cells": [
  {
   "cell_type": "code",
   "execution_count": 1,
   "id": "a8370eb2",
   "metadata": {},
   "outputs": [
    {
     "name": "stdout",
     "output_type": "stream",
     "text": [
      "This is for Caitlín's rough code\n"
     ]
    }
   ],
   "source": [
    "print(\"This is for Caitlín's rough code\")"
   ]
  },
  {
   "cell_type": "code",
   "execution_count": 1,
   "id": "efeb82c2",
   "metadata": {},
   "outputs": [],
   "source": [
    "#libraries\n",
    "import os\n",
    "import numpy as np\n",
    "import pandas as pd\n",
    "import matplotlib.pyplot as plt\n",
    "import seaborn as sns\n",
    "from sklearn.neural_network import MLPClassifier\n",
    "from sklearn.neighbors import KNeighborsClassifier\n",
    "from sklearn.svm import SVC\n",
    "from sklearn.gaussian_process import GaussianProcessClassifier\n",
    "from sklearn.gaussian_process.kernels import RBF\n",
    "from sklearn.tree import DecisionTreeClassifier\n",
    "from sklearn.ensemble import RandomForestClassifier, AdaBoostClassifier\n",
    "from sklearn.naive_bayes import GaussianNB\n",
    "from sklearn.metrics import plot_confusion_matrix\n",
    "from sklearn.model_selection import cross_val_score"
   ]
  },
  {
   "cell_type": "code",
   "execution_count": 2,
   "id": "d6e5e319",
   "metadata": {},
   "outputs": [],
   "source": [
    "os.chdir(\"..\")\n",
    "# Choose stations using K-means clustering \n"
   ]
  },
  {
   "cell_type": "code",
   "execution_count": 3,
   "id": "e748b680",
   "metadata": {},
   "outputs": [
    {
     "data": {
      "text/html": [
       "<div>\n",
       "<style scoped>\n",
       "    .dataframe tbody tr th:only-of-type {\n",
       "        vertical-align: middle;\n",
       "    }\n",
       "\n",
       "    .dataframe tbody tr th {\n",
       "        vertical-align: top;\n",
       "    }\n",
       "\n",
       "    .dataframe thead th {\n",
       "        text-align: right;\n",
       "    }\n",
       "</style>\n",
       "<table border=\"1\" class=\"dataframe\">\n",
       "  <thead>\n",
       "    <tr style=\"text-align: right;\">\n",
       "      <th></th>\n",
       "      <th>Unnamed: 0</th>\n",
       "      <th>TIME</th>\n",
       "      <th>NAME</th>\n",
       "      <th>BIKE.STANDS</th>\n",
       "      <th>AVAILABLE.BIKE.STANDS</th>\n",
       "      <th>AVAILABLE.BIKES</th>\n",
       "      <th>STATUS</th>\n",
       "    </tr>\n",
       "  </thead>\n",
       "  <tbody>\n",
       "    <tr>\n",
       "      <th>0</th>\n",
       "      <td>1</td>\n",
       "      <td>2018-08-01 12:30:02</td>\n",
       "      <td>CHARLEMONT PLACE</td>\n",
       "      <td>40</td>\n",
       "      <td>28</td>\n",
       "      <td>12</td>\n",
       "      <td>Open</td>\n",
       "    </tr>\n",
       "    <tr>\n",
       "      <th>1</th>\n",
       "      <td>2</td>\n",
       "      <td>2018-08-01 12:35:02</td>\n",
       "      <td>CHARLEMONT PLACE</td>\n",
       "      <td>40</td>\n",
       "      <td>28</td>\n",
       "      <td>12</td>\n",
       "      <td>Open</td>\n",
       "    </tr>\n",
       "    <tr>\n",
       "      <th>2</th>\n",
       "      <td>3</td>\n",
       "      <td>2018-08-01 12:40:02</td>\n",
       "      <td>CHARLEMONT PLACE</td>\n",
       "      <td>40</td>\n",
       "      <td>28</td>\n",
       "      <td>12</td>\n",
       "      <td>Open</td>\n",
       "    </tr>\n",
       "    <tr>\n",
       "      <th>3</th>\n",
       "      <td>4</td>\n",
       "      <td>2018-08-01 12:45:02</td>\n",
       "      <td>CHARLEMONT PLACE</td>\n",
       "      <td>40</td>\n",
       "      <td>28</td>\n",
       "      <td>12</td>\n",
       "      <td>Open</td>\n",
       "    </tr>\n",
       "    <tr>\n",
       "      <th>4</th>\n",
       "      <td>5</td>\n",
       "      <td>2018-08-01 12:50:02</td>\n",
       "      <td>CHARLEMONT PLACE</td>\n",
       "      <td>40</td>\n",
       "      <td>28</td>\n",
       "      <td>12</td>\n",
       "      <td>Open</td>\n",
       "    </tr>\n",
       "  </tbody>\n",
       "</table>\n",
       "</div>"
      ],
      "text/plain": [
       "   Unnamed: 0                 TIME              NAME  BIKE.STANDS  \\\n",
       "0           1  2018-08-01 12:30:02  CHARLEMONT PLACE           40   \n",
       "1           2  2018-08-01 12:35:02  CHARLEMONT PLACE           40   \n",
       "2           3  2018-08-01 12:40:02  CHARLEMONT PLACE           40   \n",
       "3           4  2018-08-01 12:45:02  CHARLEMONT PLACE           40   \n",
       "4           5  2018-08-01 12:50:02  CHARLEMONT PLACE           40   \n",
       "\n",
       "   AVAILABLE.BIKE.STANDS  AVAILABLE.BIKES STATUS  \n",
       "0                     28               12   Open  \n",
       "1                     28               12   Open  \n",
       "2                     28               12   Open  \n",
       "3                     28               12   Open  \n",
       "4                     28               12   Open  "
      ]
     },
     "execution_count": 3,
     "metadata": {},
     "output_type": "execute_result"
    }
   ],
   "source": [
    "#import data\n",
    "os.chdir(\"..\")\n",
    "data = pd.read_csv(\"data/bikedata.csv\")\n",
    "data.head()"
   ]
  },
  {
   "cell_type": "code",
   "execution_count": 4,
   "id": "e4511fcd",
   "metadata": {
    "scrolled": true
   },
   "outputs": [
    {
     "data": {
      "text/html": [
       "<div>\n",
       "<style scoped>\n",
       "    .dataframe tbody tr th:only-of-type {\n",
       "        vertical-align: middle;\n",
       "    }\n",
       "\n",
       "    .dataframe tbody tr th {\n",
       "        vertical-align: top;\n",
       "    }\n",
       "\n",
       "    .dataframe thead th {\n",
       "        text-align: right;\n",
       "    }\n",
       "</style>\n",
       "<table border=\"1\" class=\"dataframe\">\n",
       "  <thead>\n",
       "    <tr style=\"text-align: right;\">\n",
       "      <th></th>\n",
       "      <th>Unnamed: 0</th>\n",
       "      <th>TIME</th>\n",
       "      <th>NAME</th>\n",
       "      <th>BIKE.STANDS</th>\n",
       "      <th>AVAILABLE.BIKE.STANDS</th>\n",
       "      <th>AVAILABLE.BIKES</th>\n",
       "      <th>STATUS</th>\n",
       "      <th>BIKE.USAGE</th>\n",
       "    </tr>\n",
       "  </thead>\n",
       "  <tbody>\n",
       "    <tr>\n",
       "      <th>0</th>\n",
       "      <td>1</td>\n",
       "      <td>2018-08-01 12:30:02</td>\n",
       "      <td>CHARLEMONT PLACE</td>\n",
       "      <td>40</td>\n",
       "      <td>28</td>\n",
       "      <td>12</td>\n",
       "      <td>Open</td>\n",
       "      <td>0.7</td>\n",
       "    </tr>\n",
       "    <tr>\n",
       "      <th>1</th>\n",
       "      <td>2</td>\n",
       "      <td>2018-08-01 12:35:02</td>\n",
       "      <td>CHARLEMONT PLACE</td>\n",
       "      <td>40</td>\n",
       "      <td>28</td>\n",
       "      <td>12</td>\n",
       "      <td>Open</td>\n",
       "      <td>0.7</td>\n",
       "    </tr>\n",
       "    <tr>\n",
       "      <th>2</th>\n",
       "      <td>3</td>\n",
       "      <td>2018-08-01 12:40:02</td>\n",
       "      <td>CHARLEMONT PLACE</td>\n",
       "      <td>40</td>\n",
       "      <td>28</td>\n",
       "      <td>12</td>\n",
       "      <td>Open</td>\n",
       "      <td>0.7</td>\n",
       "    </tr>\n",
       "    <tr>\n",
       "      <th>3</th>\n",
       "      <td>4</td>\n",
       "      <td>2018-08-01 12:45:02</td>\n",
       "      <td>CHARLEMONT PLACE</td>\n",
       "      <td>40</td>\n",
       "      <td>28</td>\n",
       "      <td>12</td>\n",
       "      <td>Open</td>\n",
       "      <td>0.7</td>\n",
       "    </tr>\n",
       "    <tr>\n",
       "      <th>4</th>\n",
       "      <td>5</td>\n",
       "      <td>2018-08-01 12:50:02</td>\n",
       "      <td>CHARLEMONT PLACE</td>\n",
       "      <td>40</td>\n",
       "      <td>28</td>\n",
       "      <td>12</td>\n",
       "      <td>Open</td>\n",
       "      <td>0.7</td>\n",
       "    </tr>\n",
       "  </tbody>\n",
       "</table>\n",
       "</div>"
      ],
      "text/plain": [
       "   Unnamed: 0                 TIME              NAME  BIKE.STANDS  \\\n",
       "0           1  2018-08-01 12:30:02  CHARLEMONT PLACE           40   \n",
       "1           2  2018-08-01 12:35:02  CHARLEMONT PLACE           40   \n",
       "2           3  2018-08-01 12:40:02  CHARLEMONT PLACE           40   \n",
       "3           4  2018-08-01 12:45:02  CHARLEMONT PLACE           40   \n",
       "4           5  2018-08-01 12:50:02  CHARLEMONT PLACE           40   \n",
       "\n",
       "   AVAILABLE.BIKE.STANDS  AVAILABLE.BIKES STATUS  BIKE.USAGE  \n",
       "0                     28               12   Open         0.7  \n",
       "1                     28               12   Open         0.7  \n",
       "2                     28               12   Open         0.7  \n",
       "3                     28               12   Open         0.7  \n",
       "4                     28               12   Open         0.7  "
      ]
     },
     "execution_count": 4,
     "metadata": {},
     "output_type": "execute_result"
    }
   ],
   "source": [
    "#Calculate bike usage\n",
    "data[\"BIKE.USAGE\"] = data[\"AVAILABLE.BIKE.STANDS\"]/data[\"BIKE.STANDS\"]\n",
    "data.head()"
   ]
  },
  {
   "cell_type": "code",
   "execution_count": 5,
   "id": "919c997a",
   "metadata": {},
   "outputs": [
    {
     "name": "stdout",
     "output_type": "stream",
     "text": [
      "0         2018-08-01 12:30:02\n",
      "1         2018-08-01 12:35:02\n",
      "2         2018-08-01 12:40:02\n",
      "3         2018-08-01 12:45:02\n",
      "4         2018-08-01 12:50:02\n",
      "                  ...        \n",
      "1029255   2022-01-01 23:35:02\n",
      "1029256   2022-01-01 23:40:02\n",
      "1029257   2022-01-01 23:45:02\n",
      "1029258   2022-01-01 23:50:02\n",
      "1029259   2022-01-01 23:55:02\n",
      "Name: TIME, Length: 1029260, dtype: datetime64[ns]\n"
     ]
    }
   ],
   "source": [
    "bike_dates = pd.to_datetime(data.TIME, format = \"%Y-%m-%d %H:%M:%S\")\n",
    "print(bike_dates)"
   ]
  },
  {
   "cell_type": "code",
   "execution_count": 6,
   "id": "bc24a316",
   "metadata": {},
   "outputs": [
    {
     "name": "stdout",
     "output_type": "stream",
     "text": [
      "DatetimeIndex(['2018-08-01', '2018-08-01', '2018-08-01', '2018-08-01',\n",
      "               '2018-08-01', '2018-08-01', '2018-08-01', '2018-08-01',\n",
      "               '2018-08-01', '2018-08-01',\n",
      "               ...\n",
      "               '2022-01-01', '2022-01-01', '2022-01-01', '2022-01-01',\n",
      "               '2022-01-01', '2022-01-01', '2022-01-01', '2022-01-01',\n",
      "               '2022-01-01', '2022-01-01'],\n",
      "              dtype='datetime64[ns]', name='TIME', length=1029260, freq=None)\n"
     ]
    }
   ],
   "source": [
    "bike_dates.dt.date\n",
    "date_vector = pd.DatetimeIndex(bike_dates.dt.date)\n",
    "print(date_vector)"
   ]
  },
  {
   "cell_type": "code",
   "execution_count": null,
   "id": "1cf3b7e7",
   "metadata": {},
   "outputs": [],
   "source": [
    "#Parse dates and times\n",
    "data.TIME = pd.to_datetime(data.TIME, format = \"%Y-%m-%d %H:%M:%S\")\n",
    "print(bike_dates)\n",
    "data[\"DATE\"] = pd.DatetimeIndex(data.TIME.dt.date)\n",
    "data.head()\n",
    "#Calculate bike usage\n",
    "data[\"BIKE.USAGE\"] = data[\"AVAILABLE.BIKE.STANDS\"]/data[\"BIKE.STANDS\"]\n",
    "data.head()"
   ]
  },
  {
   "cell_type": "code",
   "execution_count": 56,
   "id": "082818e0",
   "metadata": {},
   "outputs": [],
   "source": [
    "#create masks\n",
    "dataCP = data[data.NAME == \"CHARLEMONT PLACE\"]\n",
    "dataSG = data[data.NAME == \"ST. STEPHEN'S GREEN EAST\"]\n",
    "dataPR = data[data.NAME == \"PHIBSBOROUGH ROAD\"]"
   ]
  },
  {
   "cell_type": "code",
   "execution_count": 57,
   "id": "cd0ca8e2",
   "metadata": {},
   "outputs": [
    {
     "data": {
      "text/plain": [
       "<bound method NDFrame.head of          Unnamed: 0                 TIME               NAME  BIKE.STANDS  \\\n",
       "276             277  2018-08-01 12:30:02  PHIBSBOROUGH ROAD           40   \n",
       "277             278  2018-08-01 12:35:02  PHIBSBOROUGH ROAD           40   \n",
       "278             279  2018-08-01 12:40:02  PHIBSBOROUGH ROAD           40   \n",
       "279             280  2018-08-01 12:45:02  PHIBSBOROUGH ROAD           40   \n",
       "280             281  2018-08-01 12:50:02  PHIBSBOROUGH ROAD           40   \n",
       "...             ...                  ...                ...          ...   \n",
       "1029255     1029256  2022-01-01 23:35:02  PHIBSBOROUGH ROAD           40   \n",
       "1029256     1029257  2022-01-01 23:40:02  PHIBSBOROUGH ROAD           40   \n",
       "1029257     1029258  2022-01-01 23:45:02  PHIBSBOROUGH ROAD           40   \n",
       "1029258     1029259  2022-01-01 23:50:02  PHIBSBOROUGH ROAD           40   \n",
       "1029259     1029260  2022-01-01 23:55:02  PHIBSBOROUGH ROAD           40   \n",
       "\n",
       "         AVAILABLE.BIKE.STANDS  AVAILABLE.BIKES STATUS  BIKE.USAGE  \n",
       "276                         40                0   Open         1.0  \n",
       "277                         40                0   Open         1.0  \n",
       "278                         40                0   Open         1.0  \n",
       "279                         40                0   Open         1.0  \n",
       "280                         40                0   Open         1.0  \n",
       "...                        ...              ...    ...         ...  \n",
       "1029255                     16               24   Open         0.4  \n",
       "1029256                     16               24   Open         0.4  \n",
       "1029257                     16               24   Open         0.4  \n",
       "1029258                     16               24   Open         0.4  \n",
       "1029259                     16               24   Open         0.4  \n",
       "\n",
       "[342924 rows x 8 columns]>"
      ]
     },
     "execution_count": 57,
     "metadata": {},
     "output_type": "execute_result"
    }
   ],
   "source": [
    "dataPR.head"
   ]
  },
  {
   "cell_type": "code",
   "execution_count": null,
   "id": "43ce9e16",
   "metadata": {},
   "outputs": [],
   "source": []
  },
  {
   "cell_type": "code",
   "execution_count": null,
   "id": "a0688621",
   "metadata": {},
   "outputs": [],
   "source": [
    "print(dataPR.DATE)"
   ]
  },
  {
   "cell_type": "code",
   "execution_count": null,
   "id": "45be92a0",
   "metadata": {},
   "outputs": [],
   "source": [
    "PRdate_vector = pd.DatetimeIndex(dataPR.DATE.dt.date)\n",
    "print(PRdate_vector)"
   ]
  },
  {
   "cell_type": "code",
   "execution_count": null,
   "id": "bc934ba1",
   "metadata": {
    "scrolled": true
   },
   "outputs": [],
   "source": [
    "# Approach 3\n",
    "idx_day_of_interest = 0;\n",
    "Day_of_interest = PRdate_vector[idx_day_of_interest] # pearse_dates.dt.date.iloc[idx_day_of_interest]\n",
    "Day_index = PRdate_vector == Day_of_interest\n",
    "print(Day_of_interest)\n",
    "\n",
    "dataPR[Day_index].head"
   ]
  },
  {
   "cell_type": "code",
   "execution_count": null,
   "id": "40803667",
   "metadata": {},
   "outputs": [],
   "source": [
    "phibs_day_of_interest = dataPR.DATE[Day_index]\n",
    "time = phibs_day_of_interest.dt.hour\n",
    "stands = dataPR[Day_index]['AVAILABLE.BIKE.STANDS']\n",
    "bikes = dataPR[Day_index]['AVAILABLE.BIKES']\n",
    "bikes"
   ]
  },
  {
   "cell_type": "code",
   "execution_count": null,
   "id": "89be834f",
   "metadata": {},
   "outputs": [],
   "source": [
    "plt.figure()\n",
    "plt.title(f'Usage of the Phibsborough Road station on the {Day_of_interest}')\n",
    "plt.plot(time, stands,'k')\n",
    "plt.xlabel('Hours of the day')\n",
    "plt.ylabel('Available bike stands')\n",
    "plt.title(f'Usage of the Phibsborough Road station on the {Day_of_interest}')\n",
    "\n",
    "plt.figure()\n",
    "plt.plot(time, bikes,'b')\n",
    "plt.xlabel('Hours of the day')\n",
    "plt.ylabel('Available bikes')\n",
    "plt.show()"
   ]
  },
  {
   "cell_type": "code",
   "execution_count": null,
   "id": "4987b7e3",
   "metadata": {},
   "outputs": [],
   "source": [
    "# Group data by date and calculate mean bike usage\n",
    "usage_by_date = dataPR.groupby('DATE')['BIKE.USAGE'].mean()\n",
    "\n",
    "# Create a line plot\n",
    "plt.plot(usage_by_date.index, usage_by_date.values)\n",
    "\n",
    "# Set plot title and axis labels\n",
    "plt.title('Average Bike Usage for Phibsborough Road')\n",
    "plt.xlabel('Date')\n",
    "plt.ylabel('Bike Usage')\n",
    "\n",
    "# Show the plot\n",
    "plt.show()"
   ]
  },
  {
   "cell_type": "code",
   "execution_count": null,
   "id": "7e4f1f73",
   "metadata": {},
   "outputs": [],
   "source": [
    "CP_daily_avg = dataCP.groupby(pd.Grouper(key='DATE', freq='W'))['BIKE.USAGE'].mean()\n",
    "CP_date_vector = pd.DatetimeIndex(dataCP[\"DATE\"].dt.date)\n",
    "\n",
    "PR_daily_avg = dataPR.groupby(pd.Grouper(key='DATE', freq='W'))['BIKE.USAGE'].mean()\n",
    "PR_date_vector = pd.DatetimeIndex(dataPR[\"DATE\"].dt.date)\n",
    "\n",
    "SG_daily_avg = dataSG.groupby(pd.Grouper(key='DATE', freq='W'))['BIKE.USAGE'].mean()\n",
    "SG_date_vector = pd.DatetimeIndex(dataSG[\"DATE\"].dt.date)"
   ]
  },
  {
   "cell_type": "code",
   "execution_count": null,
   "id": "71f1fbe9",
   "metadata": {},
   "outputs": [],
   "source": [
    "#datavis\n",
    "usageFig, axes = plt.subplots(3, 1, figsize=(20,18))\n",
    "sns.lineplot(ax=axes[0],x = CP_daily_avg.index, y = CP_daily_avg.values)\n",
    "axes[0].set_title('Charlemont Place')\n",
    "sns.lineplot(ax=axes[1],x = PR_daily_avg.index, y = PR_daily_avg.values)\n",
    "axes[1].set_title('Phibsborough Road')\n",
    "sns.lineplot(ax=axes[2],x = SG_daily_avg.index, y = SG_daily_avg.values)\n",
    "axes[2].set_title(\"St. Stephen's Green East\")\n"
   ]
  },
  {
   "cell_type": "code",
   "execution_count": null,
   "id": "8bebcbbb",
   "metadata": {},
   "outputs": [],
   "source": [
    "CP_weekly_avg = dataCP.groupby(pd.Grouper(key='DATE', freq='W'))['BIKE.USAGE'].mean()\n",
    "PR_weekly_avg = dataPR.groupby(pd.Grouper(key='DATE', freq='W'))['BIKE.USAGE'].mean()\n",
    "SG_weekly_avg = dataSG.groupby(pd.Grouper(key='DATE', freq='W'))['BIKE.USAGE'].mean()\n"
   ]
  },
  {
   "cell_type": "code",
   "execution_count": null,
   "id": "ec61c0ee",
   "metadata": {},
   "outputs": [],
   "source": [
    "usageFig, axes = plt.subplots(3, 1, figsize=(20,18))\n",
    "\n",
    "sns.barplot(ax=axes[0], x=CP_weekly_avg.index, y=CP_weekly_avg.values)\n",
    "axes[0].set_title('Charlemont Place')\n",
    "\n",
    "sns.barplot(ax=axes[1], x=PR_weekly_avg.index, y=PR_weekly_avg.values)\n",
    "axes[1].set_title('Phibsborough Road')\n",
    "\n",
    "sns.barplot(ax=axes[2], x=SG_weekly_avg.index, y=SG_weekly_avg.values)\n",
    "axes[2].set_title(\"St. Stephen's Green East\")"
   ]
  },
  {
   "cell_type": "code",
   "execution_count": null,
   "id": "60e206c0",
   "metadata": {},
   "outputs": [],
   "source": [
    "\n",
    "\n",
    "# Filter data for year 2020\n",
    "dataCP_2020 = dataCP[dataCP['TIME'].dt.year == 2020]\n",
    "dataPR_2020 = dataPR[dataPR['TIME'].dt.year == 2020]\n",
    "dataSG_2020 = dataSG[dataSG['TIME'].dt.year == 2020]\n",
    "\n",
    "# Group data by week and calculate weekly average\n",
    "CP_weekly_avg = dataCP_2020.groupby(pd.Grouper(key='TIME', freq='W'))['BIKE.USAGE'].mean()\n",
    "PR_weekly_avg = dataPR_2020.groupby(pd.Grouper(key='TIME', freq='W'))['BIKE.USAGE'].mean()\n",
    "SG_weekly_avg = dataSG_2020.groupby(pd.Grouper(key='TIME', freq='W'))['BIKE.USAGE'].mean()\n",
    "\n",
    "# Create bar plot\n",
    "fig, axes = plt.subplots(3, 1, figsize=(20,18))\n",
    "sns.barplot(ax=axes[0], x=CP_weekly_avg.index, y=CP_weekly_avg.values)\n",
    "axes[0].set_title('Charlemont Place')\n",
    "sns.barplot(ax=axes[1], x=PR_weekly_avg.index, y=PR_weekly_avg.values)\n",
    "axes[1].set_title('Phibsborough Road')\n",
    "sns.barplot(ax=axes[2], x=SG_weekly_avg.index, y=SG_weekly_avg.values)\n",
    "axes[2].set_title(\"St. Stephen's Green East\")\n",
    "\n",
    "plt.show()"
   ]
  },
  {
   "cell_type": "code",
   "execution_count": null,
   "id": "9e93e535",
   "metadata": {},
   "outputs": [],
   "source": []
  },
  {
   "cell_type": "code",
   "execution_count": 13,
   "id": "996ac354",
   "metadata": {},
   "outputs": [
    {
     "ename": "AttributeError",
     "evalue": "Can only use .dt accessor with datetimelike values",
     "output_type": "error",
     "traceback": [
      "\u001b[0;31m---------------------------------------------------------------------------\u001b[0m",
      "\u001b[0;31mAttributeError\u001b[0m                            Traceback (most recent call last)",
      "Input \u001b[0;32mIn [13]\u001b[0m, in \u001b[0;36m<cell line: 5>\u001b[0;34m()\u001b[0m\n\u001b[1;32m      2\u001b[0m data_2020 \u001b[38;5;241m=\u001b[39m data[data[\u001b[38;5;124m'\u001b[39m\u001b[38;5;124mTIME\u001b[39m\u001b[38;5;124m'\u001b[39m]\u001b[38;5;241m.\u001b[39mstr\u001b[38;5;241m.\u001b[39mstartswith(\u001b[38;5;124m'\u001b[39m\u001b[38;5;124m2020\u001b[39m\u001b[38;5;124m'\u001b[39m)]\n\u001b[1;32m      4\u001b[0m \u001b[38;5;66;03m# Group the data by month and calculate the average bike usage for each month:\u001b[39;00m\n\u001b[0;32m----> 5\u001b[0m monthly_avg \u001b[38;5;241m=\u001b[39m data_2020\u001b[38;5;241m.\u001b[39mgroupby(\u001b[43mdata_2020\u001b[49m\u001b[43m[\u001b[49m\u001b[38;5;124;43m'\u001b[39;49m\u001b[38;5;124;43mTIME\u001b[39;49m\u001b[38;5;124;43m'\u001b[39;49m\u001b[43m]\u001b[49m\u001b[38;5;241;43m.\u001b[39;49m\u001b[43mdt\u001b[49m\u001b[38;5;241m.\u001b[39mstrftime(\u001b[38;5;124m'\u001b[39m\u001b[38;5;124m%\u001b[39m\u001b[38;5;124mB\u001b[39m\u001b[38;5;124m'\u001b[39m))[\u001b[38;5;124m'\u001b[39m\u001b[38;5;124mBIKE.USAGE\u001b[39m\u001b[38;5;124m'\u001b[39m]\u001b[38;5;241m.\u001b[39mmean()\n",
      "File \u001b[0;32m~/opt/anaconda3/lib/python3.9/site-packages/pandas/core/generic.py:5575\u001b[0m, in \u001b[0;36mNDFrame.__getattr__\u001b[0;34m(self, name)\u001b[0m\n\u001b[1;32m   5568\u001b[0m \u001b[38;5;28;01mif\u001b[39;00m (\n\u001b[1;32m   5569\u001b[0m     name \u001b[38;5;129;01mnot\u001b[39;00m \u001b[38;5;129;01min\u001b[39;00m \u001b[38;5;28mself\u001b[39m\u001b[38;5;241m.\u001b[39m_internal_names_set\n\u001b[1;32m   5570\u001b[0m     \u001b[38;5;129;01mand\u001b[39;00m name \u001b[38;5;129;01mnot\u001b[39;00m \u001b[38;5;129;01min\u001b[39;00m \u001b[38;5;28mself\u001b[39m\u001b[38;5;241m.\u001b[39m_metadata\n\u001b[1;32m   5571\u001b[0m     \u001b[38;5;129;01mand\u001b[39;00m name \u001b[38;5;129;01mnot\u001b[39;00m \u001b[38;5;129;01min\u001b[39;00m \u001b[38;5;28mself\u001b[39m\u001b[38;5;241m.\u001b[39m_accessors\n\u001b[1;32m   5572\u001b[0m     \u001b[38;5;129;01mand\u001b[39;00m \u001b[38;5;28mself\u001b[39m\u001b[38;5;241m.\u001b[39m_info_axis\u001b[38;5;241m.\u001b[39m_can_hold_identifiers_and_holds_name(name)\n\u001b[1;32m   5573\u001b[0m ):\n\u001b[1;32m   5574\u001b[0m     \u001b[38;5;28;01mreturn\u001b[39;00m \u001b[38;5;28mself\u001b[39m[name]\n\u001b[0;32m-> 5575\u001b[0m \u001b[38;5;28;01mreturn\u001b[39;00m \u001b[38;5;28;43mobject\u001b[39;49m\u001b[38;5;241;43m.\u001b[39;49m\u001b[38;5;21;43m__getattribute__\u001b[39;49m\u001b[43m(\u001b[49m\u001b[38;5;28;43mself\u001b[39;49m\u001b[43m,\u001b[49m\u001b[43m \u001b[49m\u001b[43mname\u001b[49m\u001b[43m)\u001b[49m\n",
      "File \u001b[0;32m~/opt/anaconda3/lib/python3.9/site-packages/pandas/core/accessor.py:182\u001b[0m, in \u001b[0;36mCachedAccessor.__get__\u001b[0;34m(self, obj, cls)\u001b[0m\n\u001b[1;32m    179\u001b[0m \u001b[38;5;28;01mif\u001b[39;00m obj \u001b[38;5;129;01mis\u001b[39;00m \u001b[38;5;28;01mNone\u001b[39;00m:\n\u001b[1;32m    180\u001b[0m     \u001b[38;5;66;03m# we're accessing the attribute of the class, i.e., Dataset.geo\u001b[39;00m\n\u001b[1;32m    181\u001b[0m     \u001b[38;5;28;01mreturn\u001b[39;00m \u001b[38;5;28mself\u001b[39m\u001b[38;5;241m.\u001b[39m_accessor\n\u001b[0;32m--> 182\u001b[0m accessor_obj \u001b[38;5;241m=\u001b[39m \u001b[38;5;28;43mself\u001b[39;49m\u001b[38;5;241;43m.\u001b[39;49m\u001b[43m_accessor\u001b[49m\u001b[43m(\u001b[49m\u001b[43mobj\u001b[49m\u001b[43m)\u001b[49m\n\u001b[1;32m    183\u001b[0m \u001b[38;5;66;03m# Replace the property with the accessor object. Inspired by:\u001b[39;00m\n\u001b[1;32m    184\u001b[0m \u001b[38;5;66;03m# https://www.pydanny.com/cached-property.html\u001b[39;00m\n\u001b[1;32m    185\u001b[0m \u001b[38;5;66;03m# We need to use object.__setattr__ because we overwrite __setattr__ on\u001b[39;00m\n\u001b[1;32m    186\u001b[0m \u001b[38;5;66;03m# NDFrame\u001b[39;00m\n\u001b[1;32m    187\u001b[0m \u001b[38;5;28mobject\u001b[39m\u001b[38;5;241m.\u001b[39m\u001b[38;5;21m__setattr__\u001b[39m(obj, \u001b[38;5;28mself\u001b[39m\u001b[38;5;241m.\u001b[39m_name, accessor_obj)\n",
      "File \u001b[0;32m~/opt/anaconda3/lib/python3.9/site-packages/pandas/core/indexes/accessors.py:509\u001b[0m, in \u001b[0;36mCombinedDatetimelikeProperties.__new__\u001b[0;34m(cls, data)\u001b[0m\n\u001b[1;32m    506\u001b[0m \u001b[38;5;28;01melif\u001b[39;00m is_period_dtype(data\u001b[38;5;241m.\u001b[39mdtype):\n\u001b[1;32m    507\u001b[0m     \u001b[38;5;28;01mreturn\u001b[39;00m PeriodProperties(data, orig)\n\u001b[0;32m--> 509\u001b[0m \u001b[38;5;28;01mraise\u001b[39;00m \u001b[38;5;167;01mAttributeError\u001b[39;00m(\u001b[38;5;124m\"\u001b[39m\u001b[38;5;124mCan only use .dt accessor with datetimelike values\u001b[39m\u001b[38;5;124m\"\u001b[39m)\n",
      "\u001b[0;31mAttributeError\u001b[0m: Can only use .dt accessor with datetimelike values"
     ]
    }
   ],
   "source": [
    "# Filter the data to include only the year 2020:\n",
    "data_2020 = data[data['TIME'].str.startswith('2020')]\n",
    "\n",
    "# Group the data by month and calculate the average bike usage for each month:\n",
    "monthly_avg = data_2020.groupby(data_2020['TIME'].dt.strftime('%B'))['BIKE.USAGE'].mean()\n"
   ]
  },
  {
   "cell_type": "code",
   "execution_count": 37,
   "id": "79e13d69",
   "metadata": {},
   "outputs": [],
   "source": [
    "import pandas as pd\n",
    "from sklearn.cluster import KMeans\n",
    "from sklearn.preprocessing import StandardScaler\n"
   ]
  },
  {
   "cell_type": "code",
   "execution_count": 38,
   "id": "7be06678",
   "metadata": {},
   "outputs": [
    {
     "data": {
      "text/html": [
       "<div>\n",
       "<style scoped>\n",
       "    .dataframe tbody tr th:only-of-type {\n",
       "        vertical-align: middle;\n",
       "    }\n",
       "\n",
       "    .dataframe tbody tr th {\n",
       "        vertical-align: top;\n",
       "    }\n",
       "\n",
       "    .dataframe thead th {\n",
       "        text-align: right;\n",
       "    }\n",
       "</style>\n",
       "<table border=\"1\" class=\"dataframe\">\n",
       "  <thead>\n",
       "    <tr style=\"text-align: right;\">\n",
       "      <th></th>\n",
       "      <th>Unnamed: 0</th>\n",
       "      <th>NAME</th>\n",
       "      <th>LATITUDE</th>\n",
       "      <th>LONGITUDE</th>\n",
       "      <th>BIKE.STANDS</th>\n",
       "    </tr>\n",
       "  </thead>\n",
       "  <tbody>\n",
       "    <tr>\n",
       "      <th>0</th>\n",
       "      <td>1</td>\n",
       "      <td>CLARENDON ROW</td>\n",
       "      <td>53.340927</td>\n",
       "      <td>-6.262501</td>\n",
       "      <td>31</td>\n",
       "    </tr>\n",
       "    <tr>\n",
       "      <th>1</th>\n",
       "      <td>2</td>\n",
       "      <td>BLESSINGTON STREET</td>\n",
       "      <td>53.356770</td>\n",
       "      <td>-6.268140</td>\n",
       "      <td>20</td>\n",
       "    </tr>\n",
       "    <tr>\n",
       "      <th>2</th>\n",
       "      <td>3</td>\n",
       "      <td>BOLTON STREET</td>\n",
       "      <td>53.351181</td>\n",
       "      <td>-6.269859</td>\n",
       "      <td>20</td>\n",
       "    </tr>\n",
       "    <tr>\n",
       "      <th>3</th>\n",
       "      <td>4</td>\n",
       "      <td>GREEK STREET</td>\n",
       "      <td>53.346874</td>\n",
       "      <td>-6.272976</td>\n",
       "      <td>20</td>\n",
       "    </tr>\n",
       "    <tr>\n",
       "      <th>4</th>\n",
       "      <td>5</td>\n",
       "      <td>CHARLEMONT PLACE</td>\n",
       "      <td>53.330662</td>\n",
       "      <td>-6.260177</td>\n",
       "      <td>40</td>\n",
       "    </tr>\n",
       "  </tbody>\n",
       "</table>\n",
       "</div>"
      ],
      "text/plain": [
       "   Unnamed: 0                NAME   LATITUDE  LONGITUDE  BIKE.STANDS\n",
       "0           1       CLARENDON ROW  53.340927  -6.262501           31\n",
       "1           2  BLESSINGTON STREET  53.356770  -6.268140           20\n",
       "2           3       BOLTON STREET  53.351181  -6.269859           20\n",
       "3           4        GREEK STREET  53.346874  -6.272976           20\n",
       "4           5    CHARLEMONT PLACE  53.330662  -6.260177           40"
      ]
     },
     "execution_count": 38,
     "metadata": {},
     "output_type": "execute_result"
    }
   ],
   "source": [
    "df = pd.read_csv(\"data/stations.csv\")\n",
    "df.head()"
   ]
  },
  {
   "cell_type": "code",
   "execution_count": 39,
   "id": "0b587c56",
   "metadata": {},
   "outputs": [],
   "source": []
  },
  {
   "cell_type": "code",
   "execution_count": 46,
   "id": "c453066b",
   "metadata": {},
   "outputs": [
    {
     "name": "stdout",
     "output_type": "stream",
     "text": [
      "[1 0 0 0 1 1 2 1 1 1 1 0 1 1 0 1 1 1 1 1 1 0 0 1 1 1 0 0 0 0 1 0 1 2 1 1 0\n",
      " 1 0 1 0 1 0 0 0 1 1 1 0 1 1 1 1 1 1 1 1 0 0 0 1 1 1 1 1 1 1 1 1 1 2 2 2 2\n",
      " 2 0 0 0 2 2 2 2 2 2 2 2 2 1 1 1 2 2 2 2 2 2 1 1 2 0 0 0 0 0 0 0 0 0 0 0 1\n",
      " 1 0]\n"
     ]
    },
    {
     "data": {
      "text/plain": [
       "<AxesSubplot:xlabel='LATITUDE', ylabel='LONGITUDE'>"
      ]
     },
     "execution_count": 46,
     "metadata": {},
     "output_type": "execute_result"
    },
    {
     "data": {
      "image/png": "[encoded data removed]",
      "text/plain": [
       "<Figure size 432x288 with 1 Axes>"
      ]
     },
     "metadata": {
      "needs_background": "light"
     },
     "output_type": "display_data"
    }
   ],
   "source": [
    "X = df[['LATITUDE', 'LONGITUDE']]\n",
    "\n",
    "scaler = StandardScaler()\n",
    "X_std = scaler.fit_transform(X)\n",
    "\n",
    "kmeans = KMeans(n_clusters=3, random_state=42).fit(X_std)\n",
    "\n",
    "df['CLUSTER'] = kmeans.labels_\n",
    "\n",
    "print(kmeans.labels_)\n",
    "\n",
    "sns.scatterplot(x=\"LATITUDE\", y=\"LONGITUDE\",hue = 'CLUSTER', data=df, palette='viridis')\n",
    "\n",
    "# Add the centroids to the plot as black diamonds\n",
    "sns.scatterplot(x=centroids[:, 0], y=centroids[:, 1],marker='D', s=100, color='black')\n"
   ]
  },
  {
   "cell_type": "code",
   "execution_count": 32,
   "id": "20fd4906",
   "metadata": {},
   "outputs": [
    {
     "data": {
      "text/plain": [
       "<AxesSubplot:xlabel='LATITUDE', ylabel='LONGITUDE'>"
      ]
     },
     "execution_count": 32,
     "metadata": {},
     "output_type": "execute_result"
    },
    {
     "data": {
      "image/png": "[encoded data removed]",
      "text/plain": [
       "<Figure size 432x288 with 1 Axes>"
      ]
     },
     "metadata": {
      "needs_background": "light"
     },
     "output_type": "display_data"
    }
   ],
   "source": [
    "sns.scatterplot(x=\"LATITUDE\", y=\"LONGITUDE\",hue = 'CLUSTER', data=df, palette='viridis')\n",
    "\n"
   ]
  },
  {
   "cell_type": "code",
   "execution_count": 36,
   "id": "607043a8",
   "metadata": {
    "scrolled": true
   },
   "outputs": [
    {
     "data": {
      "text/plain": [
       "<AxesSubplot:xlabel='LATITUDE', ylabel='LONGITUDE'>"
      ]
     },
     "execution_count": 36,
     "metadata": {},
     "output_type": "execute_result"
    },
    {
     "data": {
      "image/png": "[encoded data removed]",
      "text/plain": [
       "<Figure size 432x288 with 1 Axes>"
      ]
     },
     "metadata": {
      "needs_background": "light"
     },
     "output_type": "display_data"
    }
   ],
   "source": [
    "\n",
    "sns.scatterplot(x=\"LATITUDE\", y=\"LONGITUDE\",hue = 'CLUSTER', data=df, palette='viridis')\n",
    "\n",
    "\n",
    "# Add the centroids to the plot as black diamonds\n",
    "sns.scatterplot(x=centroids[:, 0], y=centroids[:, 1],marker='D', s=100, color='black')\n"
   ]
  },
  {
   "cell_type": "code",
   "execution_count": 49,
   "id": "6a079c68",
   "metadata": {},
   "outputs": [
    {
     "name": "stdout",
     "output_type": "stream",
     "text": [
      "[[53.35604136 -6.27203773]\n",
      " [53.34108627 -6.24685977]\n",
      " [53.34365711 -6.29759778]]\n"
     ]
    },
    {
     "data": {
      "text/plain": [
       "<AxesSubplot:xlabel='LATITUDE', ylabel='LONGITUDE'>"
      ]
     },
     "execution_count": 49,
     "metadata": {},
     "output_type": "execute_result"
    },
    {
     "data": {
      "image/png": "[encoded data removed]",
      "text/plain": [
       "<Figure size 432x288 with 1 Axes>"
      ]
     },
     "metadata": {
      "needs_background": "light"
     },
     "output_type": "display_data"
    }
   ],
   "source": [
    "import pandas as pd\n",
    "import seaborn as sns\n",
    "from sklearn.cluster import KMeans\n",
    "from sklearn.preprocessing import StandardScaler\n",
    "from scipy.spatial.distance import cdist\n",
    "\n",
    "# Load the dataset\n",
    "df = pd.read_csv(\"data/stations.csv\")\n",
    "\n",
    "# Filter the dataframe to include only bike stands = 40\n",
    "df = df[df['BIKE.STANDS'] == 40]\n",
    "\n",
    "# Create a subset of the dataset containing only the latitude and longitude columns\n",
    "X = df[['LATITUDE', 'LONGITUDE']]\n",
    "\n",
    "# Standardize the data\n",
    "scaler = StandardScaler()\n",
    "X_std = scaler.fit_transform(X)\n",
    "\n",
    "# Apply k-means clustering with k=3\n",
    "kmeans = KMeans(n_clusters=3, random_state=42).fit(X_std)\n",
    "\n",
    "# Add the cluster labels to the dataframe\n",
    "df['CLUSTER'] = kmeans.labels_\n",
    "\n",
    "# Print the centroids of each cluster\n",
    "centroids = scaler.inverse_transform(kmeans.cluster_centers_)\n",
    "print(centroids)\n",
    "\n",
    "# Create a scatter plot of the data points colored by cluster\n",
    "sns.scatterplot(x=\"LATITUDE\", y=\"LONGITUDE\",hue = 'CLUSTER', data=df, palette='viridis')\n",
    "\n",
    "# Add the centroids to the plot as black diamonds\n",
    "sns.scatterplot(x=centroids[:, 0], y=centroids[:, 1],marker='D', s=100, color='black')\n"
   ]
  },
  {
   "cell_type": "code",
   "execution_count": 53,
   "id": "fc3ff1ca",
   "metadata": {},
   "outputs": [
    {
     "name": "stdout",
     "output_type": "stream",
     "text": [
      "[LATITUDE     53.356308\n",
      "LONGITUDE    -6.273717\n",
      "Name: 107, dtype: float64, LATITUDE     53.338615\n",
      "LONGITUDE    -6.248606\n",
      "Name: 111, dtype: float64, LATITUDE     53.343899\n",
      "LONGITUDE    -6.297060\n",
      "Name: 93, dtype: float64]\n"
     ]
    }
   ],
   "source": [
    "# Find the nearest point to each cluster\n",
    "distances = cdist(X, centroids, 'euclidean')\n",
    "nearest_centroid_indices = np.argpartition(distances, kth=range(3))[:, :3]\n",
    "\n",
    "# Get the nearest point to each cluster\n",
    "nearest_points = []\n",
    "for i in range(kmeans.n_clusters):\n",
    "    cluster_indices = np.where(kmeans.labels_ == i)[0]\n",
    "    nearest_point_index = np.argmin(distances[cluster_indices, i])\n",
    "    nearest_point = X.iloc[cluster_indices[nearest_point_index]]\n",
    "    nearest_points.append(nearest_point)\n",
    "\n",
    "# Print the nearest point to each cluster\n",
    "print(nearest_points)"
   ]
  },
  {
   "cell_type": "code",
   "execution_count": 3,
   "id": "7fa1b8f5",
   "metadata": {},
   "outputs": [
    {
     "data": {
      "text/plain": [
       "<bound method NDFrame.head of          Unnamed: 0                 TIME                  NAME  BIKE.STANDS  \\\n",
       "0                 1  2018-08-01 12:30:02        ROYAL HOSPITAL           40   \n",
       "1                 2  2018-08-01 12:35:02        ROYAL HOSPITAL           40   \n",
       "2                 3  2018-08-01 12:40:02        ROYAL HOSPITAL           40   \n",
       "3                 4  2018-08-01 12:45:02        ROYAL HOSPITAL           40   \n",
       "4                 5  2018-08-01 12:50:02        ROYAL HOSPITAL           40   \n",
       "...             ...                  ...                   ...          ...   \n",
       "1023656     1023657  2022-01-01 23:35:02  MERRION SQUARE SOUTH           40   \n",
       "1023657     1023658  2022-01-01 23:40:02  MERRION SQUARE SOUTH           40   \n",
       "1023658     1023659  2022-01-01 23:45:02  MERRION SQUARE SOUTH           40   \n",
       "1023659     1023660  2022-01-01 23:50:02  MERRION SQUARE SOUTH           40   \n",
       "1023660     1023661  2022-01-01 23:55:02  MERRION SQUARE SOUTH           40   \n",
       "\n",
       "         AVAILABLE.BIKE.STANDS  AVAILABLE.BIKES STATUS  \n",
       "0                           40                0   Open  \n",
       "1                           40                0   Open  \n",
       "2                           40                0   Open  \n",
       "3                           40                0   Open  \n",
       "4                           40                0   Open  \n",
       "...                        ...              ...    ...  \n",
       "1023656                     39                1   Open  \n",
       "1023657                     39                1   Open  \n",
       "1023658                     39                1   Open  \n",
       "1023659                     39                1   Open  \n",
       "1023660                     39                1   Open  \n",
       "\n",
       "[1023661 rows x 7 columns]>"
      ]
     },
     "execution_count": 3,
     "metadata": {},
     "output_type": "execute_result"
    }
   ],
   "source": [
    "#import data\n",
    "data = pd.read_csv(\"data/bikedata.csv\")\n",
    "data.head"
   ]
  },
  {
   "cell_type": "code",
   "execution_count": 4,
   "id": "61505f58",
   "metadata": {},
   "outputs": [
    {
     "data": {
      "text/html": [
       "<div>\n",
       "<style scoped>\n",
       "    .dataframe tbody tr th:only-of-type {\n",
       "        vertical-align: middle;\n",
       "    }\n",
       "\n",
       "    .dataframe tbody tr th {\n",
       "        vertical-align: top;\n",
       "    }\n",
       "\n",
       "    .dataframe thead th {\n",
       "        text-align: right;\n",
       "    }\n",
       "</style>\n",
       "<table border=\"1\" class=\"dataframe\">\n",
       "  <thead>\n",
       "    <tr style=\"text-align: right;\">\n",
       "      <th></th>\n",
       "      <th>Unnamed: 0</th>\n",
       "      <th>TIME</th>\n",
       "      <th>NAME</th>\n",
       "      <th>BIKE.STANDS</th>\n",
       "      <th>AVAILABLE.BIKE.STANDS</th>\n",
       "      <th>AVAILABLE.BIKES</th>\n",
       "      <th>STATUS</th>\n",
       "      <th>DATE</th>\n",
       "      <th>BIKE.USAGE</th>\n",
       "    </tr>\n",
       "  </thead>\n",
       "  <tbody>\n",
       "    <tr>\n",
       "      <th>0</th>\n",
       "      <td>1</td>\n",
       "      <td>2018-08-01 12:30:02</td>\n",
       "      <td>ROYAL HOSPITAL</td>\n",
       "      <td>40</td>\n",
       "      <td>40</td>\n",
       "      <td>0</td>\n",
       "      <td>Open</td>\n",
       "      <td>2018-08-01</td>\n",
       "      <td>1.0</td>\n",
       "    </tr>\n",
       "    <tr>\n",
       "      <th>1</th>\n",
       "      <td>2</td>\n",
       "      <td>2018-08-01 12:35:02</td>\n",
       "      <td>ROYAL HOSPITAL</td>\n",
       "      <td>40</td>\n",
       "      <td>40</td>\n",
       "      <td>0</td>\n",
       "      <td>Open</td>\n",
       "      <td>2018-08-01</td>\n",
       "      <td>1.0</td>\n",
       "    </tr>\n",
       "    <tr>\n",
       "      <th>2</th>\n",
       "      <td>3</td>\n",
       "      <td>2018-08-01 12:40:02</td>\n",
       "      <td>ROYAL HOSPITAL</td>\n",
       "      <td>40</td>\n",
       "      <td>40</td>\n",
       "      <td>0</td>\n",
       "      <td>Open</td>\n",
       "      <td>2018-08-01</td>\n",
       "      <td>1.0</td>\n",
       "    </tr>\n",
       "    <tr>\n",
       "      <th>3</th>\n",
       "      <td>4</td>\n",
       "      <td>2018-08-01 12:45:02</td>\n",
       "      <td>ROYAL HOSPITAL</td>\n",
       "      <td>40</td>\n",
       "      <td>40</td>\n",
       "      <td>0</td>\n",
       "      <td>Open</td>\n",
       "      <td>2018-08-01</td>\n",
       "      <td>1.0</td>\n",
       "    </tr>\n",
       "    <tr>\n",
       "      <th>4</th>\n",
       "      <td>5</td>\n",
       "      <td>2018-08-01 12:50:02</td>\n",
       "      <td>ROYAL HOSPITAL</td>\n",
       "      <td>40</td>\n",
       "      <td>40</td>\n",
       "      <td>0</td>\n",
       "      <td>Open</td>\n",
       "      <td>2018-08-01</td>\n",
       "      <td>1.0</td>\n",
       "    </tr>\n",
       "  </tbody>\n",
       "</table>\n",
       "</div>"
      ],
      "text/plain": [
       "   Unnamed: 0                TIME            NAME  BIKE.STANDS  \\\n",
       "0           1 2018-08-01 12:30:02  ROYAL HOSPITAL           40   \n",
       "1           2 2018-08-01 12:35:02  ROYAL HOSPITAL           40   \n",
       "2           3 2018-08-01 12:40:02  ROYAL HOSPITAL           40   \n",
       "3           4 2018-08-01 12:45:02  ROYAL HOSPITAL           40   \n",
       "4           5 2018-08-01 12:50:02  ROYAL HOSPITAL           40   \n",
       "\n",
       "   AVAILABLE.BIKE.STANDS  AVAILABLE.BIKES STATUS       DATE  BIKE.USAGE  \n",
       "0                     40                0   Open 2018-08-01         1.0  \n",
       "1                     40                0   Open 2018-08-01         1.0  \n",
       "2                     40                0   Open 2018-08-01         1.0  \n",
       "3                     40                0   Open 2018-08-01         1.0  \n",
       "4                     40                0   Open 2018-08-01         1.0  "
      ]
     },
     "execution_count": 4,
     "metadata": {},
     "output_type": "execute_result"
    }
   ],
   "source": [
    "#Parse dates and times\n",
    "data.TIME = pd.to_datetime(data.TIME, format = \"%Y-%m-%d %H:%M:%S\")\n",
    "data[\"DATE\"] = pd.DatetimeIndex(data.TIME.dt.date)\n",
    "data.head()\n",
    "#Calculate bike usage\n",
    "data[\"BIKE.USAGE\"] = data[\"AVAILABLE.BIKE.STANDS\"]/data[\"BIKE.STANDS\"]\n",
    "data.head()"
   ]
  },
  {
   "cell_type": "code",
   "execution_count": 5,
   "id": "be8c8ae5",
   "metadata": {},
   "outputs": [],
   "source": [
    "#create masks\n",
    "dataPR = data[data.NAME == \"PHIBSBOROUGH ROAD\"]\n",
    "dataMS = data[data.NAME == \"MERRION SQUARE SOUTH\"]\n",
    "dataRH = data[data.NAME == \"ROYAL HOSPITAL\"]\n",
    "\n",
    "\n",
    "#Calculate weekly average usage\n",
    "PR_weekly_avg = dataPR.groupby(pd.Grouper(key='DATE', freq='W'))['BIKE.USAGE'].mean()\n",
    "PR_date_vector = pd.DatetimeIndex(dataPR[\"DATE\"].dt.date)\n",
    "\n",
    "MS_weekly_avg = dataMS.groupby(pd.Grouper(key='DATE', freq='W'))['BIKE.USAGE'].mean()\n",
    "MS_date_vector = pd.DatetimeIndex(dataMS[\"DATE\"].dt.date)\n",
    "\n",
    "RH_weekly_avg = dataRH.groupby(pd.Grouper(key='DATE', freq='W'))['BIKE.USAGE'].mean()\n",
    "RH_date_vector = pd.DatetimeIndex(dataRH[\"DATE\"].dt.date)"
   ]
  },
  {
   "cell_type": "code",
   "execution_count": 6,
   "id": "ac7485dc",
   "metadata": {},
   "outputs": [
    {
     "data": {
      "text/plain": [
       "<bound method NDFrame.head of          Unnamed: 0                TIME               NAME  BIKE.STANDS  \\\n",
       "138             139 2018-08-01 12:30:02  PHIBSBOROUGH ROAD           40   \n",
       "139             140 2018-08-01 12:35:02  PHIBSBOROUGH ROAD           40   \n",
       "140             141 2018-08-01 12:40:02  PHIBSBOROUGH ROAD           40   \n",
       "141             142 2018-08-01 12:45:02  PHIBSBOROUGH ROAD           40   \n",
       "142             143 2018-08-01 12:50:02  PHIBSBOROUGH ROAD           40   \n",
       "...             ...                 ...                ...          ...   \n",
       "1023368     1023369 2022-01-01 23:35:02  PHIBSBOROUGH ROAD           40   \n",
       "1023369     1023370 2022-01-01 23:40:02  PHIBSBOROUGH ROAD           40   \n",
       "1023370     1023371 2022-01-01 23:45:02  PHIBSBOROUGH ROAD           40   \n",
       "1023371     1023372 2022-01-01 23:50:02  PHIBSBOROUGH ROAD           40   \n",
       "1023372     1023373 2022-01-01 23:55:02  PHIBSBOROUGH ROAD           40   \n",
       "\n",
       "         AVAILABLE.BIKE.STANDS  AVAILABLE.BIKES STATUS       DATE  BIKE.USAGE  \n",
       "138                         40                0   Open 2018-08-01         1.0  \n",
       "139                         40                0   Open 2018-08-01         1.0  \n",
       "140                         40                0   Open 2018-08-01         1.0  \n",
       "141                         40                0   Open 2018-08-01         1.0  \n",
       "142                         40                0   Open 2018-08-01         1.0  \n",
       "...                        ...              ...    ...        ...         ...  \n",
       "1023368                     16               24   Open 2022-01-01         0.4  \n",
       "1023369                     16               24   Open 2022-01-01         0.4  \n",
       "1023370                     16               24   Open 2022-01-01         0.4  \n",
       "1023371                     16               24   Open 2022-01-01         0.4  \n",
       "1023372                     16               24   Open 2022-01-01         0.4  \n",
       "\n",
       "[342924 rows x 9 columns]>"
      ]
     },
     "execution_count": 6,
     "metadata": {},
     "output_type": "execute_result"
    }
   ],
   "source": [
    "dataPR.head"
   ]
  },
  {
   "cell_type": "code",
   "execution_count": 9,
   "id": "3e6eff63",
   "metadata": {},
   "outputs": [
    {
     "data": {
      "text/html": [
       "<div>\n",
       "<style scoped>\n",
       "    .dataframe tbody tr th:only-of-type {\n",
       "        vertical-align: middle;\n",
       "    }\n",
       "\n",
       "    .dataframe tbody tr th {\n",
       "        vertical-align: top;\n",
       "    }\n",
       "\n",
       "    .dataframe thead th {\n",
       "        text-align: right;\n",
       "    }\n",
       "</style>\n",
       "<table border=\"1\" class=\"dataframe\">\n",
       "  <thead>\n",
       "    <tr style=\"text-align: right;\">\n",
       "      <th></th>\n",
       "      <th>PR_weekly_avg</th>\n",
       "      <th>DATE</th>\n",
       "    </tr>\n",
       "  </thead>\n",
       "  <tbody>\n",
       "    <tr>\n",
       "      <th>138</th>\n",
       "      <td>NaN</td>\n",
       "      <td>2018-08-01</td>\n",
       "    </tr>\n",
       "    <tr>\n",
       "      <th>139</th>\n",
       "      <td>NaN</td>\n",
       "      <td>2018-08-01</td>\n",
       "    </tr>\n",
       "    <tr>\n",
       "      <th>140</th>\n",
       "      <td>NaN</td>\n",
       "      <td>2018-08-01</td>\n",
       "    </tr>\n",
       "    <tr>\n",
       "      <th>141</th>\n",
       "      <td>NaN</td>\n",
       "      <td>2018-08-01</td>\n",
       "    </tr>\n",
       "    <tr>\n",
       "      <th>142</th>\n",
       "      <td>NaN</td>\n",
       "      <td>2018-08-01</td>\n",
       "    </tr>\n",
       "    <tr>\n",
       "      <th>...</th>\n",
       "      <td>...</td>\n",
       "      <td>...</td>\n",
       "    </tr>\n",
       "    <tr>\n",
       "      <th>1023368</th>\n",
       "      <td>NaN</td>\n",
       "      <td>2022-01-01</td>\n",
       "    </tr>\n",
       "    <tr>\n",
       "      <th>1023369</th>\n",
       "      <td>NaN</td>\n",
       "      <td>2022-01-01</td>\n",
       "    </tr>\n",
       "    <tr>\n",
       "      <th>1023370</th>\n",
       "      <td>NaN</td>\n",
       "      <td>2022-01-01</td>\n",
       "    </tr>\n",
       "    <tr>\n",
       "      <th>1023371</th>\n",
       "      <td>NaN</td>\n",
       "      <td>2022-01-01</td>\n",
       "    </tr>\n",
       "    <tr>\n",
       "      <th>1023372</th>\n",
       "      <td>NaN</td>\n",
       "      <td>2022-01-01</td>\n",
       "    </tr>\n",
       "  </tbody>\n",
       "</table>\n",
       "<p>342924 rows × 2 columns</p>\n",
       "</div>"
      ],
      "text/plain": [
       "         PR_weekly_avg       DATE\n",
       "138                NaN 2018-08-01\n",
       "139                NaN 2018-08-01\n",
       "140                NaN 2018-08-01\n",
       "141                NaN 2018-08-01\n",
       "142                NaN 2018-08-01\n",
       "...                ...        ...\n",
       "1023368            NaN 2022-01-01\n",
       "1023369            NaN 2022-01-01\n",
       "1023370            NaN 2022-01-01\n",
       "1023371            NaN 2022-01-01\n",
       "1023372            NaN 2022-01-01\n",
       "\n",
       "[342924 rows x 2 columns]"
      ]
     },
     "execution_count": 9,
     "metadata": {},
     "output_type": "execute_result"
    }
   ],
   "source": [
    "#Make it ready for regression, as a DataFrame\n",
    "PR_weekly_avgVSTime = pd.DataFrame(dataPR, columns = [\"PR_weekly_avg\", \"DATE\"])\n",
    "\n",
    "PR_weekly_avgVSTime"
   ]
  },
  {
   "cell_type": "code",
   "execution_count": 46,
   "id": "d3d09d26",
   "metadata": {},
   "outputs": [
    {
     "ename": "AttributeError",
     "evalue": "'SeriesGroupBy' object has no attribute 'index'",
     "output_type": "error",
     "traceback": [
      "\u001b[0;31m---------------------------------------------------------------------------\u001b[0m",
      "\u001b[0;31mAttributeError\u001b[0m                            Traceback (most recent call last)",
      "Input \u001b[0;32mIn [46]\u001b[0m, in \u001b[0;36m<cell line: 2>\u001b[0;34m()\u001b[0m\n\u001b[1;32m      1\u001b[0m \u001b[38;5;66;03m# Create a new DataFrame with weekly average usage and corresponding date\u001b[39;00m\n\u001b[0;32m----> 2\u001b[0m PR_weekly_avgVSTime \u001b[38;5;241m=\u001b[39m pd\u001b[38;5;241m.\u001b[39mDataFrame({\u001b[38;5;124m'\u001b[39m\u001b[38;5;124mdate\u001b[39m\u001b[38;5;124m'\u001b[39m: \u001b[43mPR_weekly_avg\u001b[49m\u001b[38;5;241;43m.\u001b[39;49m\u001b[43mindex\u001b[49m, \u001b[38;5;124m'\u001b[39m\u001b[38;5;124mavg\u001b[39m\u001b[38;5;124m'\u001b[39m: PR_weekly_avg\u001b[38;5;241m.\u001b[39mvalues})\n\u001b[1;32m      3\u001b[0m PR_weekly_avgVSTime\n\u001b[1;32m      5\u001b[0m PR_weekly_avgVSTime\u001b[38;5;241m.\u001b[39mdropna()\n",
      "File \u001b[0;32m~/opt/anaconda3/lib/python3.9/site-packages/pandas/core/groupby/groupby.py:904\u001b[0m, in \u001b[0;36mGroupBy.__getattr__\u001b[0;34m(self, attr)\u001b[0m\n\u001b[1;32m    901\u001b[0m \u001b[38;5;28;01mif\u001b[39;00m attr \u001b[38;5;129;01min\u001b[39;00m \u001b[38;5;28mself\u001b[39m\u001b[38;5;241m.\u001b[39mobj:\n\u001b[1;32m    902\u001b[0m     \u001b[38;5;28;01mreturn\u001b[39;00m \u001b[38;5;28mself\u001b[39m[attr]\n\u001b[0;32m--> 904\u001b[0m \u001b[38;5;28;01mraise\u001b[39;00m \u001b[38;5;167;01mAttributeError\u001b[39;00m(\n\u001b[1;32m    905\u001b[0m     \u001b[38;5;124mf\u001b[39m\u001b[38;5;124m\"\u001b[39m\u001b[38;5;124m'\u001b[39m\u001b[38;5;132;01m{\u001b[39;00m\u001b[38;5;28mtype\u001b[39m(\u001b[38;5;28mself\u001b[39m)\u001b[38;5;241m.\u001b[39m\u001b[38;5;18m__name__\u001b[39m\u001b[38;5;132;01m}\u001b[39;00m\u001b[38;5;124m'\u001b[39m\u001b[38;5;124m object has no attribute \u001b[39m\u001b[38;5;124m'\u001b[39m\u001b[38;5;132;01m{\u001b[39;00mattr\u001b[38;5;132;01m}\u001b[39;00m\u001b[38;5;124m'\u001b[39m\u001b[38;5;124m\"\u001b[39m\n\u001b[1;32m    906\u001b[0m )\n",
      "\u001b[0;31mAttributeError\u001b[0m: 'SeriesGroupBy' object has no attribute 'index'"
     ]
    }
   ],
   "source": [
    "# Create a new DataFrame with weekly average usage and corresponding date\n",
    "PR_weekly_avgVSTime = pd.DataFrame({'date': PR_weekly_avg.index, 'avg': PR_weekly_avg.values})\n",
    "PR_weekly_avgVSTime\n",
    "\n",
    "PR_weekly_avgVSTime.dropna()"
   ]
  },
  {
   "cell_type": "code",
   "execution_count": 13,
   "id": "048c4ca9",
   "metadata": {},
   "outputs": [
    {
     "data": {
      "text/html": [
       "<div>\n",
       "<style scoped>\n",
       "    .dataframe tbody tr th:only-of-type {\n",
       "        vertical-align: middle;\n",
       "    }\n",
       "\n",
       "    .dataframe tbody tr th {\n",
       "        vertical-align: top;\n",
       "    }\n",
       "\n",
       "    .dataframe thead th {\n",
       "        text-align: right;\n",
       "    }\n",
       "</style>\n",
       "<table border=\"1\" class=\"dataframe\">\n",
       "  <thead>\n",
       "    <tr style=\"text-align: right;\">\n",
       "      <th></th>\n",
       "      <th>date</th>\n",
       "      <th>avg</th>\n",
       "    </tr>\n",
       "  </thead>\n",
       "  <tbody>\n",
       "    <tr>\n",
       "      <th>0</th>\n",
       "      <td>2018-08-05</td>\n",
       "      <td>0.541047</td>\n",
       "    </tr>\n",
       "    <tr>\n",
       "      <th>1</th>\n",
       "      <td>2018-08-12</td>\n",
       "      <td>0.779973</td>\n",
       "    </tr>\n",
       "    <tr>\n",
       "      <th>2</th>\n",
       "      <td>2018-08-19</td>\n",
       "      <td>0.650087</td>\n",
       "    </tr>\n",
       "    <tr>\n",
       "      <th>3</th>\n",
       "      <td>2018-08-26</td>\n",
       "      <td>0.861151</td>\n",
       "    </tr>\n",
       "    <tr>\n",
       "      <th>4</th>\n",
       "      <td>2018-09-02</td>\n",
       "      <td>0.812487</td>\n",
       "    </tr>\n",
       "  </tbody>\n",
       "</table>\n",
       "</div>"
      ],
      "text/plain": [
       "        date       avg\n",
       "0 2018-08-05  0.541047\n",
       "1 2018-08-12  0.779973\n",
       "2 2018-08-19  0.650087\n",
       "3 2018-08-26  0.861151\n",
       "4 2018-09-02  0.812487"
      ]
     },
     "execution_count": 13,
     "metadata": {},
     "output_type": "execute_result"
    }
   ],
   "source": [
    "dictPR = {'date': PR_weekly_avg.index, 'avg': PR_weekly_avg.values}\n",
    "regressionPR = pd.DataFrame(data=dictPR)\n",
    "regressionPR.head()\n",
    "\n",
    "regressionPR.dropna()"
   ]
  },
  {
   "cell_type": "code",
   "execution_count": 17,
   "id": "83387417",
   "metadata": {},
   "outputs": [],
   "source": [
    "%matplotlib inline\n",
    "import numpy as np\n",
    "import pandas as pd\n",
    "import matplotlib.pyplot as plt\n",
    "from sklearn.model_selection import cross_val_score\n",
    "from sklearn.model_selection import train_test_split\n",
    "from sklearn.model_selection import ShuffleSplit"
   ]
  },
  {
   "cell_type": "code",
   "execution_count": 33,
   "id": "e38dea4e",
   "metadata": {},
   "outputs": [],
   "source": [
    "#We split the data into a training and testing part \n",
    "#for both the 'Engine size' (as X) and the 'Price' (as y, our answers)\n",
    "#With a randomisation of the dataset\n",
    "BU_train, BU_test, date_train, date_test = train_test_split(PR_weekly_avgVSTime.avg, PR_weekly_avgVSTime.date, test_size=0.2, random_state=42)"
   ]
  },
  {
   "cell_type": "code",
   "execution_count": 34,
   "id": "9c53aabb",
   "metadata": {},
   "outputs": [],
   "source": [
    "#Adapting to array fromat (not important, formatting to adapt to a different library)\n",
    "BU_train_arr = BU_train.array\n",
    "BU_test_arr = BU_test.array\n",
    "date_train_arr = date_train.array.to_numpy().reshape(-1,1)\n",
    "date_test_arr = date_test.array.to_numpy().reshape(-1,1)"
   ]
  },
  {
   "cell_type": "code",
   "execution_count": 21,
   "id": "6a34d274",
   "metadata": {},
   "outputs": [],
   "source": [
    "from sklearn.linear_model import LinearRegression\n",
    "#Again scikit-learn library to help us"
   ]
  },
  {
   "cell_type": "code",
   "execution_count": 44,
   "id": "c9002fc1",
   "metadata": {},
   "outputs": [
    {
     "ename": "ValueError",
     "evalue": "Input contains NaN, infinity or a value too large for dtype('float64').",
     "output_type": "error",
     "traceback": [
      "\u001b[0;31m---------------------------------------------------------------------------\u001b[0m",
      "\u001b[0;31mValueError\u001b[0m                                Traceback (most recent call last)",
      "Input \u001b[0;32mIn [44]\u001b[0m, in \u001b[0;36m<cell line: 6>\u001b[0;34m()\u001b[0m\n\u001b[1;32m      2\u001b[0m data \u001b[38;5;241m=\u001b[39m data\u001b[38;5;241m.\u001b[39mdropna()\n\u001b[1;32m      4\u001b[0m \u001b[38;5;66;03m#Linear regression\u001b[39;00m\n\u001b[1;32m      5\u001b[0m \u001b[38;5;66;03m#Again store results (weights) in the 'reg' object\u001b[39;00m\n\u001b[0;32m----> 6\u001b[0m reg \u001b[38;5;241m=\u001b[39m \u001b[43mLinearRegression\u001b[49m\u001b[43m(\u001b[49m\u001b[43m)\u001b[49m\u001b[38;5;241;43m.\u001b[39;49m\u001b[43mfit\u001b[49m\u001b[43m(\u001b[49m\u001b[43mdate_train_arr\u001b[49m\u001b[43m,\u001b[49m\u001b[43mBU_train_arr\u001b[49m\u001b[43m)\u001b[49m\n\u001b[1;32m      8\u001b[0m \u001b[38;5;66;03m#Predict price based on engine size\u001b[39;00m\n\u001b[1;32m      9\u001b[0m fitted_train_Price \u001b[38;5;241m=\u001b[39m reg\u001b[38;5;241m.\u001b[39mpredict(date_train_arr)\n",
      "File \u001b[0;32m~/opt/anaconda3/lib/python3.9/site-packages/sklearn/linear_model/_base.py:662\u001b[0m, in \u001b[0;36mLinearRegression.fit\u001b[0;34m(self, X, y, sample_weight)\u001b[0m\n\u001b[1;32m    658\u001b[0m n_jobs_ \u001b[38;5;241m=\u001b[39m \u001b[38;5;28mself\u001b[39m\u001b[38;5;241m.\u001b[39mn_jobs\n\u001b[1;32m    660\u001b[0m accept_sparse \u001b[38;5;241m=\u001b[39m \u001b[38;5;28;01mFalse\u001b[39;00m \u001b[38;5;28;01mif\u001b[39;00m \u001b[38;5;28mself\u001b[39m\u001b[38;5;241m.\u001b[39mpositive \u001b[38;5;28;01melse\u001b[39;00m [\u001b[38;5;124m\"\u001b[39m\u001b[38;5;124mcsr\u001b[39m\u001b[38;5;124m\"\u001b[39m, \u001b[38;5;124m\"\u001b[39m\u001b[38;5;124mcsc\u001b[39m\u001b[38;5;124m\"\u001b[39m, \u001b[38;5;124m\"\u001b[39m\u001b[38;5;124mcoo\u001b[39m\u001b[38;5;124m\"\u001b[39m]\n\u001b[0;32m--> 662\u001b[0m X, y \u001b[38;5;241m=\u001b[39m \u001b[38;5;28;43mself\u001b[39;49m\u001b[38;5;241;43m.\u001b[39;49m\u001b[43m_validate_data\u001b[49m\u001b[43m(\u001b[49m\n\u001b[1;32m    663\u001b[0m \u001b[43m    \u001b[49m\u001b[43mX\u001b[49m\u001b[43m,\u001b[49m\u001b[43m \u001b[49m\u001b[43my\u001b[49m\u001b[43m,\u001b[49m\u001b[43m \u001b[49m\u001b[43maccept_sparse\u001b[49m\u001b[38;5;241;43m=\u001b[39;49m\u001b[43maccept_sparse\u001b[49m\u001b[43m,\u001b[49m\u001b[43m \u001b[49m\u001b[43my_numeric\u001b[49m\u001b[38;5;241;43m=\u001b[39;49m\u001b[38;5;28;43;01mTrue\u001b[39;49;00m\u001b[43m,\u001b[49m\u001b[43m \u001b[49m\u001b[43mmulti_output\u001b[49m\u001b[38;5;241;43m=\u001b[39;49m\u001b[38;5;28;43;01mTrue\u001b[39;49;00m\n\u001b[1;32m    664\u001b[0m \u001b[43m\u001b[49m\u001b[43m)\u001b[49m\n\u001b[1;32m    666\u001b[0m \u001b[38;5;28;01mif\u001b[39;00m sample_weight \u001b[38;5;129;01mis\u001b[39;00m \u001b[38;5;129;01mnot\u001b[39;00m \u001b[38;5;28;01mNone\u001b[39;00m:\n\u001b[1;32m    667\u001b[0m     sample_weight \u001b[38;5;241m=\u001b[39m _check_sample_weight(sample_weight, X, dtype\u001b[38;5;241m=\u001b[39mX\u001b[38;5;241m.\u001b[39mdtype)\n",
      "File \u001b[0;32m~/opt/anaconda3/lib/python3.9/site-packages/sklearn/base.py:581\u001b[0m, in \u001b[0;36mBaseEstimator._validate_data\u001b[0;34m(self, X, y, reset, validate_separately, **check_params)\u001b[0m\n\u001b[1;32m    579\u001b[0m         y \u001b[38;5;241m=\u001b[39m check_array(y, \u001b[38;5;241m*\u001b[39m\u001b[38;5;241m*\u001b[39mcheck_y_params)\n\u001b[1;32m    580\u001b[0m     \u001b[38;5;28;01melse\u001b[39;00m:\n\u001b[0;32m--> 581\u001b[0m         X, y \u001b[38;5;241m=\u001b[39m \u001b[43mcheck_X_y\u001b[49m\u001b[43m(\u001b[49m\u001b[43mX\u001b[49m\u001b[43m,\u001b[49m\u001b[43m \u001b[49m\u001b[43my\u001b[49m\u001b[43m,\u001b[49m\u001b[43m \u001b[49m\u001b[38;5;241;43m*\u001b[39;49m\u001b[38;5;241;43m*\u001b[39;49m\u001b[43mcheck_params\u001b[49m\u001b[43m)\u001b[49m\n\u001b[1;32m    582\u001b[0m     out \u001b[38;5;241m=\u001b[39m X, y\n\u001b[1;32m    584\u001b[0m \u001b[38;5;28;01mif\u001b[39;00m \u001b[38;5;129;01mnot\u001b[39;00m no_val_X \u001b[38;5;129;01mand\u001b[39;00m check_params\u001b[38;5;241m.\u001b[39mget(\u001b[38;5;124m\"\u001b[39m\u001b[38;5;124mensure_2d\u001b[39m\u001b[38;5;124m\"\u001b[39m, \u001b[38;5;28;01mTrue\u001b[39;00m):\n",
      "File \u001b[0;32m~/opt/anaconda3/lib/python3.9/site-packages/sklearn/utils/validation.py:979\u001b[0m, in \u001b[0;36mcheck_X_y\u001b[0;34m(X, y, accept_sparse, accept_large_sparse, dtype, order, copy, force_all_finite, ensure_2d, allow_nd, multi_output, ensure_min_samples, ensure_min_features, y_numeric, estimator)\u001b[0m\n\u001b[1;32m    962\u001b[0m     \u001b[38;5;28;01mraise\u001b[39;00m \u001b[38;5;167;01mValueError\u001b[39;00m(\u001b[38;5;124m\"\u001b[39m\u001b[38;5;124my cannot be None\u001b[39m\u001b[38;5;124m\"\u001b[39m)\n\u001b[1;32m    964\u001b[0m X \u001b[38;5;241m=\u001b[39m check_array(\n\u001b[1;32m    965\u001b[0m     X,\n\u001b[1;32m    966\u001b[0m     accept_sparse\u001b[38;5;241m=\u001b[39maccept_sparse,\n\u001b[0;32m   (...)\u001b[0m\n\u001b[1;32m    976\u001b[0m     estimator\u001b[38;5;241m=\u001b[39mestimator,\n\u001b[1;32m    977\u001b[0m )\n\u001b[0;32m--> 979\u001b[0m y \u001b[38;5;241m=\u001b[39m \u001b[43m_check_y\u001b[49m\u001b[43m(\u001b[49m\u001b[43my\u001b[49m\u001b[43m,\u001b[49m\u001b[43m \u001b[49m\u001b[43mmulti_output\u001b[49m\u001b[38;5;241;43m=\u001b[39;49m\u001b[43mmulti_output\u001b[49m\u001b[43m,\u001b[49m\u001b[43m \u001b[49m\u001b[43my_numeric\u001b[49m\u001b[38;5;241;43m=\u001b[39;49m\u001b[43my_numeric\u001b[49m\u001b[43m)\u001b[49m\n\u001b[1;32m    981\u001b[0m check_consistent_length(X, y)\n\u001b[1;32m    983\u001b[0m \u001b[38;5;28;01mreturn\u001b[39;00m X, y\n",
      "File \u001b[0;32m~/opt/anaconda3/lib/python3.9/site-packages/sklearn/utils/validation.py:989\u001b[0m, in \u001b[0;36m_check_y\u001b[0;34m(y, multi_output, y_numeric)\u001b[0m\n\u001b[1;32m    987\u001b[0m \u001b[38;5;124;03m\"\"\"Isolated part of check_X_y dedicated to y validation\"\"\"\u001b[39;00m\n\u001b[1;32m    988\u001b[0m \u001b[38;5;28;01mif\u001b[39;00m multi_output:\n\u001b[0;32m--> 989\u001b[0m     y \u001b[38;5;241m=\u001b[39m \u001b[43mcheck_array\u001b[49m\u001b[43m(\u001b[49m\n\u001b[1;32m    990\u001b[0m \u001b[43m        \u001b[49m\u001b[43my\u001b[49m\u001b[43m,\u001b[49m\u001b[43m \u001b[49m\u001b[43maccept_sparse\u001b[49m\u001b[38;5;241;43m=\u001b[39;49m\u001b[38;5;124;43m\"\u001b[39;49m\u001b[38;5;124;43mcsr\u001b[39;49m\u001b[38;5;124;43m\"\u001b[39;49m\u001b[43m,\u001b[49m\u001b[43m \u001b[49m\u001b[43mforce_all_finite\u001b[49m\u001b[38;5;241;43m=\u001b[39;49m\u001b[38;5;28;43;01mTrue\u001b[39;49;00m\u001b[43m,\u001b[49m\u001b[43m \u001b[49m\u001b[43mensure_2d\u001b[49m\u001b[38;5;241;43m=\u001b[39;49m\u001b[38;5;28;43;01mFalse\u001b[39;49;00m\u001b[43m,\u001b[49m\u001b[43m \u001b[49m\u001b[43mdtype\u001b[49m\u001b[38;5;241;43m=\u001b[39;49m\u001b[38;5;28;43;01mNone\u001b[39;49;00m\n\u001b[1;32m    991\u001b[0m \u001b[43m    \u001b[49m\u001b[43m)\u001b[49m\n\u001b[1;32m    992\u001b[0m \u001b[38;5;28;01melse\u001b[39;00m:\n\u001b[1;32m    993\u001b[0m     y \u001b[38;5;241m=\u001b[39m column_or_1d(y, warn\u001b[38;5;241m=\u001b[39m\u001b[38;5;28;01mTrue\u001b[39;00m)\n",
      "File \u001b[0;32m~/opt/anaconda3/lib/python3.9/site-packages/sklearn/utils/validation.py:800\u001b[0m, in \u001b[0;36mcheck_array\u001b[0;34m(array, accept_sparse, accept_large_sparse, dtype, order, copy, force_all_finite, ensure_2d, allow_nd, ensure_min_samples, ensure_min_features, estimator)\u001b[0m\n\u001b[1;32m    794\u001b[0m         \u001b[38;5;28;01mraise\u001b[39;00m \u001b[38;5;167;01mValueError\u001b[39;00m(\n\u001b[1;32m    795\u001b[0m             \u001b[38;5;124m\"\u001b[39m\u001b[38;5;124mFound array with dim \u001b[39m\u001b[38;5;132;01m%d\u001b[39;00m\u001b[38;5;124m. \u001b[39m\u001b[38;5;132;01m%s\u001b[39;00m\u001b[38;5;124m expected <= 2.\u001b[39m\u001b[38;5;124m\"\u001b[39m\n\u001b[1;32m    796\u001b[0m             \u001b[38;5;241m%\u001b[39m (array\u001b[38;5;241m.\u001b[39mndim, estimator_name)\n\u001b[1;32m    797\u001b[0m         )\n\u001b[1;32m    799\u001b[0m     \u001b[38;5;28;01mif\u001b[39;00m force_all_finite:\n\u001b[0;32m--> 800\u001b[0m         \u001b[43m_assert_all_finite\u001b[49m\u001b[43m(\u001b[49m\u001b[43marray\u001b[49m\u001b[43m,\u001b[49m\u001b[43m \u001b[49m\u001b[43mallow_nan\u001b[49m\u001b[38;5;241;43m=\u001b[39;49m\u001b[43mforce_all_finite\u001b[49m\u001b[43m \u001b[49m\u001b[38;5;241;43m==\u001b[39;49m\u001b[43m \u001b[49m\u001b[38;5;124;43m\"\u001b[39;49m\u001b[38;5;124;43mallow-nan\u001b[39;49m\u001b[38;5;124;43m\"\u001b[39;49m\u001b[43m)\u001b[49m\n\u001b[1;32m    802\u001b[0m \u001b[38;5;28;01mif\u001b[39;00m ensure_min_samples \u001b[38;5;241m>\u001b[39m \u001b[38;5;241m0\u001b[39m:\n\u001b[1;32m    803\u001b[0m     n_samples \u001b[38;5;241m=\u001b[39m _num_samples(array)\n",
      "File \u001b[0;32m~/opt/anaconda3/lib/python3.9/site-packages/sklearn/utils/validation.py:114\u001b[0m, in \u001b[0;36m_assert_all_finite\u001b[0;34m(X, allow_nan, msg_dtype)\u001b[0m\n\u001b[1;32m    107\u001b[0m     \u001b[38;5;28;01mif\u001b[39;00m (\n\u001b[1;32m    108\u001b[0m         allow_nan\n\u001b[1;32m    109\u001b[0m         \u001b[38;5;129;01mand\u001b[39;00m np\u001b[38;5;241m.\u001b[39misinf(X)\u001b[38;5;241m.\u001b[39many()\n\u001b[1;32m    110\u001b[0m         \u001b[38;5;129;01mor\u001b[39;00m \u001b[38;5;129;01mnot\u001b[39;00m allow_nan\n\u001b[1;32m    111\u001b[0m         \u001b[38;5;129;01mand\u001b[39;00m \u001b[38;5;129;01mnot\u001b[39;00m np\u001b[38;5;241m.\u001b[39misfinite(X)\u001b[38;5;241m.\u001b[39mall()\n\u001b[1;32m    112\u001b[0m     ):\n\u001b[1;32m    113\u001b[0m         type_err \u001b[38;5;241m=\u001b[39m \u001b[38;5;124m\"\u001b[39m\u001b[38;5;124minfinity\u001b[39m\u001b[38;5;124m\"\u001b[39m \u001b[38;5;28;01mif\u001b[39;00m allow_nan \u001b[38;5;28;01melse\u001b[39;00m \u001b[38;5;124m\"\u001b[39m\u001b[38;5;124mNaN, infinity\u001b[39m\u001b[38;5;124m\"\u001b[39m\n\u001b[0;32m--> 114\u001b[0m         \u001b[38;5;28;01mraise\u001b[39;00m \u001b[38;5;167;01mValueError\u001b[39;00m(\n\u001b[1;32m    115\u001b[0m             msg_err\u001b[38;5;241m.\u001b[39mformat(\n\u001b[1;32m    116\u001b[0m                 type_err, msg_dtype \u001b[38;5;28;01mif\u001b[39;00m msg_dtype \u001b[38;5;129;01mis\u001b[39;00m \u001b[38;5;129;01mnot\u001b[39;00m \u001b[38;5;28;01mNone\u001b[39;00m \u001b[38;5;28;01melse\u001b[39;00m X\u001b[38;5;241m.\u001b[39mdtype\n\u001b[1;32m    117\u001b[0m             )\n\u001b[1;32m    118\u001b[0m         )\n\u001b[1;32m    119\u001b[0m \u001b[38;5;66;03m# for object dtype data, we only check for NaNs (GH-13254)\u001b[39;00m\n\u001b[1;32m    120\u001b[0m \u001b[38;5;28;01melif\u001b[39;00m X\u001b[38;5;241m.\u001b[39mdtype \u001b[38;5;241m==\u001b[39m np\u001b[38;5;241m.\u001b[39mdtype(\u001b[38;5;124m\"\u001b[39m\u001b[38;5;124mobject\u001b[39m\u001b[38;5;124m\"\u001b[39m) \u001b[38;5;129;01mand\u001b[39;00m \u001b[38;5;129;01mnot\u001b[39;00m allow_nan:\n",
      "\u001b[0;31mValueError\u001b[0m: Input contains NaN, infinity or a value too large for dtype('float64')."
     ]
    }
   ],
   "source": [
    "# Remove missing values\n",
    "data = data.dropna()\n",
    "\n",
    "#Linear regression\n",
    "#Again store results (weights) in the 'reg' object\n",
    "reg = LinearRegression().fit(date_train_arr,BU_train_arr)\n",
    "\n",
    "#Predict price based on engine size\n",
    "fitted_train_Price = reg.predict(date_train_arr)\n",
    "fitted_test_Price = reg.predict(date_test_arr)\n",
    "\n",
    "#Visualisation\n",
    "# Seaborn library is used to easily visualise a dataset and its summarising models\n",
    "import seaborn as sns\n",
    "sns.regplot(x = PR_weekly_avgVSTime.date, y = PR_weekly_avgVSTime.avg)\n",
    "plt.show()"
   ]
  },
  {
   "cell_type": "code",
   "execution_count": 39,
   "id": "429b2241",
   "metadata": {},
   "outputs": [
    {
     "name": "stdout",
     "output_type": "stream",
     "text": [
      "False\n",
      "Unnamed: 0               0\n",
      "TIME                     0\n",
      "NAME                     0\n",
      "BIKE.STANDS              0\n",
      "AVAILABLE.BIKE.STANDS    0\n",
      "AVAILABLE.BIKES          0\n",
      "STATUS                   0\n",
      "DATE                     0\n",
      "BIKE.USAGE               0\n",
      "dtype: int64\n"
     ]
    }
   ],
   "source": [
    "print(dataPR.isna().any().any())\n",
    "\n",
    "print(dataPR.isna().sum())"
   ]
  },
  {
   "cell_type": "code",
   "execution_count": 40,
   "id": "702b2cc3",
   "metadata": {},
   "outputs": [
    {
     "name": "stdout",
     "output_type": "stream",
     "text": [
      "[0.54104651 0.77997272 0.65008681 0.86115117 0.81248745 0.59540302\n",
      " 0.79420883 0.70612806 0.78840706 0.73873695 0.65875124 0.77793899\n",
      " 0.84835069 0.72691286 0.78763764 0.83624253 0.57862103 0.78512407\n",
      " 0.78214286 0.78613456 0.61613343 0.64047619 0.68146402 0.79728423\n",
      " 0.71511657 0.82268105 0.82621528 0.68290323 0.78022592 0.81204117\n",
      " 0.83387897 0.69834065 0.83941162 0.8624752  0.7698858  0.81626551\n",
      " 0.75553075 0.7234623  0.82239583 0.80407986 0.83504464 0.78200645\n",
      " 0.81585154 0.74396081 0.72917288 0.84723859        nan        nan\n",
      " 0.69069479 0.77627728 0.71551339 0.78928571 0.72642609 0.84725942\n",
      " 0.83251488 0.81744792 0.74201389 0.71923363 0.84322629 0.72902944\n",
      " 0.79712302 0.83260634 0.81985367 0.6921999  0.81412072 0.75878848\n",
      " 0.69973763 0.73220486 0.76644405 0.84053819 0.80634504 0.80640893\n",
      " 0.85095041 0.82139228 0.78499581 0.8875     0.8468107  0.74287849\n",
      " 0.85145788 0.83686756 0.76051587 0.77568204 0.68540427 0.82957589\n",
      " 0.85750248 0.62336286 0.71468254 0.76431207 0.82263145 0.86132192\n",
      " 0.80734127 0.74778026 0.64781746 0.72609127 0.77261905 0.70502232\n",
      " 0.71387649 0.77041667 0.79153026 0.83664435 0.88156467 0.85076885\n",
      " 0.80243056 0.8218502  0.90528274 0.8904507  0.84825149 0.81036706\n",
      " 0.78499504 0.71777034 0.85288938 0.81140813 0.84288194 0.72823351\n",
      " 0.80014881 0.67413194 0.78330853 0.60856895 0.48396577 0.5406498\n",
      " 0.65230655 0.69167907 0.68957093 0.8406374  0.74187748 0.52828621\n",
      " 0.63375651 0.62356151 0.81759673 0.7366219  0.73669187 0.69572818\n",
      " 0.69643251 0.70906067 0.70424293 0.61775688 0.70029762 0.71215278\n",
      " 0.80969742 0.67254774 0.75715526 0.62577114 0.79125683 0.5344122\n",
      " 0.65091766 0.55132754 0.61995288 0.66792476 0.61278522 0.61333085\n",
      " 0.69579381 0.75099206 0.74677734 0.65473315 0.70491071 0.7536071\n",
      " 0.71708417 0.73751241 0.73067956 0.7439244  0.60279018 0.75770089\n",
      " 0.72626488 0.58834325 0.66064122 0.67481203 0.68322113 0.6619603\n",
      " 0.75320546 0.68167163 0.75838718 0.76389771 0.5971865  0.62447917\n",
      " 0.7184573  0.60229415 0.67163938 0.55364583 0.61061921]\n"
     ]
    }
   ],
   "source": [
    "# Set display options to show all rows and columns\n",
    "pd.set_option('display.max_rows', None)\n",
    "pd.set_option('display.max_columns', None)\n",
    "\n",
    "# Display the DataFrame\n",
    "print(PR_weekly_avg.values)"
   ]
  },
  {
   "cell_type": "code",
   "execution_count": 43,
   "id": "8fb0fdd3",
   "metadata": {},
   "outputs": [
    {
     "name": "stdout",
     "output_type": "stream",
     "text": [
      "<pandas.core.groupby.generic.SeriesGroupBy object at 0x7f7d75afd070>\n"
     ]
    }
   ],
   "source": [
    "#Calculate weekly average usage\n",
    "PR_weekly_avg = dataPR.groupby(pd.Grouper(key='DATE', freq='W'))['BIKE.USAGE']\n",
    "print(PR_weekly_avg)"
   ]
  },
  {
   "cell_type": "code",
   "execution_count": 47,
   "id": "4cb09590",
   "metadata": {},
   "outputs": [],
   "source": [
    "dictRH = {'week': range(179), 'avg': RH_weekly_avg.values}\n",
    "regressionRH = pd.DataFrame(data=dictRH)\n",
    "regressionRH = regressionRH.dropna()"
   ]
  },
  {
   "cell_type": "code",
   "execution_count": 49,
   "id": "23406046",
   "metadata": {},
   "outputs": [
    {
     "data": {
      "image/png": "[encoded data removed]",
      "text/plain": [
       "<Figure size 432x288 with 1 Axes>"
      ]
     },
     "metadata": {
      "needs_background": "light"
     },
     "output_type": "display_data"
    }
   ],
   "source": [
    "RHd_train, RHd_test, RHa_train, RHa_test = train_test_split(regressionRH.week, regressionRH.avg, test_size=0.2, random_state=42)\n",
    "\n",
    "RHa_train_arr = RHa_train.array\n",
    "RHa_test_arr = RHa_test.array\n",
    "RHd_train_arr = RHd_train.array.to_numpy().reshape(-1,1)\n",
    "RHd_test_arr = RHd_test.array.to_numpy().reshape(-1,1)\n",
    "\n",
    "\n",
    "RHa_train_arr\n",
    "\n",
    "RHreg = LinearRegression().fit(RHd_train_arr,RHa_train_arr)\n",
    "\n",
    "fitted_RHtrain_avg = RHreg.predict(RHd_train_arr)\n",
    "fitted_RHtest_avg = RHreg.predict(RHd_test_arr)\n",
    "\n",
    "#Visualisation\n",
    "# Seaborn library is used to easily visualise a dataset and its summarising models\n",
    "sns.regplot(x=regressionRH.week,y= regressionRH.avg)\n",
    "plt.show()\n"
   ]
  },
  {
   "cell_type": "code",
   "execution_count": 9,
   "id": "7f116c3f",
   "metadata": {},
   "outputs": [
    {
     "data": {
      "text/plain": [
       "DATE\n",
       "2018-08-05    0.541047\n",
       "2018-08-12    0.779973\n",
       "2018-08-19    0.650087\n",
       "2018-08-26    0.861151\n",
       "2018-09-02    0.812487\n",
       "                ...   \n",
       "2021-12-05    0.718457\n",
       "2021-12-12    0.602294\n",
       "2021-12-19    0.671639\n",
       "2021-12-26    0.553646\n",
       "2022-01-02    0.610619\n",
       "Freq: W-SUN, Name: BIKE.USAGE, Length: 179, dtype: float64"
      ]
     },
     "execution_count": 9,
     "metadata": {},
     "output_type": "execute_result"
    }
   ],
   "source": [
    "PR_weekly_avg"
   ]
  },
  {
   "cell_type": "code",
   "execution_count": 17,
   "id": "48e66fd5",
   "metadata": {},
   "outputs": [
    {
     "name": "stdout",
     "output_type": "stream",
     "text": [
      "84\n",
      "95\n"
     ]
    }
   ],
   "source": [
    "# split the data into two parts based on the date\n",
    "PRdata_pre_pandemic = PR_weekly_avg[PR_weekly_avg.index < '2020-03-15']\n",
    "PRdata_post_pandemic = PR_weekly_avg[PR_weekly_avg.index >= '2020-03-15']\n",
    "\n",
    "PRdata_post_pandemic\n",
    "\n",
    "print(len(PRdata_pre_pandemic))\n",
    "print(len(PRdata_post_pandemic))"
   ]
  },
  {
   "cell_type": "code",
   "execution_count": 21,
   "id": "0252e37c",
   "metadata": {},
   "outputs": [
    {
     "name": "stdout",
     "output_type": "stream",
     "text": [
      "84\n",
      "95\n"
     ]
    }
   ],
   "source": [
    "# split the data into two parts based on the date\n",
    "RHdata_pre_pandemic = RH_weekly_avg[RH_weekly_avg.index < '2020-03-15']\n",
    "RHdata_post_pandemic = RH_weekly_avg[RH_weekly_avg.index >= '2020-03-15']\n",
    "\n",
    "RHdata_post_pandemic\n",
    "\n",
    "print(len(RHdata_pre_pandemic))\n",
    "print(len(RHdata_post_pandemic))"
   ]
  },
  {
   "cell_type": "code",
   "execution_count": 20,
   "id": "19cedea6",
   "metadata": {},
   "outputs": [
    {
     "name": "stdout",
     "output_type": "stream",
     "text": [
      "81\n",
      "95\n"
     ]
    }
   ],
   "source": [
    "# split the data into two parts based on the date\n",
    "MSdata_pre_pandemic = MS_weekly_avg[MS_weekly_avg.index < '2020-03-15']\n",
    "MSdata_post_pandemic = MS_weekly_avg[MS_weekly_avg.index >= '2020-03-15']\n",
    "\n",
    "MSdata_post_pandemic\n",
    "\n",
    "print(len(MSdata_pre_pandemic))\n",
    "print(len(MSdata_post_pandemic))"
   ]
  },
  {
   "cell_type": "code",
   "execution_count": null,
   "id": "9ba0829d",
   "metadata": {},
   "outputs": [],
   "source": [
    "#####################################################################\n",
    "#####################################################################\n",
    "#####################################################################\n",
    "#####################################################################\n",
    "#####################################################################\n",
    "\n",
    "# REGRESSIONS PRE AND POST PSANDEMIC"
   ]
  },
  {
   "cell_type": "code",
   "execution_count": 27,
   "id": "3e0ef8b9",
   "metadata": {},
   "outputs": [],
   "source": [
    "%matplotlib inline\n",
    "import numpy as np\n",
    "import pandas as pd\n",
    "import matplotlib.pyplot as plt\n",
    "from sklearn.model_selection import cross_val_score\n",
    "from sklearn.model_selection import train_test_split\n",
    "from sklearn.model_selection import ShuffleSplit\n",
    "from sklearn.linear_model import LinearRegression"
   ]
  },
  {
   "cell_type": "code",
   "execution_count": 22,
   "id": "39e13d4d",
   "metadata": {},
   "outputs": [
    {
     "data": {
      "text/plain": [
       "<AxesSubplot:xlabel='week', ylabel='avg'>"
      ]
     },
     "execution_count": 22,
     "metadata": {},
     "output_type": "execute_result"
    },
    {
     "data": {
      "image/png": "[encoded data removed]",
      "text/plain": [
       "<Figure size 1440x1296 with 3 Axes>"
      ]
     },
     "metadata": {
      "needs_background": "light"
     },
     "output_type": "display_data"
    }
   ],
   "source": [
    "PRdata_pre_pandemic = PR_weekly_avg[PR_weekly_avg.index < '2020-03-15']\n",
    "dictPRpre = {'week': range(84), 'avg': PRdata_pre_pandemic.values}\n",
    "regressionPRpre = pd.DataFrame(data=dictPRpre)\n",
    "regressionPRpre = regressionPRpre.dropna()\n",
    "PRdata_post_pandemic = PR_weekly_avg[PR_weekly_avg.index >= '2020-03-15']\n",
    "dictPRpost = {'week': range(84, 179), 'avg': PRdata_post_pandemic.values}\n",
    "regressionPRpost = pd.DataFrame(data=dictPRpost)\n",
    "regressionPRpost = regressionPRpost.dropna()\n",
    "\n",
    "\n",
    "\n",
    "MSdata_pre_pandemic = MS_weekly_avg[MS_weekly_avg.index < '2020-03-15']\n",
    "dictMSpre = {'week': range(81), 'avg': MSdata_pre_pandemic.values}\n",
    "regressionMSpre = pd.DataFrame(data=dictMSpre)\n",
    "regressionMSpre = regressionMSpre.dropna()\n",
    "MSdata_post_pandemic = MS_weekly_avg[MS_weekly_avg.index >= '2020-03-15']\n",
    "dictMSpost = {'week': range(81, 176), 'avg': MSdata_post_pandemic.values}\n",
    "regressionMSpost = pd.DataFrame(data=dictMSpost)\n",
    "regressionMSpost = regressionMSpost.dropna()\n",
    "\n",
    "\n",
    "RHdata_pre_pandemic = RH_weekly_avg[RH_weekly_avg.index < '2020-03-15']\n",
    "dictRHpre = {'week': range(84), 'avg': RHdata_pre_pandemic.values}\n",
    "regressionRHpre = pd.DataFrame(data=dictRHpre)\n",
    "regressionRHpre = regressionRHpre.dropna()\n",
    "RHdata_post_pandemic = RH_weekly_avg[RH_weekly_avg.index >= '2020-03-15']\n",
    "dictRHpost = {'week': range(84, 179), 'avg': RHdata_post_pandemic.values}\n",
    "regressionRHpost = pd.DataFrame(data=dictRHpost)\n",
    "regressionRHpost = regressionRHpost.dropna()\n",
    "\n",
    "regFig, axes = plt.subplots(3, 1, figsize=(20,18))\n",
    "sns.regplot(ax=axes[0], x=regressionPRpre.week,y= regressionPRpre.avg)\n",
    "sns.regplot(ax=axes[0], x=regressionPRpost.week,y= regressionPRpost.avg, color = 'red')\n",
    "sns.regplot(ax=axes[1], x=regressionMSpre.week,y= regressionMSpre.avg)\n",
    "sns.regplot(ax=axes[1], x=regressionMSpost.week,y= regressionMSpost.avg, color = 'red')\n",
    "sns.regplot(ax=axes[2], x=regressionRHpre.week,y= regressionRHpre.avg)\n",
    "sns.regplot(ax=axes[2], x=regressionRHpost.week,y= regressionRHpost.avg, color = 'red')"
   ]
  },
  {
   "cell_type": "code",
   "execution_count": 28,
   "id": "f1b3c36b",
   "metadata": {},
   "outputs": [],
   "source": [
    "# Pre pandemic Phibsborough Road \n",
    "\n",
    "prePRavg_train, prePRavg_test, prePRweek_train, prePRweek_test = train_test_split(regressionPRpre.week, regressionPRpre.avg, test_size=0.2, random_state=42)\n",
    "\n",
    "prePRavg_train_arr = prePRavg_train.array\n",
    "prePRavg_test_arr = prePRavg_test.array\n",
    "prePRweek_train_arr = prePRweek_train.array.to_numpy().reshape(-1,1)\n",
    "prePRweek_test_arr = prePRweek_test.array.to_numpy().reshape(-1,1)\n",
    "\n",
    "\n",
    "prePRavg_train_arr\n",
    "\n",
    "prePRreg = LinearRegression().fit(prePRweek_train_arr, prePRavg_train_arr)\n",
    "\n",
    "fitted_prePRtrain_avg = prePRreg.predict(prePRweek_train_arr)\n",
    "fitted_prePRtest_avg = prePRreg.predict(prePRweek_test_arr)\n",
    "\n"
   ]
  },
  {
   "cell_type": "code",
   "execution_count": 36,
   "id": "ae1d3622",
   "metadata": {},
   "outputs": [
    {
     "data": {
      "image/png": "[encoded data removed]",
      "text/plain": [
       "<Figure size 432x288 with 1 Axes>"
      ]
     },
     "metadata": {
      "needs_background": "light"
     },
     "output_type": "display_data"
    }
   ],
   "source": [
    "\n",
    "#Linear regression pre pan visualisation\n",
    "plt.scatter(prePRweek_train_arr, prePRavg_train_arr, label='Training points')\n",
    "plt.scatter(prePRweek_test_arr, prePRavg_test_arr, label='Testing points')\n",
    "plt.plot(prePRweek_train_arr, fitted_prePRtrain_avg, label='Linear model')\n",
    "plt.legend()\n",
    "plt.xlabel('Week')\n",
    "plt.ylabel('Average Usage')\n",
    "plt.show()"
   ]
  },
  {
   "cell_type": "code",
   "execution_count": 31,
   "id": "d350e9a5",
   "metadata": {},
   "outputs": [
    {
     "name": "stdout",
     "output_type": "stream",
     "text": [
      "Mean Squared Error, training set: 551.6304245150145\n",
      "Mean Squared Error, testing set: 525.5970520626026\n"
     ]
    }
   ],
   "source": [
    "from sklearn.metrics import mean_squared_error\n",
    "\n",
    "MSE = mean_squared_error(prePRavg_train_arr, fitted_prePRtrain_avg)\n",
    "print('Mean Squared Error, training set:', MSE)\n",
    "\n",
    "MSE = mean_squared_error(prePRavg_test_arr, fitted_prePRtest_avg)\n",
    "print('Mean Squared Error, testing set:', MSE)"
   ]
  },
  {
   "cell_type": "code",
   "execution_count": 33,
   "id": "e8c03fdb",
   "metadata": {},
   "outputs": [
    {
     "name": "stdout",
     "output_type": "stream",
     "text": [
      "Mean Squared Error, training set: 627.7677329080624\n",
      "Mean Squared Error, testing set: 486.44719042294196\n"
     ]
    }
   ],
   "source": [
    "# Post pandemic Phibsborough Road \n",
    "\n",
    "postPRavg_train, postPRavg_test, postPRweek_train, postPRweek_test = train_test_split(regressionPRpost.week, regressionPRpost.avg, test_size=0.2, random_state=42)\n",
    "\n",
    "postPRavg_train_arr = postPRavg_train.array\n",
    "postPRavg_test_arr = postPRavg_test.array\n",
    "postPRweek_train_arr = postPRweek_train.array.to_numpy().reshape(-1,1)\n",
    "postPRweek_test_arr = postPRweek_test.array.to_numpy().reshape(-1,1)\n",
    "\n",
    "\n",
    "postPRavg_train_arr\n",
    "\n",
    "postPRreg = LinearRegression().fit(postPRweek_train_arr, postPRavg_train_arr)\n",
    "\n",
    "fitted_postPRtrain_avg = postPRreg.predict(postPRweek_train_arr)\n",
    "fitted_postPRtest_avg = postPRreg.predict(postPRweek_test_arr)\n",
    "\n",
    "MSE = mean_squared_error(postPRavg_train_arr, fitted_postPRtrain_avg)\n",
    "print('Mean Squared Error, training set:', MSE)\n",
    "\n",
    "MSE = mean_squared_error(postPRavg_test_arr, fitted_postPRtest_avg)\n",
    "print('Mean Squared Error, testing set:', MSE)\n"
   ]
  },
  {
   "cell_type": "code",
   "execution_count": 35,
   "id": "de5a49c7",
   "metadata": {},
   "outputs": [
    {
     "data": {
      "image/png": "[encoded data removed]",
      "text/plain": [
       "<Figure size 432x288 with 1 Axes>"
      ]
     },
     "metadata": {
      "needs_background": "light"
     },
     "output_type": "display_data"
    }
   ],
   "source": [
    "\n",
    "#Linear regression pre pan visualisation\n",
    "plt.scatter(postPRweek_train_arr, postPRavg_train_arr, label='Training points')\n",
    "plt.scatter(postPRweek_test_arr, postPRavg_test_arr, label='Testing points')\n",
    "plt.plot(postPRweek_train_arr, fitted_postPRtrain_avg, label='Linear model')\n",
    "plt.legend()\n",
    "plt.xlabel('Week')\n",
    "plt.ylabel('Average Usage')\n",
    "plt.show()"
   ]
  },
  {
   "cell_type": "code",
   "execution_count": 41,
   "id": "333ab743",
   "metadata": {},
   "outputs": [
    {
     "name": "stdout",
     "output_type": "stream",
     "text": [
      "Mean Squared Error, training set: 553.6723194394422\n",
      "Mean Squared Error, testing set: 532.0890168123826\n"
     ]
    }
   ],
   "source": [
    "# Pre pandemic Merrion Square\n",
    "\n",
    "preMSavg_train, preMSavg_test, preMSweek_train, preMSweek_test = train_test_split(regressionMSpre.week, regressionMSpre.avg, test_size=0.2, random_state=42)\n",
    "\n",
    "preMSavg_train_arr = preMSavg_train.array\n",
    "preMSavg_test_arr = preMSavg_test.array\n",
    "preMSweek_train_arr = preMSweek_train.array.to_numpy().reshape(-1,1)\n",
    "preMSweek_test_arr = preMSweek_test.array.to_numpy().reshape(-1,1)\n",
    "\n",
    "\n",
    "preMSavg_train_arr\n",
    "\n",
    "preMSreg = LinearRegression().fit(preMSweek_train_arr, preMSavg_train_arr)\n",
    "\n",
    "fitted_preMStrain_avg = preMSreg.predict(preMSweek_train_arr)\n",
    "fitted_preMStest_avg = preMSreg.predict(preMSweek_test_arr)\n",
    "\n",
    "MSE = mean_squared_error(preMSavg_train_arr, fitted_preMStrain_avg)\n",
    "print('Mean Squared Error, training set:', MSE)\n",
    "\n",
    "MSE = mean_squared_error(preMSavg_test_arr, fitted_preMStest_avg)\n",
    "print('Mean Squared Error, testing set:', MSE)\n"
   ]
  },
  {
   "cell_type": "code",
   "execution_count": 37,
   "id": "d9665a09",
   "metadata": {},
   "outputs": [
    {
     "name": "stdout",
     "output_type": "stream",
     "text": [
      "Mean Squared Error, training set: 700.7281969083308\n",
      "Mean Squared Error, testing set: 742.6926891471871\n"
     ]
    }
   ],
   "source": [
    "# Post pandemic Merrion Square\n",
    "\n",
    "postMSavg_train, postMSavg_test, postMSweek_train, postMSweek_test = train_test_split(regressionMSpost.week, regressionMSpost.avg, test_size=0.2, random_state=42)\n",
    "\n",
    "postMSavg_train_arr = postMSavg_train.array\n",
    "postMSavg_test_arr = postMSavg_test.array\n",
    "postMSweek_train_arr = postMSweek_train.array.to_numpy().reshape(-1,1)\n",
    "postMSweek_test_arr = postMSweek_test.array.to_numpy().reshape(-1,1)\n",
    "\n",
    "\n",
    "postMSavg_train_arr\n",
    "\n",
    "postMSreg = LinearRegression().fit(postMSweek_train_arr, postMSavg_train_arr)\n",
    "\n",
    "fitted_postMStrain_avg = postMSreg.predict(postMSweek_train_arr)\n",
    "fitted_postMStest_avg = postMSreg.predict(postMSweek_test_arr)\n",
    "\n",
    "MSE = mean_squared_error(postMSavg_train_arr, fitted_postMStrain_avg)\n",
    "print('Mean Squared Error, training set:', MSE)\n",
    "\n",
    "MSE = mean_squared_error(postMSavg_test_arr, fitted_postMStest_avg)\n",
    "print('Mean Squared Error, testing set:', MSE)\n"
   ]
  },
  {
   "cell_type": "code",
   "execution_count": 42,
   "id": "042afe3f",
   "metadata": {},
   "outputs": [
    {
     "name": "stdout",
     "output_type": "stream",
     "text": [
      "Mean Squared Error, training set: 604.2433458316787\n",
      "Mean Squared Error, testing set: 576.8098917201488\n"
     ]
    }
   ],
   "source": [
    "# Pre pandemic Royal Hospital\n",
    "\n",
    "preRHavg_train, preRHavg_test, preRHweek_train, preRHweek_test = train_test_split(regressionRHpre.week, regressionRHpre.avg, test_size=0.2, random_state=42)\n",
    "\n",
    "preRHavg_train_arr = preRHavg_train.array\n",
    "preRHavg_test_arr = preRHavg_test.array\n",
    "preRHweek_train_arr = preRHweek_train.array.to_numpy().reshape(-1,1)\n",
    "preRHweek_test_arr = preRHweek_test.array.to_numpy().reshape(-1,1)\n",
    "\n",
    "\n",
    "preRHavg_train_arr\n",
    "\n",
    "preRHreg = LinearRegression().fit(preRHweek_train_arr, preRHavg_train_arr)\n",
    "\n",
    "fitted_preRHtrain_avg = preRHreg.predict(preRHweek_train_arr)\n",
    "fitted_preRHtest_avg = preRHreg.predict(preRHweek_test_arr)\n",
    "\n",
    "MSE = mean_squared_error(preRHavg_train_arr, fitted_preRHtrain_avg)\n",
    "print('Mean Squared Error, training set:', MSE)\n",
    "\n",
    "MSE = mean_squared_error(preRHavg_test_arr, fitted_preRHtest_avg)\n",
    "print('Mean Squared Error, testing set:', MSE)\n"
   ]
  },
  {
   "cell_type": "code",
   "execution_count": 43,
   "id": "eff4e99c",
   "metadata": {},
   "outputs": [
    {
     "name": "stdout",
     "output_type": "stream",
     "text": [
      "Mean Squared Error, training set: 752.3467082683765\n",
      "Mean Squared Error, testing set: 724.0310840014215\n"
     ]
    }
   ],
   "source": [
    "# Post pandemic Merrion Square\n",
    "\n",
    "postRHavg_train, postRHavg_test, postRHweek_train, postRHweek_test = train_test_split(regressionRHpost.week, regressionRHpost.avg, test_size=0.2, random_state=42)\n",
    "\n",
    "postRHavg_train_arr = postRHavg_train.array\n",
    "postRHavg_test_arr = postRHavg_test.array\n",
    "postRHweek_train_arr = postRHweek_train.array.to_numpy().reshape(-1,1)\n",
    "postRHweek_test_arr = postRHweek_test.array.to_numpy().reshape(-1,1)\n",
    "\n",
    "\n",
    "postRHavg_train_arr\n",
    "\n",
    "postRHreg = LinearRegression().fit(postRHweek_train_arr, postRHavg_train_arr)\n",
    "\n",
    "fitted_postRHtrain_avg = postRHreg.predict(postRHweek_train_arr)\n",
    "fitted_postRHtest_avg = postRHreg.predict(postRHweek_test_arr)\n",
    "\n",
    "MSE = mean_squared_error(postRHavg_train_arr, fitted_postRHtrain_avg)\n",
    "print('Mean Squared Error, training set:', MSE)\n",
    "\n",
    "MSE = mean_squared_error(postRHavg_test_arr, fitted_postRHtest_avg)\n",
    "print('Mean Squared Error, testing set:', MSE)\n"
   ]
  }
 ],
 "metadata": {
  "kernelspec": {
   "display_name": "Python 3 (ipykernel)",
   "language": "python",
   "name": "python3"
  },
  "language_info": {
   "codemirror_mode": {
    "name": "ipython",
    "version": 3
   },
   "file_extension": ".py",
   "mimetype": "text/x-python",
   "name": "python",
   "nbconvert_exporter": "python",
   "pygments_lexer": "ipython3",
   "version": "3.9.12"
  }
 },
 "nbformat": 4,
 "nbformat_minor": 5
}
