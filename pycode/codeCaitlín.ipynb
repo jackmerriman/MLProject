{
 "cells": [
  {
   "cell_type": "code",
   "execution_count": 1,
   "id": "a8370eb2",
   "metadata": {},
   "outputs": [
    {
     "name": "stdout",
     "output_type": "stream",
     "text": [
      "This is for Caitlín's rough code\n"
     ]
    }
   ],
   "source": [
    "print(\"This is for Caitlín's rough code\")"
   ]
  },
  {
   "cell_type": "code",
   "execution_count": 1,
   "id": "efeb82c2",
   "metadata": {},
   "outputs": [],
   "source": [
    "#libraries\n",
    "import os\n",
    "import numpy as np\n",
    "import pandas as pd\n",
    "import matplotlib.pyplot as plt\n",
    "import seaborn as sns\n",
    "from sklearn.neural_network import MLPClassifier\n",
    "from sklearn.neighbors import KNeighborsClassifier\n",
    "from sklearn.svm import SVC\n",
    "from sklearn.gaussian_process import GaussianProcessClassifier\n",
    "from sklearn.gaussian_process.kernels import RBF\n",
    "from sklearn.tree import DecisionTreeClassifier\n",
    "from sklearn.ensemble import RandomForestClassifier, AdaBoostClassifier\n",
    "from sklearn.naive_bayes import GaussianNB\n",
    "from sklearn.metrics import plot_confusion_matrix\n",
    "from sklearn.model_selection import cross_val_score"
   ]
  },
  {
   "cell_type": "code",
   "execution_count": 2,
   "id": "f73058eb",
   "metadata": {},
   "outputs": [],
   "source": [
    "os.chdir(\"..\")\n",
    "# Choose stations using K-means clustering \n"
   ]
  },
  {
   "cell_type": "code",
   "execution_count": 3,
   "id": "01071c28",
   "metadata": {},
   "outputs": [
    {
     "data": {
      "text/html": [
       "<div>\n",
       "<style scoped>\n",
       "    .dataframe tbody tr th:only-of-type {\n",
       "        vertical-align: middle;\n",
       "    }\n",
       "\n",
       "    .dataframe tbody tr th {\n",
       "        vertical-align: top;\n",
       "    }\n",
       "\n",
       "    .dataframe thead th {\n",
       "        text-align: right;\n",
       "    }\n",
       "</style>\n",
       "<table border=\"1\" class=\"dataframe\">\n",
       "  <thead>\n",
       "    <tr style=\"text-align: right;\">\n",
       "      <th></th>\n",
       "      <th>Unnamed: 0</th>\n",
       "      <th>TIME</th>\n",
       "      <th>NAME</th>\n",
       "      <th>BIKE.STANDS</th>\n",
       "      <th>AVAILABLE.BIKE.STANDS</th>\n",
       "      <th>AVAILABLE.BIKES</th>\n",
       "      <th>STATUS</th>\n",
       "    </tr>\n",
       "  </thead>\n",
       "  <tbody>\n",
       "    <tr>\n",
       "      <th>0</th>\n",
       "      <td>1</td>\n",
       "      <td>2018-08-01 12:30:02</td>\n",
       "      <td>CHARLEMONT PLACE</td>\n",
       "      <td>40</td>\n",
       "      <td>28</td>\n",
       "      <td>12</td>\n",
       "      <td>Open</td>\n",
       "    </tr>\n",
       "    <tr>\n",
       "      <th>1</th>\n",
       "      <td>2</td>\n",
       "      <td>2018-08-01 12:35:02</td>\n",
       "      <td>CHARLEMONT PLACE</td>\n",
       "      <td>40</td>\n",
       "      <td>28</td>\n",
       "      <td>12</td>\n",
       "      <td>Open</td>\n",
       "    </tr>\n",
       "    <tr>\n",
       "      <th>2</th>\n",
       "      <td>3</td>\n",
       "      <td>2018-08-01 12:40:02</td>\n",
       "      <td>CHARLEMONT PLACE</td>\n",
       "      <td>40</td>\n",
       "      <td>28</td>\n",
       "      <td>12</td>\n",
       "      <td>Open</td>\n",
       "    </tr>\n",
       "    <tr>\n",
       "      <th>3</th>\n",
       "      <td>4</td>\n",
       "      <td>2018-08-01 12:45:02</td>\n",
       "      <td>CHARLEMONT PLACE</td>\n",
       "      <td>40</td>\n",
       "      <td>28</td>\n",
       "      <td>12</td>\n",
       "      <td>Open</td>\n",
       "    </tr>\n",
       "    <tr>\n",
       "      <th>4</th>\n",
       "      <td>5</td>\n",
       "      <td>2018-08-01 12:50:02</td>\n",
       "      <td>CHARLEMONT PLACE</td>\n",
       "      <td>40</td>\n",
       "      <td>28</td>\n",
       "      <td>12</td>\n",
       "      <td>Open</td>\n",
       "    </tr>\n",
       "  </tbody>\n",
       "</table>\n",
       "</div>"
      ],
      "text/plain": [
       "   Unnamed: 0                 TIME              NAME  BIKE.STANDS  \\\n",
       "0           1  2018-08-01 12:30:02  CHARLEMONT PLACE           40   \n",
       "1           2  2018-08-01 12:35:02  CHARLEMONT PLACE           40   \n",
       "2           3  2018-08-01 12:40:02  CHARLEMONT PLACE           40   \n",
       "3           4  2018-08-01 12:45:02  CHARLEMONT PLACE           40   \n",
       "4           5  2018-08-01 12:50:02  CHARLEMONT PLACE           40   \n",
       "\n",
       "   AVAILABLE.BIKE.STANDS  AVAILABLE.BIKES STATUS  \n",
       "0                     28               12   Open  \n",
       "1                     28               12   Open  \n",
       "2                     28               12   Open  \n",
       "3                     28               12   Open  \n",
       "4                     28               12   Open  "
      ]
     },
     "execution_count": 3,
     "metadata": {},
     "output_type": "execute_result"
    }
   ],
   "source": [
    "#import data\n",
    "os.chdir(\"..\")\n",
    "data = pd.read_csv(\"data/bikedata.csv\")\n",
    "data.head()"
   ]
  },
  {
   "cell_type": "code",
   "execution_count": 4,
   "id": "c5a1749e",
   "metadata": {
    "scrolled": true
   },
   "outputs": [
    {
     "data": {
      "text/html": [
       "<div>\n",
       "<style scoped>\n",
       "    .dataframe tbody tr th:only-of-type {\n",
       "        vertical-align: middle;\n",
       "    }\n",
       "\n",
       "    .dataframe tbody tr th {\n",
       "        vertical-align: top;\n",
       "    }\n",
       "\n",
       "    .dataframe thead th {\n",
       "        text-align: right;\n",
       "    }\n",
       "</style>\n",
       "<table border=\"1\" class=\"dataframe\">\n",
       "  <thead>\n",
       "    <tr style=\"text-align: right;\">\n",
       "      <th></th>\n",
       "      <th>Unnamed: 0</th>\n",
       "      <th>TIME</th>\n",
       "      <th>NAME</th>\n",
       "      <th>BIKE.STANDS</th>\n",
       "      <th>AVAILABLE.BIKE.STANDS</th>\n",
       "      <th>AVAILABLE.BIKES</th>\n",
       "      <th>STATUS</th>\n",
       "      <th>BIKE.USAGE</th>\n",
       "    </tr>\n",
       "  </thead>\n",
       "  <tbody>\n",
       "    <tr>\n",
       "      <th>0</th>\n",
       "      <td>1</td>\n",
       "      <td>2018-08-01 12:30:02</td>\n",
       "      <td>CHARLEMONT PLACE</td>\n",
       "      <td>40</td>\n",
       "      <td>28</td>\n",
       "      <td>12</td>\n",
       "      <td>Open</td>\n",
       "      <td>0.7</td>\n",
       "    </tr>\n",
       "    <tr>\n",
       "      <th>1</th>\n",
       "      <td>2</td>\n",
       "      <td>2018-08-01 12:35:02</td>\n",
       "      <td>CHARLEMONT PLACE</td>\n",
       "      <td>40</td>\n",
       "      <td>28</td>\n",
       "      <td>12</td>\n",
       "      <td>Open</td>\n",
       "      <td>0.7</td>\n",
       "    </tr>\n",
       "    <tr>\n",
       "      <th>2</th>\n",
       "      <td>3</td>\n",
       "      <td>2018-08-01 12:40:02</td>\n",
       "      <td>CHARLEMONT PLACE</td>\n",
       "      <td>40</td>\n",
       "      <td>28</td>\n",
       "      <td>12</td>\n",
       "      <td>Open</td>\n",
       "      <td>0.7</td>\n",
       "    </tr>\n",
       "    <tr>\n",
       "      <th>3</th>\n",
       "      <td>4</td>\n",
       "      <td>2018-08-01 12:45:02</td>\n",
       "      <td>CHARLEMONT PLACE</td>\n",
       "      <td>40</td>\n",
       "      <td>28</td>\n",
       "      <td>12</td>\n",
       "      <td>Open</td>\n",
       "      <td>0.7</td>\n",
       "    </tr>\n",
       "    <tr>\n",
       "      <th>4</th>\n",
       "      <td>5</td>\n",
       "      <td>2018-08-01 12:50:02</td>\n",
       "      <td>CHARLEMONT PLACE</td>\n",
       "      <td>40</td>\n",
       "      <td>28</td>\n",
       "      <td>12</td>\n",
       "      <td>Open</td>\n",
       "      <td>0.7</td>\n",
       "    </tr>\n",
       "  </tbody>\n",
       "</table>\n",
       "</div>"
      ],
      "text/plain": [
       "   Unnamed: 0                 TIME              NAME  BIKE.STANDS  \\\n",
       "0           1  2018-08-01 12:30:02  CHARLEMONT PLACE           40   \n",
       "1           2  2018-08-01 12:35:02  CHARLEMONT PLACE           40   \n",
       "2           3  2018-08-01 12:40:02  CHARLEMONT PLACE           40   \n",
       "3           4  2018-08-01 12:45:02  CHARLEMONT PLACE           40   \n",
       "4           5  2018-08-01 12:50:02  CHARLEMONT PLACE           40   \n",
       "\n",
       "   AVAILABLE.BIKE.STANDS  AVAILABLE.BIKES STATUS  BIKE.USAGE  \n",
       "0                     28               12   Open         0.7  \n",
       "1                     28               12   Open         0.7  \n",
       "2                     28               12   Open         0.7  \n",
       "3                     28               12   Open         0.7  \n",
       "4                     28               12   Open         0.7  "
      ]
     },
     "execution_count": 4,
     "metadata": {},
     "output_type": "execute_result"
    }
   ],
   "source": [
    "#Calculate bike usage\n",
    "data[\"BIKE.USAGE\"] = data[\"AVAILABLE.BIKE.STANDS\"]/data[\"BIKE.STANDS\"]\n",
    "data.head()"
   ]
  },
  {
   "cell_type": "code",
   "execution_count": 5,
   "id": "f46c55f6",
   "metadata": {},
   "outputs": [
    {
     "name": "stdout",
     "output_type": "stream",
     "text": [
      "0         2018-08-01 12:30:02\n",
      "1         2018-08-01 12:35:02\n",
      "2         2018-08-01 12:40:02\n",
      "3         2018-08-01 12:45:02\n",
      "4         2018-08-01 12:50:02\n",
      "                  ...        \n",
      "1029255   2022-01-01 23:35:02\n",
      "1029256   2022-01-01 23:40:02\n",
      "1029257   2022-01-01 23:45:02\n",
      "1029258   2022-01-01 23:50:02\n",
      "1029259   2022-01-01 23:55:02\n",
      "Name: TIME, Length: 1029260, dtype: datetime64[ns]\n"
     ]
    }
   ],
   "source": [
    "bike_dates = pd.to_datetime(data.TIME, format = \"%Y-%m-%d %H:%M:%S\")\n",
    "print(bike_dates)"
   ]
  },
  {
   "cell_type": "code",
   "execution_count": 6,
   "id": "cec28fa1",
   "metadata": {},
   "outputs": [
    {
     "name": "stdout",
     "output_type": "stream",
     "text": [
      "DatetimeIndex(['2018-08-01', '2018-08-01', '2018-08-01', '2018-08-01',\n",
      "               '2018-08-01', '2018-08-01', '2018-08-01', '2018-08-01',\n",
      "               '2018-08-01', '2018-08-01',\n",
      "               ...\n",
      "               '2022-01-01', '2022-01-01', '2022-01-01', '2022-01-01',\n",
      "               '2022-01-01', '2022-01-01', '2022-01-01', '2022-01-01',\n",
      "               '2022-01-01', '2022-01-01'],\n",
      "              dtype='datetime64[ns]', name='TIME', length=1029260, freq=None)\n"
     ]
    }
   ],
   "source": [
    "bike_dates.dt.date\n",
    "date_vector = pd.DatetimeIndex(bike_dates.dt.date)\n",
    "print(date_vector)"
   ]
  },
  {
   "cell_type": "code",
   "execution_count": null,
   "id": "09a924cb",
   "metadata": {},
   "outputs": [],
   "source": [
    "#Parse dates and times\n",
    "data.TIME = pd.to_datetime(data.TIME, format = \"%Y-%m-%d %H:%M:%S\")\n",
    "print(bike_dates)\n",
    "data[\"DATE\"] = pd.DatetimeIndex(data.TIME.dt.date)\n",
    "data.head()\n",
    "#Calculate bike usage\n",
    "data[\"BIKE.USAGE\"] = data[\"AVAILABLE.BIKE.STANDS\"]/data[\"BIKE.STANDS\"]\n",
    "data.head()"
   ]
  },
  {
   "cell_type": "code",
   "execution_count": 56,
   "id": "8ec04a65",
   "metadata": {},
   "outputs": [],
   "source": [
    "#create masks\n",
    "dataCP = data[data.NAME == \"CHARLEMONT PLACE\"]\n",
    "dataSG = data[data.NAME == \"ST. STEPHEN'S GREEN EAST\"]\n",
    "dataPR = data[data.NAME == \"PHIBSBOROUGH ROAD\"]"
   ]
  },
  {
   "cell_type": "code",
   "execution_count": 57,
   "id": "19b791c3",
   "metadata": {},
   "outputs": [
    {
     "data": {
      "text/plain": [
       "<bound method NDFrame.head of          Unnamed: 0                 TIME               NAME  BIKE.STANDS  \\\n",
       "276             277  2018-08-01 12:30:02  PHIBSBOROUGH ROAD           40   \n",
       "277             278  2018-08-01 12:35:02  PHIBSBOROUGH ROAD           40   \n",
       "278             279  2018-08-01 12:40:02  PHIBSBOROUGH ROAD           40   \n",
       "279             280  2018-08-01 12:45:02  PHIBSBOROUGH ROAD           40   \n",
       "280             281  2018-08-01 12:50:02  PHIBSBOROUGH ROAD           40   \n",
       "...             ...                  ...                ...          ...   \n",
       "1029255     1029256  2022-01-01 23:35:02  PHIBSBOROUGH ROAD           40   \n",
       "1029256     1029257  2022-01-01 23:40:02  PHIBSBOROUGH ROAD           40   \n",
       "1029257     1029258  2022-01-01 23:45:02  PHIBSBOROUGH ROAD           40   \n",
       "1029258     1029259  2022-01-01 23:50:02  PHIBSBOROUGH ROAD           40   \n",
       "1029259     1029260  2022-01-01 23:55:02  PHIBSBOROUGH ROAD           40   \n",
       "\n",
       "         AVAILABLE.BIKE.STANDS  AVAILABLE.BIKES STATUS  BIKE.USAGE  \n",
       "276                         40                0   Open         1.0  \n",
       "277                         40                0   Open         1.0  \n",
       "278                         40                0   Open         1.0  \n",
       "279                         40                0   Open         1.0  \n",
       "280                         40                0   Open         1.0  \n",
       "...                        ...              ...    ...         ...  \n",
       "1029255                     16               24   Open         0.4  \n",
       "1029256                     16               24   Open         0.4  \n",
       "1029257                     16               24   Open         0.4  \n",
       "1029258                     16               24   Open         0.4  \n",
       "1029259                     16               24   Open         0.4  \n",
       "\n",
       "[342924 rows x 8 columns]>"
      ]
     },
     "execution_count": 57,
     "metadata": {},
     "output_type": "execute_result"
    }
   ],
   "source": [
    "dataPR.head"
   ]
  },
  {
   "cell_type": "code",
   "execution_count": null,
   "id": "fd2220ad",
   "metadata": {},
   "outputs": [],
   "source": []
  },
  {
   "cell_type": "code",
   "execution_count": null,
   "id": "9e9abb65",
   "metadata": {},
   "outputs": [],
   "source": [
    "print(dataPR.DATE)"
   ]
  },
  {
   "cell_type": "code",
   "execution_count": null,
   "id": "109f2aa2",
   "metadata": {},
   "outputs": [],
   "source": [
    "PRdate_vector = pd.DatetimeIndex(dataPR.DATE.dt.date)\n",
    "print(PRdate_vector)"
   ]
  },
  {
   "cell_type": "code",
   "execution_count": null,
   "id": "12039746",
   "metadata": {
    "scrolled": true
   },
   "outputs": [],
   "source": [
    "# Approach 3\n",
    "idx_day_of_interest = 0;\n",
    "Day_of_interest = PRdate_vector[idx_day_of_interest] # pearse_dates.dt.date.iloc[idx_day_of_interest]\n",
    "Day_index = PRdate_vector == Day_of_interest\n",
    "print(Day_of_interest)\n",
    "\n",
    "dataPR[Day_index].head"
   ]
  },
  {
   "cell_type": "code",
   "execution_count": null,
   "id": "ff968a6d",
   "metadata": {},
   "outputs": [],
   "source": [
    "phibs_day_of_interest = dataPR.DATE[Day_index]\n",
    "time = phibs_day_of_interest.dt.hour\n",
    "stands = dataPR[Day_index]['AVAILABLE.BIKE.STANDS']\n",
    "bikes = dataPR[Day_index]['AVAILABLE.BIKES']\n",
    "bikes"
   ]
  },
  {
   "cell_type": "code",
   "execution_count": null,
   "id": "8cd02578",
   "metadata": {},
   "outputs": [],
   "source": [
    "plt.figure()\n",
    "plt.title(f'Usage of the Phibsborough Road station on the {Day_of_interest}')\n",
    "plt.plot(time, stands,'k')\n",
    "plt.xlabel('Hours of the day')\n",
    "plt.ylabel('Available bike stands')\n",
    "plt.title(f'Usage of the Phibsborough Road station on the {Day_of_interest}')\n",
    "\n",
    "plt.figure()\n",
    "plt.plot(time, bikes,'b')\n",
    "plt.xlabel('Hours of the day')\n",
    "plt.ylabel('Available bikes')\n",
    "plt.show()"
   ]
  },
  {
   "cell_type": "code",
   "execution_count": null,
   "id": "7a6169b3",
   "metadata": {},
   "outputs": [],
   "source": [
    "# Group data by date and calculate mean bike usage\n",
    "usage_by_date = dataPR.groupby('DATE')['BIKE.USAGE'].mean()\n",
    "\n",
    "# Create a line plot\n",
    "plt.plot(usage_by_date.index, usage_by_date.values)\n",
    "\n",
    "# Set plot title and axis labels\n",
    "plt.title('Average Bike Usage for Phibsborough Road')\n",
    "plt.xlabel('Date')\n",
    "plt.ylabel('Bike Usage')\n",
    "\n",
    "# Show the plot\n",
    "plt.show()"
   ]
  },
  {
   "cell_type": "code",
   "execution_count": null,
   "id": "e8a8a5b5",
   "metadata": {},
   "outputs": [],
   "source": [
    "CP_daily_avg = dataCP.groupby(pd.Grouper(key='DATE', freq='W'))['BIKE.USAGE'].mean()\n",
    "CP_date_vector = pd.DatetimeIndex(dataCP[\"DATE\"].dt.date)\n",
    "\n",
    "PR_daily_avg = dataPR.groupby(pd.Grouper(key='DATE', freq='W'))['BIKE.USAGE'].mean()\n",
    "PR_date_vector = pd.DatetimeIndex(dataPR[\"DATE\"].dt.date)\n",
    "\n",
    "SG_daily_avg = dataSG.groupby(pd.Grouper(key='DATE', freq='W'))['BIKE.USAGE'].mean()\n",
    "SG_date_vector = pd.DatetimeIndex(dataSG[\"DATE\"].dt.date)"
   ]
  },
  {
   "cell_type": "code",
   "execution_count": null,
   "id": "18665163",
   "metadata": {},
   "outputs": [],
   "source": [
    "#datavis\n",
    "usageFig, axes = plt.subplots(3, 1, figsize=(20,18))\n",
    "sns.lineplot(ax=axes[0],x = CP_daily_avg.index, y = CP_daily_avg.values)\n",
    "axes[0].set_title('Charlemont Place')\n",
    "sns.lineplot(ax=axes[1],x = PR_daily_avg.index, y = PR_daily_avg.values)\n",
    "axes[1].set_title('Phibsborough Road')\n",
    "sns.lineplot(ax=axes[2],x = SG_daily_avg.index, y = SG_daily_avg.values)\n",
    "axes[2].set_title(\"St. Stephen's Green East\")\n"
   ]
  },
  {
   "cell_type": "code",
   "execution_count": null,
   "id": "7bb2ac4d",
   "metadata": {},
   "outputs": [],
   "source": [
    "CP_weekly_avg = dataCP.groupby(pd.Grouper(key='DATE', freq='W'))['BIKE.USAGE'].mean()\n",
    "PR_weekly_avg = dataPR.groupby(pd.Grouper(key='DATE', freq='W'))['BIKE.USAGE'].mean()\n",
    "SG_weekly_avg = dataSG.groupby(pd.Grouper(key='DATE', freq='W'))['BIKE.USAGE'].mean()\n"
   ]
  },
  {
   "cell_type": "code",
   "execution_count": null,
   "id": "832da99a",
   "metadata": {},
   "outputs": [],
   "source": [
    "usageFig, axes = plt.subplots(3, 1, figsize=(20,18))\n",
    "\n",
    "sns.barplot(ax=axes[0], x=CP_weekly_avg.index, y=CP_weekly_avg.values)\n",
    "axes[0].set_title('Charlemont Place')\n",
    "\n",
    "sns.barplot(ax=axes[1], x=PR_weekly_avg.index, y=PR_weekly_avg.values)\n",
    "axes[1].set_title('Phibsborough Road')\n",
    "\n",
    "sns.barplot(ax=axes[2], x=SG_weekly_avg.index, y=SG_weekly_avg.values)\n",
    "axes[2].set_title(\"St. Stephen's Green East\")"
   ]
  },
  {
   "cell_type": "code",
   "execution_count": null,
   "id": "882501d5",
   "metadata": {},
   "outputs": [],
   "source": [
    "\n",
    "\n",
    "# Filter data for year 2020\n",
    "dataCP_2020 = dataCP[dataCP['TIME'].dt.year == 2020]\n",
    "dataPR_2020 = dataPR[dataPR['TIME'].dt.year == 2020]\n",
    "dataSG_2020 = dataSG[dataSG['TIME'].dt.year == 2020]\n",
    "\n",
    "# Group data by week and calculate weekly average\n",
    "CP_weekly_avg = dataCP_2020.groupby(pd.Grouper(key='TIME', freq='W'))['BIKE.USAGE'].mean()\n",
    "PR_weekly_avg = dataPR_2020.groupby(pd.Grouper(key='TIME', freq='W'))['BIKE.USAGE'].mean()\n",
    "SG_weekly_avg = dataSG_2020.groupby(pd.Grouper(key='TIME', freq='W'))['BIKE.USAGE'].mean()\n",
    "\n",
    "# Create bar plot\n",
    "fig, axes = plt.subplots(3, 1, figsize=(20,18))\n",
    "sns.barplot(ax=axes[0], x=CP_weekly_avg.index, y=CP_weekly_avg.values)\n",
    "axes[0].set_title('Charlemont Place')\n",
    "sns.barplot(ax=axes[1], x=PR_weekly_avg.index, y=PR_weekly_avg.values)\n",
    "axes[1].set_title('Phibsborough Road')\n",
    "sns.barplot(ax=axes[2], x=SG_weekly_avg.index, y=SG_weekly_avg.values)\n",
    "axes[2].set_title(\"St. Stephen's Green East\")\n",
    "\n",
    "plt.show()"
   ]
  },
  {
   "cell_type": "code",
   "execution_count": null,
   "id": "744bbddd",
   "metadata": {},
   "outputs": [],
   "source": []
  },
  {
   "cell_type": "code",
   "execution_count": 13,
   "id": "07303d60",
   "metadata": {},
   "outputs": [
    {
     "ename": "AttributeError",
     "evalue": "Can only use .dt accessor with datetimelike values",
     "output_type": "error",
     "traceback": [
      "\u001b[0;31m---------------------------------------------------------------------------\u001b[0m",
      "\u001b[0;31mAttributeError\u001b[0m                            Traceback (most recent call last)",
      "Input \u001b[0;32mIn [13]\u001b[0m, in \u001b[0;36m<cell line: 5>\u001b[0;34m()\u001b[0m\n\u001b[1;32m      2\u001b[0m data_2020 \u001b[38;5;241m=\u001b[39m data[data[\u001b[38;5;124m'\u001b[39m\u001b[38;5;124mTIME\u001b[39m\u001b[38;5;124m'\u001b[39m]\u001b[38;5;241m.\u001b[39mstr\u001b[38;5;241m.\u001b[39mstartswith(\u001b[38;5;124m'\u001b[39m\u001b[38;5;124m2020\u001b[39m\u001b[38;5;124m'\u001b[39m)]\n\u001b[1;32m      4\u001b[0m \u001b[38;5;66;03m# Group the data by month and calculate the average bike usage for each month:\u001b[39;00m\n\u001b[0;32m----> 5\u001b[0m monthly_avg \u001b[38;5;241m=\u001b[39m data_2020\u001b[38;5;241m.\u001b[39mgroupby(\u001b[43mdata_2020\u001b[49m\u001b[43m[\u001b[49m\u001b[38;5;124;43m'\u001b[39;49m\u001b[38;5;124;43mTIME\u001b[39;49m\u001b[38;5;124;43m'\u001b[39;49m\u001b[43m]\u001b[49m\u001b[38;5;241;43m.\u001b[39;49m\u001b[43mdt\u001b[49m\u001b[38;5;241m.\u001b[39mstrftime(\u001b[38;5;124m'\u001b[39m\u001b[38;5;124m%\u001b[39m\u001b[38;5;124mB\u001b[39m\u001b[38;5;124m'\u001b[39m))[\u001b[38;5;124m'\u001b[39m\u001b[38;5;124mBIKE.USAGE\u001b[39m\u001b[38;5;124m'\u001b[39m]\u001b[38;5;241m.\u001b[39mmean()\n",
      "File \u001b[0;32m~/opt/anaconda3/lib/python3.9/site-packages/pandas/core/generic.py:5575\u001b[0m, in \u001b[0;36mNDFrame.__getattr__\u001b[0;34m(self, name)\u001b[0m\n\u001b[1;32m   5568\u001b[0m \u001b[38;5;28;01mif\u001b[39;00m (\n\u001b[1;32m   5569\u001b[0m     name \u001b[38;5;129;01mnot\u001b[39;00m \u001b[38;5;129;01min\u001b[39;00m \u001b[38;5;28mself\u001b[39m\u001b[38;5;241m.\u001b[39m_internal_names_set\n\u001b[1;32m   5570\u001b[0m     \u001b[38;5;129;01mand\u001b[39;00m name \u001b[38;5;129;01mnot\u001b[39;00m \u001b[38;5;129;01min\u001b[39;00m \u001b[38;5;28mself\u001b[39m\u001b[38;5;241m.\u001b[39m_metadata\n\u001b[1;32m   5571\u001b[0m     \u001b[38;5;129;01mand\u001b[39;00m name \u001b[38;5;129;01mnot\u001b[39;00m \u001b[38;5;129;01min\u001b[39;00m \u001b[38;5;28mself\u001b[39m\u001b[38;5;241m.\u001b[39m_accessors\n\u001b[1;32m   5572\u001b[0m     \u001b[38;5;129;01mand\u001b[39;00m \u001b[38;5;28mself\u001b[39m\u001b[38;5;241m.\u001b[39m_info_axis\u001b[38;5;241m.\u001b[39m_can_hold_identifiers_and_holds_name(name)\n\u001b[1;32m   5573\u001b[0m ):\n\u001b[1;32m   5574\u001b[0m     \u001b[38;5;28;01mreturn\u001b[39;00m \u001b[38;5;28mself\u001b[39m[name]\n\u001b[0;32m-> 5575\u001b[0m \u001b[38;5;28;01mreturn\u001b[39;00m \u001b[38;5;28;43mobject\u001b[39;49m\u001b[38;5;241;43m.\u001b[39;49m\u001b[38;5;21;43m__getattribute__\u001b[39;49m\u001b[43m(\u001b[49m\u001b[38;5;28;43mself\u001b[39;49m\u001b[43m,\u001b[49m\u001b[43m \u001b[49m\u001b[43mname\u001b[49m\u001b[43m)\u001b[49m\n",
      "File \u001b[0;32m~/opt/anaconda3/lib/python3.9/site-packages/pandas/core/accessor.py:182\u001b[0m, in \u001b[0;36mCachedAccessor.__get__\u001b[0;34m(self, obj, cls)\u001b[0m\n\u001b[1;32m    179\u001b[0m \u001b[38;5;28;01mif\u001b[39;00m obj \u001b[38;5;129;01mis\u001b[39;00m \u001b[38;5;28;01mNone\u001b[39;00m:\n\u001b[1;32m    180\u001b[0m     \u001b[38;5;66;03m# we're accessing the attribute of the class, i.e., Dataset.geo\u001b[39;00m\n\u001b[1;32m    181\u001b[0m     \u001b[38;5;28;01mreturn\u001b[39;00m \u001b[38;5;28mself\u001b[39m\u001b[38;5;241m.\u001b[39m_accessor\n\u001b[0;32m--> 182\u001b[0m accessor_obj \u001b[38;5;241m=\u001b[39m \u001b[38;5;28;43mself\u001b[39;49m\u001b[38;5;241;43m.\u001b[39;49m\u001b[43m_accessor\u001b[49m\u001b[43m(\u001b[49m\u001b[43mobj\u001b[49m\u001b[43m)\u001b[49m\n\u001b[1;32m    183\u001b[0m \u001b[38;5;66;03m# Replace the property with the accessor object. Inspired by:\u001b[39;00m\n\u001b[1;32m    184\u001b[0m \u001b[38;5;66;03m# https://www.pydanny.com/cached-property.html\u001b[39;00m\n\u001b[1;32m    185\u001b[0m \u001b[38;5;66;03m# We need to use object.__setattr__ because we overwrite __setattr__ on\u001b[39;00m\n\u001b[1;32m    186\u001b[0m \u001b[38;5;66;03m# NDFrame\u001b[39;00m\n\u001b[1;32m    187\u001b[0m \u001b[38;5;28mobject\u001b[39m\u001b[38;5;241m.\u001b[39m\u001b[38;5;21m__setattr__\u001b[39m(obj, \u001b[38;5;28mself\u001b[39m\u001b[38;5;241m.\u001b[39m_name, accessor_obj)\n",
      "File \u001b[0;32m~/opt/anaconda3/lib/python3.9/site-packages/pandas/core/indexes/accessors.py:509\u001b[0m, in \u001b[0;36mCombinedDatetimelikeProperties.__new__\u001b[0;34m(cls, data)\u001b[0m\n\u001b[1;32m    506\u001b[0m \u001b[38;5;28;01melif\u001b[39;00m is_period_dtype(data\u001b[38;5;241m.\u001b[39mdtype):\n\u001b[1;32m    507\u001b[0m     \u001b[38;5;28;01mreturn\u001b[39;00m PeriodProperties(data, orig)\n\u001b[0;32m--> 509\u001b[0m \u001b[38;5;28;01mraise\u001b[39;00m \u001b[38;5;167;01mAttributeError\u001b[39;00m(\u001b[38;5;124m\"\u001b[39m\u001b[38;5;124mCan only use .dt accessor with datetimelike values\u001b[39m\u001b[38;5;124m\"\u001b[39m)\n",
      "\u001b[0;31mAttributeError\u001b[0m: Can only use .dt accessor with datetimelike values"
     ]
    }
   ],
   "source": [
    "# Filter the data to include only the year 2020:\n",
    "data_2020 = data[data['TIME'].str.startswith('2020')]\n",
    "\n",
    "# Group the data by month and calculate the average bike usage for each month:\n",
    "monthly_avg = data_2020.groupby(data_2020['TIME'].dt.strftime('%B'))['BIKE.USAGE'].mean()\n"
   ]
  },
  {
   "cell_type": "code",
   "execution_count": 37,
   "id": "2f2ad603",
   "metadata": {},
   "outputs": [],
   "source": [
    "import pandas as pd\n",
    "from sklearn.cluster import KMeans\n",
    "from sklearn.preprocessing import StandardScaler\n"
   ]
  },
  {
   "cell_type": "code",
   "execution_count": 38,
   "id": "e12fec38",
   "metadata": {},
   "outputs": [
    {
     "data": {
      "text/html": [
       "<div>\n",
       "<style scoped>\n",
       "    .dataframe tbody tr th:only-of-type {\n",
       "        vertical-align: middle;\n",
       "    }\n",
       "\n",
       "    .dataframe tbody tr th {\n",
       "        vertical-align: top;\n",
       "    }\n",
       "\n",
       "    .dataframe thead th {\n",
       "        text-align: right;\n",
       "    }\n",
       "</style>\n",
       "<table border=\"1\" class=\"dataframe\">\n",
       "  <thead>\n",
       "    <tr style=\"text-align: right;\">\n",
       "      <th></th>\n",
       "      <th>Unnamed: 0</th>\n",
       "      <th>NAME</th>\n",
       "      <th>LATITUDE</th>\n",
       "      <th>LONGITUDE</th>\n",
       "      <th>BIKE.STANDS</th>\n",
       "    </tr>\n",
       "  </thead>\n",
       "  <tbody>\n",
       "    <tr>\n",
       "      <th>0</th>\n",
       "      <td>1</td>\n",
       "      <td>CLARENDON ROW</td>\n",
       "      <td>53.340927</td>\n",
       "      <td>-6.262501</td>\n",
       "      <td>31</td>\n",
       "    </tr>\n",
       "    <tr>\n",
       "      <th>1</th>\n",
       "      <td>2</td>\n",
       "      <td>BLESSINGTON STREET</td>\n",
       "      <td>53.356770</td>\n",
       "      <td>-6.268140</td>\n",
       "      <td>20</td>\n",
       "    </tr>\n",
       "    <tr>\n",
       "      <th>2</th>\n",
       "      <td>3</td>\n",
       "      <td>BOLTON STREET</td>\n",
       "      <td>53.351181</td>\n",
       "      <td>-6.269859</td>\n",
       "      <td>20</td>\n",
       "    </tr>\n",
       "    <tr>\n",
       "      <th>3</th>\n",
       "      <td>4</td>\n",
       "      <td>GREEK STREET</td>\n",
       "      <td>53.346874</td>\n",
       "      <td>-6.272976</td>\n",
       "      <td>20</td>\n",
       "    </tr>\n",
       "    <tr>\n",
       "      <th>4</th>\n",
       "      <td>5</td>\n",
       "      <td>CHARLEMONT PLACE</td>\n",
       "      <td>53.330662</td>\n",
       "      <td>-6.260177</td>\n",
       "      <td>40</td>\n",
       "    </tr>\n",
       "  </tbody>\n",
       "</table>\n",
       "</div>"
      ],
      "text/plain": [
       "   Unnamed: 0                NAME   LATITUDE  LONGITUDE  BIKE.STANDS\n",
       "0           1       CLARENDON ROW  53.340927  -6.262501           31\n",
       "1           2  BLESSINGTON STREET  53.356770  -6.268140           20\n",
       "2           3       BOLTON STREET  53.351181  -6.269859           20\n",
       "3           4        GREEK STREET  53.346874  -6.272976           20\n",
       "4           5    CHARLEMONT PLACE  53.330662  -6.260177           40"
      ]
     },
     "execution_count": 38,
     "metadata": {},
     "output_type": "execute_result"
    }
   ],
   "source": [
    "df = pd.read_csv(\"data/stations.csv\")\n",
    "df.head()"
   ]
  },
  {
   "cell_type": "code",
   "execution_count": 39,
   "id": "e2f9ffe0",
   "metadata": {},
   "outputs": [],
   "source": []
  },
  {
   "cell_type": "code",
   "execution_count": 46,
   "id": "621bfcd2",
   "metadata": {},
   "outputs": [
    {
     "name": "stdout",
     "output_type": "stream",
     "text": [
      "[1 0 0 0 1 1 2 1 1 1 1 0 1 1 0 1 1 1 1 1 1 0 0 1 1 1 0 0 0 0 1 0 1 2 1 1 0\n",
      " 1 0 1 0 1 0 0 0 1 1 1 0 1 1 1 1 1 1 1 1 0 0 0 1 1 1 1 1 1 1 1 1 1 2 2 2 2\n",
      " 2 0 0 0 2 2 2 2 2 2 2 2 2 1 1 1 2 2 2 2 2 2 1 1 2 0 0 0 0 0 0 0 0 0 0 0 1\n",
      " 1 0]\n"
     ]
    },
    {
     "data": {
      "text/plain": [
       "<AxesSubplot:xlabel='LATITUDE', ylabel='LONGITUDE'>"
      ]
     },
     "execution_count": 46,
     "metadata": {},
     "output_type": "execute_result"
    },
    {
     "data": {
      "image/png": "[encoded data removed]",
      "text/plain": [
       "<Figure size 432x288 with 1 Axes>"
      ]
     },
     "metadata": {
      "needs_background": "light"
     },
     "output_type": "display_data"
    }
   ],
   "source": [
    "X = df[['LATITUDE', 'LONGITUDE']]\n",
    "\n",
    "scaler = StandardScaler()\n",
    "X_std = scaler.fit_transform(X)\n",
    "\n",
    "kmeans = KMeans(n_clusters=3, random_state=42).fit(X_std)\n",
    "\n",
    "df['CLUSTER'] = kmeans.labels_\n",
    "\n",
    "print(kmeans.labels_)\n",
    "\n",
    "sns.scatterplot(x=\"LATITUDE\", y=\"LONGITUDE\",hue = 'CLUSTER', data=df, palette='viridis')\n",
    "\n",
    "# Add the centroids to the plot as black diamonds\n",
    "sns.scatterplot(x=centroids[:, 0], y=centroids[:, 1],marker='D', s=100, color='black')\n"
   ]
  },
  {
   "cell_type": "code",
   "execution_count": 32,
   "id": "928ed9cb",
   "metadata": {},
   "outputs": [
    {
     "data": {
      "text/plain": [
       "<AxesSubplot:xlabel='LATITUDE', ylabel='LONGITUDE'>"
      ]
     },
     "execution_count": 32,
     "metadata": {},
     "output_type": "execute_result"
    },
    {
     "data": {
      "image/png": "[encoded data removed]",
      "text/plain": [
       "<Figure size 432x288 with 1 Axes>"
      ]
     },
     "metadata": {
      "needs_background": "light"
     },
     "output_type": "display_data"
    }
   ],
   "source": [
    "sns.scatterplot(x=\"LATITUDE\", y=\"LONGITUDE\",hue = 'CLUSTER', data=df, palette='viridis')\n",
    "\n"
   ]
  },
  {
   "cell_type": "code",
   "execution_count": 36,
   "id": "8146eaee",
   "metadata": {
    "scrolled": true
   },
   "outputs": [
    {
     "data": {
      "text/plain": [
       "<AxesSubplot:xlabel='LATITUDE', ylabel='LONGITUDE'>"
      ]
     },
     "execution_count": 36,
     "metadata": {},
     "output_type": "execute_result"
    },
    {
     "data": {
      "image/png": "[encoded data removed]",
      "text/plain": [
       "<Figure size 432x288 with 1 Axes>"
      ]
     },
     "metadata": {
      "needs_background": "light"
     },
     "output_type": "display_data"
    }
   ],
   "source": [
    "\n",
    "sns.scatterplot(x=\"LATITUDE\", y=\"LONGITUDE\",hue = 'CLUSTER', data=df, palette='viridis')\n",
    "\n",
    "\n",
    "# Add the centroids to the plot as black diamonds\n",
    "sns.scatterplot(x=centroids[:, 0], y=centroids[:, 1],marker='D', s=100, color='black')\n"
   ]
  },
  {
   "cell_type": "code",
   "execution_count": 49,
   "id": "c4b33565",
   "metadata": {},
   "outputs": [
    {
     "name": "stdout",
     "output_type": "stream",
     "text": [
      "[[53.35604136 -6.27203773]\n",
      " [53.34108627 -6.24685977]\n",
      " [53.34365711 -6.29759778]]\n"
     ]
    },
    {
     "data": {
      "text/plain": [
       "<AxesSubplot:xlabel='LATITUDE', ylabel='LONGITUDE'>"
      ]
     },
     "execution_count": 49,
     "metadata": {},
     "output_type": "execute_result"
    },
    {
     "data": {
      "image/png": "[encoded data removed]",
      "text/plain": [
       "<Figure size 432x288 with 1 Axes>"
      ]
     },
     "metadata": {
      "needs_background": "light"
     },
     "output_type": "display_data"
    }
   ],
   "source": [
    "import pandas as pd\n",
    "import seaborn as sns\n",
    "from sklearn.cluster import KMeans\n",
    "from sklearn.preprocessing import StandardScaler\n",
    "from scipy.spatial.distance import cdist\n",
    "\n",
    "# Load the dataset\n",
    "df = pd.read_csv(\"data/stations.csv\")\n",
    "\n",
    "# Filter the dataframe to include only bike stands = 40\n",
    "df = df[df['BIKE.STANDS'] == 40]\n",
    "\n",
    "# Create a subset of the dataset containing only the latitude and longitude columns\n",
    "X = df[['LATITUDE', 'LONGITUDE']]\n",
    "\n",
    "# Standardize the data\n",
    "scaler = StandardScaler()\n",
    "X_std = scaler.fit_transform(X)\n",
    "\n",
    "# Apply k-means clustering with k=3\n",
    "kmeans = KMeans(n_clusters=3, random_state=42).fit(X_std)\n",
    "\n",
    "# Add the cluster labels to the dataframe\n",
    "df['CLUSTER'] = kmeans.labels_\n",
    "\n",
    "# Print the centroids of each cluster\n",
    "centroids = scaler.inverse_transform(kmeans.cluster_centers_)\n",
    "print(centroids)\n",
    "\n",
    "# Create a scatter plot of the data points colored by cluster\n",
    "sns.scatterplot(x=\"LATITUDE\", y=\"LONGITUDE\",hue = 'CLUSTER', data=df, palette='viridis')\n",
    "\n",
    "# Add the centroids to the plot as black diamonds\n",
    "sns.scatterplot(x=centroids[:, 0], y=centroids[:, 1],marker='D', s=100, color='black')\n"
   ]
  },
  {
   "cell_type": "code",
   "execution_count": 53,
   "id": "fd7ef1fe",
   "metadata": {},
   "outputs": [
    {
     "name": "stdout",
     "output_type": "stream",
     "text": [
      "[LATITUDE     53.356308\n",
      "LONGITUDE    -6.273717\n",
      "Name: 107, dtype: float64, LATITUDE     53.338615\n",
      "LONGITUDE    -6.248606\n",
      "Name: 111, dtype: float64, LATITUDE     53.343899\n",
      "LONGITUDE    -6.297060\n",
      "Name: 93, dtype: float64]\n"
     ]
    }
   ],
   "source": [
    "# Find the nearest point to each cluster\n",
    "distances = cdist(X, centroids, 'euclidean')\n",
    "nearest_centroid_indices = np.argpartition(distances, kth=range(3))[:, :3]\n",
    "\n",
    "# Get the nearest point to each cluster\n",
    "nearest_points = []\n",
    "for i in range(kmeans.n_clusters):\n",
    "    cluster_indices = np.where(kmeans.labels_ == i)[0]\n",
    "    nearest_point_index = np.argmin(distances[cluster_indices, i])\n",
    "    nearest_point = X.iloc[cluster_indices[nearest_point_index]]\n",
    "    nearest_points.append(nearest_point)\n",
    "\n",
    "# Print the nearest point to each cluster\n",
    "print(nearest_points)"
   ]
  },
  {
   "cell_type": "code",
   "execution_count": 3,
   "id": "c65a8180",
   "metadata": {},
   "outputs": [
    {
     "data": {
      "text/plain": [
       "<bound method NDFrame.head of          Unnamed: 0                 TIME                  NAME  BIKE.STANDS  \\\n",
       "0                 1  2018-08-01 12:30:02        ROYAL HOSPITAL           40   \n",
       "1                 2  2018-08-01 12:35:02        ROYAL HOSPITAL           40   \n",
       "2                 3  2018-08-01 12:40:02        ROYAL HOSPITAL           40   \n",
       "3                 4  2018-08-01 12:45:02        ROYAL HOSPITAL           40   \n",
       "4                 5  2018-08-01 12:50:02        ROYAL HOSPITAL           40   \n",
       "...             ...                  ...                   ...          ...   \n",
       "1023656     1023657  2022-01-01 23:35:02  MERRION SQUARE SOUTH           40   \n",
       "1023657     1023658  2022-01-01 23:40:02  MERRION SQUARE SOUTH           40   \n",
       "1023658     1023659  2022-01-01 23:45:02  MERRION SQUARE SOUTH           40   \n",
       "1023659     1023660  2022-01-01 23:50:02  MERRION SQUARE SOUTH           40   \n",
       "1023660     1023661  2022-01-01 23:55:02  MERRION SQUARE SOUTH           40   \n",
       "\n",
       "         AVAILABLE.BIKE.STANDS  AVAILABLE.BIKES STATUS  \n",
       "0                           40                0   Open  \n",
       "1                           40                0   Open  \n",
       "2                           40                0   Open  \n",
       "3                           40                0   Open  \n",
       "4                           40                0   Open  \n",
       "...                        ...              ...    ...  \n",
       "1023656                     39                1   Open  \n",
       "1023657                     39                1   Open  \n",
       "1023658                     39                1   Open  \n",
       "1023659                     39                1   Open  \n",
       "1023660                     39                1   Open  \n",
       "\n",
       "[1023661 rows x 7 columns]>"
      ]
     },
     "execution_count": 3,
     "metadata": {},
     "output_type": "execute_result"
    }
   ],
   "source": [
    "#import data\n",
    "data = pd.read_csv(\"data/bikedata.csv\")\n",
    "data.head"
   ]
  },
  {
   "cell_type": "code",
   "execution_count": 4,
   "id": "ace6cd47",
   "metadata": {},
   "outputs": [
    {
     "data": {
      "text/html": [
       "<div>\n",
       "<style scoped>\n",
       "    .dataframe tbody tr th:only-of-type {\n",
       "        vertical-align: middle;\n",
       "    }\n",
       "\n",
       "    .dataframe tbody tr th {\n",
       "        vertical-align: top;\n",
       "    }\n",
       "\n",
       "    .dataframe thead th {\n",
       "        text-align: right;\n",
       "    }\n",
       "</style>\n",
       "<table border=\"1\" class=\"dataframe\">\n",
       "  <thead>\n",
       "    <tr style=\"text-align: right;\">\n",
       "      <th></th>\n",
       "      <th>Unnamed: 0</th>\n",
       "      <th>TIME</th>\n",
       "      <th>NAME</th>\n",
       "      <th>BIKE.STANDS</th>\n",
       "      <th>AVAILABLE.BIKE.STANDS</th>\n",
       "      <th>AVAILABLE.BIKES</th>\n",
       "      <th>STATUS</th>\n",
       "      <th>DATE</th>\n",
       "      <th>BIKE.USAGE</th>\n",
       "    </tr>\n",
       "  </thead>\n",
       "  <tbody>\n",
       "    <tr>\n",
       "      <th>0</th>\n",
       "      <td>1</td>\n",
       "      <td>2018-08-01 12:30:02</td>\n",
       "      <td>ROYAL HOSPITAL</td>\n",
       "      <td>40</td>\n",
       "      <td>40</td>\n",
       "      <td>0</td>\n",
       "      <td>Open</td>\n",
       "      <td>2018-08-01</td>\n",
       "      <td>1.0</td>\n",
       "    </tr>\n",
       "    <tr>\n",
       "      <th>1</th>\n",
       "      <td>2</td>\n",
       "      <td>2018-08-01 12:35:02</td>\n",
       "      <td>ROYAL HOSPITAL</td>\n",
       "      <td>40</td>\n",
       "      <td>40</td>\n",
       "      <td>0</td>\n",
       "      <td>Open</td>\n",
       "      <td>2018-08-01</td>\n",
       "      <td>1.0</td>\n",
       "    </tr>\n",
       "    <tr>\n",
       "      <th>2</th>\n",
       "      <td>3</td>\n",
       "      <td>2018-08-01 12:40:02</td>\n",
       "      <td>ROYAL HOSPITAL</td>\n",
       "      <td>40</td>\n",
       "      <td>40</td>\n",
       "      <td>0</td>\n",
       "      <td>Open</td>\n",
       "      <td>2018-08-01</td>\n",
       "      <td>1.0</td>\n",
       "    </tr>\n",
       "    <tr>\n",
       "      <th>3</th>\n",
       "      <td>4</td>\n",
       "      <td>2018-08-01 12:45:02</td>\n",
       "      <td>ROYAL HOSPITAL</td>\n",
       "      <td>40</td>\n",
       "      <td>40</td>\n",
       "      <td>0</td>\n",
       "      <td>Open</td>\n",
       "      <td>2018-08-01</td>\n",
       "      <td>1.0</td>\n",
       "    </tr>\n",
       "    <tr>\n",
       "      <th>4</th>\n",
       "      <td>5</td>\n",
       "      <td>2018-08-01 12:50:02</td>\n",
       "      <td>ROYAL HOSPITAL</td>\n",
       "      <td>40</td>\n",
       "      <td>40</td>\n",
       "      <td>0</td>\n",
       "      <td>Open</td>\n",
       "      <td>2018-08-01</td>\n",
       "      <td>1.0</td>\n",
       "    </tr>\n",
       "  </tbody>\n",
       "</table>\n",
       "</div>"
      ],
      "text/plain": [
       "   Unnamed: 0                TIME            NAME  BIKE.STANDS  \\\n",
       "0           1 2018-08-01 12:30:02  ROYAL HOSPITAL           40   \n",
       "1           2 2018-08-01 12:35:02  ROYAL HOSPITAL           40   \n",
       "2           3 2018-08-01 12:40:02  ROYAL HOSPITAL           40   \n",
       "3           4 2018-08-01 12:45:02  ROYAL HOSPITAL           40   \n",
       "4           5 2018-08-01 12:50:02  ROYAL HOSPITAL           40   \n",
       "\n",
       "   AVAILABLE.BIKE.STANDS  AVAILABLE.BIKES STATUS       DATE  BIKE.USAGE  \n",
       "0                     40                0   Open 2018-08-01         1.0  \n",
       "1                     40                0   Open 2018-08-01         1.0  \n",
       "2                     40                0   Open 2018-08-01         1.0  \n",
       "3                     40                0   Open 2018-08-01         1.0  \n",
       "4                     40                0   Open 2018-08-01         1.0  "
      ]
     },
     "execution_count": 4,
     "metadata": {},
     "output_type": "execute_result"
    }
   ],
   "source": [
    "#Parse dates and times\n",
    "data.TIME = pd.to_datetime(data.TIME, format = \"%Y-%m-%d %H:%M:%S\")\n",
    "data[\"DATE\"] = pd.DatetimeIndex(data.TIME.dt.date)\n",
    "data.head()\n",
    "#Calculate bike usage\n",
    "data[\"BIKE.USAGE\"] = data[\"AVAILABLE.BIKE.STANDS\"]/data[\"BIKE.STANDS\"]\n",
    "data.head()"
   ]
  },
  {
   "cell_type": "code",
   "execution_count": 5,
   "id": "6469d22e",
   "metadata": {},
   "outputs": [],
   "source": [
    "#create masks\n",
    "dataPR = data[data.NAME == \"PHIBSBOROUGH ROAD\"]\n",
    "dataMS = data[data.NAME == \"MERRION SQUARE SOUTH\"]\n",
    "dataRH = data[data.NAME == \"ROYAL HOSPITAL\"]\n",
    "\n",
    "\n",
    "#Calculate weekly average usage\n",
    "PR_weekly_avg = dataPR.groupby(pd.Grouper(key='DATE', freq='W'))['BIKE.USAGE'].mean()\n",
    "PR_date_vector = pd.DatetimeIndex(dataPR[\"DATE\"].dt.date)\n",
    "\n",
    "MS_weekly_avg = dataMS.groupby(pd.Grouper(key='DATE', freq='W'))['BIKE.USAGE'].mean()\n",
    "MS_date_vector = pd.DatetimeIndex(dataMS[\"DATE\"].dt.date)\n",
    "\n",
    "RH_weekly_avg = dataRH.groupby(pd.Grouper(key='DATE', freq='W'))['BIKE.USAGE'].mean()\n",
    "RH_date_vector = pd.DatetimeIndex(dataRH[\"DATE\"].dt.date)"
   ]
  },
  {
   "cell_type": "code",
   "execution_count": 6,
   "id": "f4935152",
   "metadata": {},
   "outputs": [
    {
     "data": {
      "text/plain": [
       "<bound method NDFrame.head of          Unnamed: 0                TIME               NAME  BIKE.STANDS  \\\n",
       "138             139 2018-08-01 12:30:02  PHIBSBOROUGH ROAD           40   \n",
       "139             140 2018-08-01 12:35:02  PHIBSBOROUGH ROAD           40   \n",
       "140             141 2018-08-01 12:40:02  PHIBSBOROUGH ROAD           40   \n",
       "141             142 2018-08-01 12:45:02  PHIBSBOROUGH ROAD           40   \n",
       "142             143 2018-08-01 12:50:02  PHIBSBOROUGH ROAD           40   \n",
       "...             ...                 ...                ...          ...   \n",
       "1023368     1023369 2022-01-01 23:35:02  PHIBSBOROUGH ROAD           40   \n",
       "1023369     1023370 2022-01-01 23:40:02  PHIBSBOROUGH ROAD           40   \n",
       "1023370     1023371 2022-01-01 23:45:02  PHIBSBOROUGH ROAD           40   \n",
       "1023371     1023372 2022-01-01 23:50:02  PHIBSBOROUGH ROAD           40   \n",
       "1023372     1023373 2022-01-01 23:55:02  PHIBSBOROUGH ROAD           40   \n",
       "\n",
       "         AVAILABLE.BIKE.STANDS  AVAILABLE.BIKES STATUS       DATE  BIKE.USAGE  \n",
       "138                         40                0   Open 2018-08-01         1.0  \n",
       "139                         40                0   Open 2018-08-01         1.0  \n",
       "140                         40                0   Open 2018-08-01         1.0  \n",
       "141                         40                0   Open 2018-08-01         1.0  \n",
       "142                         40                0   Open 2018-08-01         1.0  \n",
       "...                        ...              ...    ...        ...         ...  \n",
       "1023368                     16               24   Open 2022-01-01         0.4  \n",
       "1023369                     16               24   Open 2022-01-01         0.4  \n",
       "1023370                     16               24   Open 2022-01-01         0.4  \n",
       "1023371                     16               24   Open 2022-01-01         0.4  \n",
       "1023372                     16               24   Open 2022-01-01         0.4  \n",
       "\n",
       "[342924 rows x 9 columns]>"
      ]
     },
     "execution_count": 6,
     "metadata": {},
     "output_type": "execute_result"
    }
   ],
   "source": [
    "dataPR.head"
   ]
  },
  {
   "cell_type": "code",
   "execution_count": 9,
   "id": "b75ea5e9",
   "metadata": {},
   "outputs": [
    {
     "data": {
      "text/html": [
       "<div>\n",
       "<style scoped>\n",
       "    .dataframe tbody tr th:only-of-type {\n",
       "        vertical-align: middle;\n",
       "    }\n",
       "\n",
       "    .dataframe tbody tr th {\n",
       "        vertical-align: top;\n",
       "    }\n",
       "\n",
       "    .dataframe thead th {\n",
       "        text-align: right;\n",
       "    }\n",
       "</style>\n",
       "<table border=\"1\" class=\"dataframe\">\n",
       "  <thead>\n",
       "    <tr style=\"text-align: right;\">\n",
       "      <th></th>\n",
       "      <th>PR_weekly_avg</th>\n",
       "      <th>DATE</th>\n",
       "    </tr>\n",
       "  </thead>\n",
       "  <tbody>\n",
       "    <tr>\n",
       "      <th>138</th>\n",
       "      <td>NaN</td>\n",
       "      <td>2018-08-01</td>\n",
       "    </tr>\n",
       "    <tr>\n",
       "      <th>139</th>\n",
       "      <td>NaN</td>\n",
       "      <td>2018-08-01</td>\n",
       "    </tr>\n",
       "    <tr>\n",
       "      <th>140</th>\n",
       "      <td>NaN</td>\n",
       "      <td>2018-08-01</td>\n",
       "    </tr>\n",
       "    <tr>\n",
       "      <th>141</th>\n",
       "      <td>NaN</td>\n",
       "      <td>2018-08-01</td>\n",
       "    </tr>\n",
       "    <tr>\n",
       "      <th>142</th>\n",
       "      <td>NaN</td>\n",
       "      <td>2018-08-01</td>\n",
       "    </tr>\n",
       "    <tr>\n",
       "      <th>...</th>\n",
       "      <td>...</td>\n",
       "      <td>...</td>\n",
       "    </tr>\n",
       "    <tr>\n",
       "      <th>1023368</th>\n",
       "      <td>NaN</td>\n",
       "      <td>2022-01-01</td>\n",
       "    </tr>\n",
       "    <tr>\n",
       "      <th>1023369</th>\n",
       "      <td>NaN</td>\n",
       "      <td>2022-01-01</td>\n",
       "    </tr>\n",
       "    <tr>\n",
       "      <th>1023370</th>\n",
       "      <td>NaN</td>\n",
       "      <td>2022-01-01</td>\n",
       "    </tr>\n",
       "    <tr>\n",
       "      <th>1023371</th>\n",
       "      <td>NaN</td>\n",
       "      <td>2022-01-01</td>\n",
       "    </tr>\n",
       "    <tr>\n",
       "      <th>1023372</th>\n",
       "      <td>NaN</td>\n",
       "      <td>2022-01-01</td>\n",
       "    </tr>\n",
       "  </tbody>\n",
       "</table>\n",
       "<p>342924 rows × 2 columns</p>\n",
       "</div>"
      ],
      "text/plain": [
       "         PR_weekly_avg       DATE\n",
       "138                NaN 2018-08-01\n",
       "139                NaN 2018-08-01\n",
       "140                NaN 2018-08-01\n",
       "141                NaN 2018-08-01\n",
       "142                NaN 2018-08-01\n",
       "...                ...        ...\n",
       "1023368            NaN 2022-01-01\n",
       "1023369            NaN 2022-01-01\n",
       "1023370            NaN 2022-01-01\n",
       "1023371            NaN 2022-01-01\n",
       "1023372            NaN 2022-01-01\n",
       "\n",
       "[342924 rows x 2 columns]"
      ]
     },
     "execution_count": 9,
     "metadata": {},
     "output_type": "execute_result"
    }
   ],
   "source": [
    "#Make it ready for regression, as a DataFrame\n",
    "PR_weekly_avgVSTime = pd.DataFrame(dataPR, columns = [\"PR_weekly_avg\", \"DATE\"])\n",
    "\n",
    "PR_weekly_avgVSTime"
   ]
  },
  {
   "cell_type": "code",
   "execution_count": 46,
   "id": "5483928c",
   "metadata": {},
   "outputs": [
    {
     "ename": "AttributeError",
     "evalue": "'SeriesGroupBy' object has no attribute 'index'",
     "output_type": "error",
     "traceback": [
      "\u001b[0;31m---------------------------------------------------------------------------\u001b[0m",
      "\u001b[0;31mAttributeError\u001b[0m                            Traceback (most recent call last)",
      "Input \u001b[0;32mIn [46]\u001b[0m, in \u001b[0;36m<cell line: 2>\u001b[0;34m()\u001b[0m\n\u001b[1;32m      1\u001b[0m \u001b[38;5;66;03m# Create a new DataFrame with weekly average usage and corresponding date\u001b[39;00m\n\u001b[0;32m----> 2\u001b[0m PR_weekly_avgVSTime \u001b[38;5;241m=\u001b[39m pd\u001b[38;5;241m.\u001b[39mDataFrame({\u001b[38;5;124m'\u001b[39m\u001b[38;5;124mdate\u001b[39m\u001b[38;5;124m'\u001b[39m: \u001b[43mPR_weekly_avg\u001b[49m\u001b[38;5;241;43m.\u001b[39;49m\u001b[43mindex\u001b[49m, \u001b[38;5;124m'\u001b[39m\u001b[38;5;124mavg\u001b[39m\u001b[38;5;124m'\u001b[39m: PR_weekly_avg\u001b[38;5;241m.\u001b[39mvalues})\n\u001b[1;32m      3\u001b[0m PR_weekly_avgVSTime\n\u001b[1;32m      5\u001b[0m PR_weekly_avgVSTime\u001b[38;5;241m.\u001b[39mdropna()\n",
      "File \u001b[0;32m~/opt/anaconda3/lib/python3.9/site-packages/pandas/core/groupby/groupby.py:904\u001b[0m, in \u001b[0;36mGroupBy.__getattr__\u001b[0;34m(self, attr)\u001b[0m\n\u001b[1;32m    901\u001b[0m \u001b[38;5;28;01mif\u001b[39;00m attr \u001b[38;5;129;01min\u001b[39;00m \u001b[38;5;28mself\u001b[39m\u001b[38;5;241m.\u001b[39mobj:\n\u001b[1;32m    902\u001b[0m     \u001b[38;5;28;01mreturn\u001b[39;00m \u001b[38;5;28mself\u001b[39m[attr]\n\u001b[0;32m--> 904\u001b[0m \u001b[38;5;28;01mraise\u001b[39;00m \u001b[38;5;167;01mAttributeError\u001b[39;00m(\n\u001b[1;32m    905\u001b[0m     \u001b[38;5;124mf\u001b[39m\u001b[38;5;124m\"\u001b[39m\u001b[38;5;124m'\u001b[39m\u001b[38;5;132;01m{\u001b[39;00m\u001b[38;5;28mtype\u001b[39m(\u001b[38;5;28mself\u001b[39m)\u001b[38;5;241m.\u001b[39m\u001b[38;5;18m__name__\u001b[39m\u001b[38;5;132;01m}\u001b[39;00m\u001b[38;5;124m'\u001b[39m\u001b[38;5;124m object has no attribute \u001b[39m\u001b[38;5;124m'\u001b[39m\u001b[38;5;132;01m{\u001b[39;00mattr\u001b[38;5;132;01m}\u001b[39;00m\u001b[38;5;124m'\u001b[39m\u001b[38;5;124m\"\u001b[39m\n\u001b[1;32m    906\u001b[0m )\n",
      "\u001b[0;31mAttributeError\u001b[0m: 'SeriesGroupBy' object has no attribute 'index'"
     ]
    }
   ],
   "source": [
    "# Create a new DataFrame with weekly average usage and corresponding date\n",
    "PR_weekly_avgVSTime = pd.DataFrame({'date': PR_weekly_avg.index, 'avg': PR_weekly_avg.values})\n",
    "PR_weekly_avgVSTime\n",
    "\n",
    "PR_weekly_avgVSTime.dropna()"
   ]
  },
  {
   "cell_type": "code",
   "execution_count": 13,
   "id": "99fa0496",
   "metadata": {},
   "outputs": [
    {
     "data": {
      "text/html": [
       "<div>\n",
       "<style scoped>\n",
       "    .dataframe tbody tr th:only-of-type {\n",
       "        vertical-align: middle;\n",
       "    }\n",
       "\n",
       "    .dataframe tbody tr th {\n",
       "        vertical-align: top;\n",
       "    }\n",
       "\n",
       "    .dataframe thead th {\n",
       "        text-align: right;\n",
       "    }\n",
       "</style>\n",
       "<table border=\"1\" class=\"dataframe\">\n",
       "  <thead>\n",
       "    <tr style=\"text-align: right;\">\n",
       "      <th></th>\n",
       "      <th>date</th>\n",
       "      <th>avg</th>\n",
       "    </tr>\n",
       "  </thead>\n",
       "  <tbody>\n",
       "    <tr>\n",
       "      <th>0</th>\n",
       "      <td>2018-08-05</td>\n",
       "      <td>0.541047</td>\n",
       "    </tr>\n",
       "    <tr>\n",
       "      <th>1</th>\n",
       "      <td>2018-08-12</td>\n",
       "      <td>0.779973</td>\n",
       "    </tr>\n",
       "    <tr>\n",
       "      <th>2</th>\n",
       "      <td>2018-08-19</td>\n",
       "      <td>0.650087</td>\n",
       "    </tr>\n",
       "    <tr>\n",
       "      <th>3</th>\n",
       "      <td>2018-08-26</td>\n",
       "      <td>0.861151</td>\n",
       "    </tr>\n",
       "    <tr>\n",
       "      <th>4</th>\n",
       "      <td>2018-09-02</td>\n",
       "      <td>0.812487</td>\n",
       "    </tr>\n",
       "  </tbody>\n",
       "</table>\n",
       "</div>"
      ],
      "text/plain": [
       "        date       avg\n",
       "0 2018-08-05  0.541047\n",
       "1 2018-08-12  0.779973\n",
       "2 2018-08-19  0.650087\n",
       "3 2018-08-26  0.861151\n",
       "4 2018-09-02  0.812487"
      ]
     },
     "execution_count": 13,
     "metadata": {},
     "output_type": "execute_result"
    }
   ],
   "source": [
    "dictPR = {'date': PR_weekly_avg.index, 'avg': PR_weekly_avg.values}\n",
    "regressionPR = pd.DataFrame(data=dictPR)\n",
    "regressionPR.head()\n",
    "\n",
    "regressionPR.dropna()"
   ]
  },
  {
   "cell_type": "code",
   "execution_count": 17,
   "id": "6aec617c",
   "metadata": {},
   "outputs": [],
   "source": [
    "%matplotlib inline\n",
    "import numpy as np\n",
    "import pandas as pd\n",
    "import matplotlib.pyplot as plt\n",
    "from sklearn.model_selection import cross_val_score\n",
    "from sklearn.model_selection import train_test_split\n",
    "from sklearn.model_selection import ShuffleSplit"
   ]
  },
  {
   "cell_type": "code",
   "execution_count": 33,
   "id": "1fc5e41c",
   "metadata": {},
   "outputs": [],
   "source": [
    "#We split the data into a training and testing part \n",
    "#for both the 'Engine size' (as X) and the 'Price' (as y, our answers)\n",
    "#With a randomisation of the dataset\n",
    "BU_train, BU_test, date_train, date_test = train_test_split(PR_weekly_avgVSTime.avg, PR_weekly_avgVSTime.date, test_size=0.2, random_state=42)"
   ]
  },
  {
   "cell_type": "code",
   "execution_count": 34,
   "id": "cb4498ad",
   "metadata": {},
   "outputs": [],
   "source": [
    "#Adapting to array fromat (not important, formatting to adapt to a different library)\n",
    "BU_train_arr = BU_train.array\n",
    "BU_test_arr = BU_test.array\n",
    "date_train_arr = date_train.array.to_numpy().reshape(-1,1)\n",
    "date_test_arr = date_test.array.to_numpy().reshape(-1,1)"
   ]
  },
  {
   "cell_type": "code",
   "execution_count": 21,
   "id": "1b3a0481",
   "metadata": {},
   "outputs": [],
   "source": [
    "from sklearn.linear_model import LinearRegression\n",
    "#Again scikit-learn library to help us"
   ]
  },
  {
   "cell_type": "code",
   "execution_count": 44,
   "id": "9de2b58a",
   "metadata": {},
   "outputs": [
    {
     "ename": "ValueError",
     "evalue": "Input contains NaN, infinity or a value too large for dtype('float64').",
     "output_type": "error",
     "traceback": [
      "\u001b[0;31m---------------------------------------------------------------------------\u001b[0m",
      "\u001b[0;31mValueError\u001b[0m                                Traceback (most recent call last)",
      "Input \u001b[0;32mIn [44]\u001b[0m, in \u001b[0;36m<cell line: 6>\u001b[0;34m()\u001b[0m\n\u001b[1;32m      2\u001b[0m data \u001b[38;5;241m=\u001b[39m data\u001b[38;5;241m.\u001b[39mdropna()\n\u001b[1;32m      4\u001b[0m \u001b[38;5;66;03m#Linear regression\u001b[39;00m\n\u001b[1;32m      5\u001b[0m \u001b[38;5;66;03m#Again store results (weights) in the 'reg' object\u001b[39;00m\n\u001b[0;32m----> 6\u001b[0m reg \u001b[38;5;241m=\u001b[39m \u001b[43mLinearRegression\u001b[49m\u001b[43m(\u001b[49m\u001b[43m)\u001b[49m\u001b[38;5;241;43m.\u001b[39;49m\u001b[43mfit\u001b[49m\u001b[43m(\u001b[49m\u001b[43mdate_train_arr\u001b[49m\u001b[43m,\u001b[49m\u001b[43mBU_train_arr\u001b[49m\u001b[43m)\u001b[49m\n\u001b[1;32m      8\u001b[0m \u001b[38;5;66;03m#Predict price based on engine size\u001b[39;00m\n\u001b[1;32m      9\u001b[0m fitted_train_Price \u001b[38;5;241m=\u001b[39m reg\u001b[38;5;241m.\u001b[39mpredict(date_train_arr)\n",
      "File \u001b[0;32m~/opt/anaconda3/lib/python3.9/site-packages/sklearn/linear_model/_base.py:662\u001b[0m, in \u001b[0;36mLinearRegression.fit\u001b[0;34m(self, X, y, sample_weight)\u001b[0m\n\u001b[1;32m    658\u001b[0m n_jobs_ \u001b[38;5;241m=\u001b[39m \u001b[38;5;28mself\u001b[39m\u001b[38;5;241m.\u001b[39mn_jobs\n\u001b[1;32m    660\u001b[0m accept_sparse \u001b[38;5;241m=\u001b[39m \u001b[38;5;28;01mFalse\u001b[39;00m \u001b[38;5;28;01mif\u001b[39;00m \u001b[38;5;28mself\u001b[39m\u001b[38;5;241m.\u001b[39mpositive \u001b[38;5;28;01melse\u001b[39;00m [\u001b[38;5;124m\"\u001b[39m\u001b[38;5;124mcsr\u001b[39m\u001b[38;5;124m\"\u001b[39m, \u001b[38;5;124m\"\u001b[39m\u001b[38;5;124mcsc\u001b[39m\u001b[38;5;124m\"\u001b[39m, \u001b[38;5;124m\"\u001b[39m\u001b[38;5;124mcoo\u001b[39m\u001b[38;5;124m\"\u001b[39m]\n\u001b[0;32m--> 662\u001b[0m X, y \u001b[38;5;241m=\u001b[39m \u001b[38;5;28;43mself\u001b[39;49m\u001b[38;5;241;43m.\u001b[39;49m\u001b[43m_validate_data\u001b[49m\u001b[43m(\u001b[49m\n\u001b[1;32m    663\u001b[0m \u001b[43m    \u001b[49m\u001b[43mX\u001b[49m\u001b[43m,\u001b[49m\u001b[43m \u001b[49m\u001b[43my\u001b[49m\u001b[43m,\u001b[49m\u001b[43m \u001b[49m\u001b[43maccept_sparse\u001b[49m\u001b[38;5;241;43m=\u001b[39;49m\u001b[43maccept_sparse\u001b[49m\u001b[43m,\u001b[49m\u001b[43m \u001b[49m\u001b[43my_numeric\u001b[49m\u001b[38;5;241;43m=\u001b[39;49m\u001b[38;5;28;43;01mTrue\u001b[39;49;00m\u001b[43m,\u001b[49m\u001b[43m \u001b[49m\u001b[43mmulti_output\u001b[49m\u001b[38;5;241;43m=\u001b[39;49m\u001b[38;5;28;43;01mTrue\u001b[39;49;00m\n\u001b[1;32m    664\u001b[0m \u001b[43m\u001b[49m\u001b[43m)\u001b[49m\n\u001b[1;32m    666\u001b[0m \u001b[38;5;28;01mif\u001b[39;00m sample_weight \u001b[38;5;129;01mis\u001b[39;00m \u001b[38;5;129;01mnot\u001b[39;00m \u001b[38;5;28;01mNone\u001b[39;00m:\n\u001b[1;32m    667\u001b[0m     sample_weight \u001b[38;5;241m=\u001b[39m _check_sample_weight(sample_weight, X, dtype\u001b[38;5;241m=\u001b[39mX\u001b[38;5;241m.\u001b[39mdtype)\n",
      "File \u001b[0;32m~/opt/anaconda3/lib/python3.9/site-packages/sklearn/base.py:581\u001b[0m, in \u001b[0;36mBaseEstimator._validate_data\u001b[0;34m(self, X, y, reset, validate_separately, **check_params)\u001b[0m\n\u001b[1;32m    579\u001b[0m         y \u001b[38;5;241m=\u001b[39m check_array(y, \u001b[38;5;241m*\u001b[39m\u001b[38;5;241m*\u001b[39mcheck_y_params)\n\u001b[1;32m    580\u001b[0m     \u001b[38;5;28;01melse\u001b[39;00m:\n\u001b[0;32m--> 581\u001b[0m         X, y \u001b[38;5;241m=\u001b[39m \u001b[43mcheck_X_y\u001b[49m\u001b[43m(\u001b[49m\u001b[43mX\u001b[49m\u001b[43m,\u001b[49m\u001b[43m \u001b[49m\u001b[43my\u001b[49m\u001b[43m,\u001b[49m\u001b[43m \u001b[49m\u001b[38;5;241;43m*\u001b[39;49m\u001b[38;5;241;43m*\u001b[39;49m\u001b[43mcheck_params\u001b[49m\u001b[43m)\u001b[49m\n\u001b[1;32m    582\u001b[0m     out \u001b[38;5;241m=\u001b[39m X, y\n\u001b[1;32m    584\u001b[0m \u001b[38;5;28;01mif\u001b[39;00m \u001b[38;5;129;01mnot\u001b[39;00m no_val_X \u001b[38;5;129;01mand\u001b[39;00m check_params\u001b[38;5;241m.\u001b[39mget(\u001b[38;5;124m\"\u001b[39m\u001b[38;5;124mensure_2d\u001b[39m\u001b[38;5;124m\"\u001b[39m, \u001b[38;5;28;01mTrue\u001b[39;00m):\n",
      "File \u001b[0;32m~/opt/anaconda3/lib/python3.9/site-packages/sklearn/utils/validation.py:979\u001b[0m, in \u001b[0;36mcheck_X_y\u001b[0;34m(X, y, accept_sparse, accept_large_sparse, dtype, order, copy, force_all_finite, ensure_2d, allow_nd, multi_output, ensure_min_samples, ensure_min_features, y_numeric, estimator)\u001b[0m\n\u001b[1;32m    962\u001b[0m     \u001b[38;5;28;01mraise\u001b[39;00m \u001b[38;5;167;01mValueError\u001b[39;00m(\u001b[38;5;124m\"\u001b[39m\u001b[38;5;124my cannot be None\u001b[39m\u001b[38;5;124m\"\u001b[39m)\n\u001b[1;32m    964\u001b[0m X \u001b[38;5;241m=\u001b[39m check_array(\n\u001b[1;32m    965\u001b[0m     X,\n\u001b[1;32m    966\u001b[0m     accept_sparse\u001b[38;5;241m=\u001b[39maccept_sparse,\n\u001b[0;32m   (...)\u001b[0m\n\u001b[1;32m    976\u001b[0m     estimator\u001b[38;5;241m=\u001b[39mestimator,\n\u001b[1;32m    977\u001b[0m )\n\u001b[0;32m--> 979\u001b[0m y \u001b[38;5;241m=\u001b[39m \u001b[43m_check_y\u001b[49m\u001b[43m(\u001b[49m\u001b[43my\u001b[49m\u001b[43m,\u001b[49m\u001b[43m \u001b[49m\u001b[43mmulti_output\u001b[49m\u001b[38;5;241;43m=\u001b[39;49m\u001b[43mmulti_output\u001b[49m\u001b[43m,\u001b[49m\u001b[43m \u001b[49m\u001b[43my_numeric\u001b[49m\u001b[38;5;241;43m=\u001b[39;49m\u001b[43my_numeric\u001b[49m\u001b[43m)\u001b[49m\n\u001b[1;32m    981\u001b[0m check_consistent_length(X, y)\n\u001b[1;32m    983\u001b[0m \u001b[38;5;28;01mreturn\u001b[39;00m X, y\n",
      "File \u001b[0;32m~/opt/anaconda3/lib/python3.9/site-packages/sklearn/utils/validation.py:989\u001b[0m, in \u001b[0;36m_check_y\u001b[0;34m(y, multi_output, y_numeric)\u001b[0m\n\u001b[1;32m    987\u001b[0m \u001b[38;5;124;03m\"\"\"Isolated part of check_X_y dedicated to y validation\"\"\"\u001b[39;00m\n\u001b[1;32m    988\u001b[0m \u001b[38;5;28;01mif\u001b[39;00m multi_output:\n\u001b[0;32m--> 989\u001b[0m     y \u001b[38;5;241m=\u001b[39m \u001b[43mcheck_array\u001b[49m\u001b[43m(\u001b[49m\n\u001b[1;32m    990\u001b[0m \u001b[43m        \u001b[49m\u001b[43my\u001b[49m\u001b[43m,\u001b[49m\u001b[43m \u001b[49m\u001b[43maccept_sparse\u001b[49m\u001b[38;5;241;43m=\u001b[39;49m\u001b[38;5;124;43m\"\u001b[39;49m\u001b[38;5;124;43mcsr\u001b[39;49m\u001b[38;5;124;43m\"\u001b[39;49m\u001b[43m,\u001b[49m\u001b[43m \u001b[49m\u001b[43mforce_all_finite\u001b[49m\u001b[38;5;241;43m=\u001b[39;49m\u001b[38;5;28;43;01mTrue\u001b[39;49;00m\u001b[43m,\u001b[49m\u001b[43m \u001b[49m\u001b[43mensure_2d\u001b[49m\u001b[38;5;241;43m=\u001b[39;49m\u001b[38;5;28;43;01mFalse\u001b[39;49;00m\u001b[43m,\u001b[49m\u001b[43m \u001b[49m\u001b[43mdtype\u001b[49m\u001b[38;5;241;43m=\u001b[39;49m\u001b[38;5;28;43;01mNone\u001b[39;49;00m\n\u001b[1;32m    991\u001b[0m \u001b[43m    \u001b[49m\u001b[43m)\u001b[49m\n\u001b[1;32m    992\u001b[0m \u001b[38;5;28;01melse\u001b[39;00m:\n\u001b[1;32m    993\u001b[0m     y \u001b[38;5;241m=\u001b[39m column_or_1d(y, warn\u001b[38;5;241m=\u001b[39m\u001b[38;5;28;01mTrue\u001b[39;00m)\n",
      "File \u001b[0;32m~/opt/anaconda3/lib/python3.9/site-packages/sklearn/utils/validation.py:800\u001b[0m, in \u001b[0;36mcheck_array\u001b[0;34m(array, accept_sparse, accept_large_sparse, dtype, order, copy, force_all_finite, ensure_2d, allow_nd, ensure_min_samples, ensure_min_features, estimator)\u001b[0m\n\u001b[1;32m    794\u001b[0m         \u001b[38;5;28;01mraise\u001b[39;00m \u001b[38;5;167;01mValueError\u001b[39;00m(\n\u001b[1;32m    795\u001b[0m             \u001b[38;5;124m\"\u001b[39m\u001b[38;5;124mFound array with dim \u001b[39m\u001b[38;5;132;01m%d\u001b[39;00m\u001b[38;5;124m. \u001b[39m\u001b[38;5;132;01m%s\u001b[39;00m\u001b[38;5;124m expected <= 2.\u001b[39m\u001b[38;5;124m\"\u001b[39m\n\u001b[1;32m    796\u001b[0m             \u001b[38;5;241m%\u001b[39m (array\u001b[38;5;241m.\u001b[39mndim, estimator_name)\n\u001b[1;32m    797\u001b[0m         )\n\u001b[1;32m    799\u001b[0m     \u001b[38;5;28;01mif\u001b[39;00m force_all_finite:\n\u001b[0;32m--> 800\u001b[0m         \u001b[43m_assert_all_finite\u001b[49m\u001b[43m(\u001b[49m\u001b[43marray\u001b[49m\u001b[43m,\u001b[49m\u001b[43m \u001b[49m\u001b[43mallow_nan\u001b[49m\u001b[38;5;241;43m=\u001b[39;49m\u001b[43mforce_all_finite\u001b[49m\u001b[43m \u001b[49m\u001b[38;5;241;43m==\u001b[39;49m\u001b[43m \u001b[49m\u001b[38;5;124;43m\"\u001b[39;49m\u001b[38;5;124;43mallow-nan\u001b[39;49m\u001b[38;5;124;43m\"\u001b[39;49m\u001b[43m)\u001b[49m\n\u001b[1;32m    802\u001b[0m \u001b[38;5;28;01mif\u001b[39;00m ensure_min_samples \u001b[38;5;241m>\u001b[39m \u001b[38;5;241m0\u001b[39m:\n\u001b[1;32m    803\u001b[0m     n_samples \u001b[38;5;241m=\u001b[39m _num_samples(array)\n",
      "File \u001b[0;32m~/opt/anaconda3/lib/python3.9/site-packages/sklearn/utils/validation.py:114\u001b[0m, in \u001b[0;36m_assert_all_finite\u001b[0;34m(X, allow_nan, msg_dtype)\u001b[0m\n\u001b[1;32m    107\u001b[0m     \u001b[38;5;28;01mif\u001b[39;00m (\n\u001b[1;32m    108\u001b[0m         allow_nan\n\u001b[1;32m    109\u001b[0m         \u001b[38;5;129;01mand\u001b[39;00m np\u001b[38;5;241m.\u001b[39misinf(X)\u001b[38;5;241m.\u001b[39many()\n\u001b[1;32m    110\u001b[0m         \u001b[38;5;129;01mor\u001b[39;00m \u001b[38;5;129;01mnot\u001b[39;00m allow_nan\n\u001b[1;32m    111\u001b[0m         \u001b[38;5;129;01mand\u001b[39;00m \u001b[38;5;129;01mnot\u001b[39;00m np\u001b[38;5;241m.\u001b[39misfinite(X)\u001b[38;5;241m.\u001b[39mall()\n\u001b[1;32m    112\u001b[0m     ):\n\u001b[1;32m    113\u001b[0m         type_err \u001b[38;5;241m=\u001b[39m \u001b[38;5;124m\"\u001b[39m\u001b[38;5;124minfinity\u001b[39m\u001b[38;5;124m\"\u001b[39m \u001b[38;5;28;01mif\u001b[39;00m allow_nan \u001b[38;5;28;01melse\u001b[39;00m \u001b[38;5;124m\"\u001b[39m\u001b[38;5;124mNaN, infinity\u001b[39m\u001b[38;5;124m\"\u001b[39m\n\u001b[0;32m--> 114\u001b[0m         \u001b[38;5;28;01mraise\u001b[39;00m \u001b[38;5;167;01mValueError\u001b[39;00m(\n\u001b[1;32m    115\u001b[0m             msg_err\u001b[38;5;241m.\u001b[39mformat(\n\u001b[1;32m    116\u001b[0m                 type_err, msg_dtype \u001b[38;5;28;01mif\u001b[39;00m msg_dtype \u001b[38;5;129;01mis\u001b[39;00m \u001b[38;5;129;01mnot\u001b[39;00m \u001b[38;5;28;01mNone\u001b[39;00m \u001b[38;5;28;01melse\u001b[39;00m X\u001b[38;5;241m.\u001b[39mdtype\n\u001b[1;32m    117\u001b[0m             )\n\u001b[1;32m    118\u001b[0m         )\n\u001b[1;32m    119\u001b[0m \u001b[38;5;66;03m# for object dtype data, we only check for NaNs (GH-13254)\u001b[39;00m\n\u001b[1;32m    120\u001b[0m \u001b[38;5;28;01melif\u001b[39;00m X\u001b[38;5;241m.\u001b[39mdtype \u001b[38;5;241m==\u001b[39m np\u001b[38;5;241m.\u001b[39mdtype(\u001b[38;5;124m\"\u001b[39m\u001b[38;5;124mobject\u001b[39m\u001b[38;5;124m\"\u001b[39m) \u001b[38;5;129;01mand\u001b[39;00m \u001b[38;5;129;01mnot\u001b[39;00m allow_nan:\n",
      "\u001b[0;31mValueError\u001b[0m: Input contains NaN, infinity or a value too large for dtype('float64')."
     ]
    }
   ],
   "source": [
    "# Remove missing values\n",
    "data = data.dropna()\n",
    "\n",
    "#Linear regression\n",
    "#Again store results (weights) in the 'reg' object\n",
    "reg = LinearRegression().fit(date_train_arr,BU_train_arr)\n",
    "\n",
    "#Predict price based on engine size\n",
    "fitted_train_Price = reg.predict(date_train_arr)\n",
    "fitted_test_Price = reg.predict(date_test_arr)\n",
    "\n",
    "#Visualisation\n",
    "# Seaborn library is used to easily visualise a dataset and its summarising models\n",
    "import seaborn as sns\n",
    "sns.regplot(x = PR_weekly_avgVSTime.date, y = PR_weekly_avgVSTime.avg)\n",
    "plt.show()"
   ]
  },
  {
   "cell_type": "code",
   "execution_count": 39,
   "id": "5cc8496b",
   "metadata": {},
   "outputs": [
    {
     "name": "stdout",
     "output_type": "stream",
     "text": [
      "False\n",
      "Unnamed: 0               0\n",
      "TIME                     0\n",
      "NAME                     0\n",
      "BIKE.STANDS              0\n",
      "AVAILABLE.BIKE.STANDS    0\n",
      "AVAILABLE.BIKES          0\n",
      "STATUS                   0\n",
      "DATE                     0\n",
      "BIKE.USAGE               0\n",
      "dtype: int64\n"
     ]
    }
   ],
   "source": [
    "print(dataPR.isna().any().any())\n",
    "\n",
    "print(dataPR.isna().sum())"
   ]
  },
  {
   "cell_type": "code",
   "execution_count": 40,
   "id": "3546074d",
   "metadata": {},
   "outputs": [
    {
     "name": "stdout",
     "output_type": "stream",
     "text": [
      "[0.54104651 0.77997272 0.65008681 0.86115117 0.81248745 0.59540302\n",
      " 0.79420883 0.70612806 0.78840706 0.73873695 0.65875124 0.77793899\n",
      " 0.84835069 0.72691286 0.78763764 0.83624253 0.57862103 0.78512407\n",
      " 0.78214286 0.78613456 0.61613343 0.64047619 0.68146402 0.79728423\n",
      " 0.71511657 0.82268105 0.82621528 0.68290323 0.78022592 0.81204117\n",
      " 0.83387897 0.69834065 0.83941162 0.8624752  0.7698858  0.81626551\n",
      " 0.75553075 0.7234623  0.82239583 0.80407986 0.83504464 0.78200645\n",
      " 0.81585154 0.74396081 0.72917288 0.84723859        nan        nan\n",
      " 0.69069479 0.77627728 0.71551339 0.78928571 0.72642609 0.84725942\n",
      " 0.83251488 0.81744792 0.74201389 0.71923363 0.84322629 0.72902944\n",
      " 0.79712302 0.83260634 0.81985367 0.6921999  0.81412072 0.75878848\n",
      " 0.69973763 0.73220486 0.76644405 0.84053819 0.80634504 0.80640893\n",
      " 0.85095041 0.82139228 0.78499581 0.8875     0.8468107  0.74287849\n",
      " 0.85145788 0.83686756 0.76051587 0.77568204 0.68540427 0.82957589\n",
      " 0.85750248 0.62336286 0.71468254 0.76431207 0.82263145 0.86132192\n",
      " 0.80734127 0.74778026 0.64781746 0.72609127 0.77261905 0.70502232\n",
      " 0.71387649 0.77041667 0.79153026 0.83664435 0.88156467 0.85076885\n",
      " 0.80243056 0.8218502  0.90528274 0.8904507  0.84825149 0.81036706\n",
      " 0.78499504 0.71777034 0.85288938 0.81140813 0.84288194 0.72823351\n",
      " 0.80014881 0.67413194 0.78330853 0.60856895 0.48396577 0.5406498\n",
      " 0.65230655 0.69167907 0.68957093 0.8406374  0.74187748 0.52828621\n",
      " 0.63375651 0.62356151 0.81759673 0.7366219  0.73669187 0.69572818\n",
      " 0.69643251 0.70906067 0.70424293 0.61775688 0.70029762 0.71215278\n",
      " 0.80969742 0.67254774 0.75715526 0.62577114 0.79125683 0.5344122\n",
      " 0.65091766 0.55132754 0.61995288 0.66792476 0.61278522 0.61333085\n",
      " 0.69579381 0.75099206 0.74677734 0.65473315 0.70491071 0.7536071\n",
      " 0.71708417 0.73751241 0.73067956 0.7439244  0.60279018 0.75770089\n",
      " 0.72626488 0.58834325 0.66064122 0.67481203 0.68322113 0.6619603\n",
      " 0.75320546 0.68167163 0.75838718 0.76389771 0.5971865  0.62447917\n",
      " 0.7184573  0.60229415 0.67163938 0.55364583 0.61061921]\n"
     ]
    }
   ],
   "source": [
    "# Set display options to show all rows and columns\n",
    "pd.set_option('display.max_rows', None)\n",
    "pd.set_option('display.max_columns', None)\n",
    "\n",
    "# Display the DataFrame\n",
    "print(PR_weekly_avg.values)"
   ]
  },
  {
   "cell_type": "code",
   "execution_count": 43,
   "id": "bd2bb13c",
   "metadata": {},
   "outputs": [
    {
     "name": "stdout",
     "output_type": "stream",
     "text": [
      "<pandas.core.groupby.generic.SeriesGroupBy object at 0x7f7d75afd070>\n"
     ]
    }
   ],
   "source": [
    "#Calculate weekly average usage\n",
    "PR_weekly_avg = dataPR.groupby(pd.Grouper(key='DATE', freq='W'))['BIKE.USAGE']\n",
    "print(PR_weekly_avg)"
   ]
  },
  {
   "cell_type": "code",
   "execution_count": 47,
   "id": "b88d795b",
   "metadata": {},
   "outputs": [],
   "source": [
    "dictRH = {'week': range(179), 'avg': RH_weekly_avg.values}\n",
    "regressionRH = pd.DataFrame(data=dictRH)\n",
    "regressionRH = regressionRH.dropna()"
   ]
  },
  {
   "cell_type": "code",
   "execution_count": 49,
   "id": "83c48b3f",
   "metadata": {},
   "outputs": [
    {
     "data": {
      "image/png": "[encoded data removed]",
      "text/plain": [
       "<Figure size 432x288 with 1 Axes>"
      ]
     },
     "metadata": {
      "needs_background": "light"
     },
     "output_type": "display_data"
    }
   ],
   "source": [
    "RHd_train, RHd_test, RHa_train, RHa_test = train_test_split(regressionRH.week, regressionRH.avg, test_size=0.2, random_state=42)\n",
    "\n",
    "RHa_train_arr = RHa_train.array\n",
    "RHa_test_arr = RHa_test.array\n",
    "RHd_train_arr = RHd_train.array.to_numpy().reshape(-1,1)\n",
    "RHd_test_arr = RHd_test.array.to_numpy().reshape(-1,1)\n",
    "\n",
    "\n",
    "RHa_train_arr\n",
    "\n",
    "RHreg = LinearRegression().fit(RHd_train_arr,RHa_train_arr)\n",
    "\n",
    "fitted_RHtrain_avg = RHreg.predict(RHd_train_arr)\n",
    "fitted_RHtest_avg = RHreg.predict(RHd_test_arr)\n",
    "\n",
    "#Visualisation\n",
    "# Seaborn library is used to easily visualise a dataset and its summarising models\n",
    "sns.regplot(x=regressionRH.week,y= regressionRH.avg)\n",
    "plt.show()\n"
   ]
  },
  {
   "cell_type": "code",
   "execution_count": 9,
   "id": "06b85575",
   "metadata": {},
   "outputs": [
    {
     "data": {
      "text/plain": [
       "DATE\n",
       "2018-08-05    0.541047\n",
       "2018-08-12    0.779973\n",
       "2018-08-19    0.650087\n",
       "2018-08-26    0.861151\n",
       "2018-09-02    0.812487\n",
       "                ...   \n",
       "2021-12-05    0.718457\n",
       "2021-12-12    0.602294\n",
       "2021-12-19    0.671639\n",
       "2021-12-26    0.553646\n",
       "2022-01-02    0.610619\n",
       "Freq: W-SUN, Name: BIKE.USAGE, Length: 179, dtype: float64"
      ]
     },
     "execution_count": 9,
     "metadata": {},
     "output_type": "execute_result"
    }
   ],
   "source": [
    "PR_weekly_avg"
   ]
  },
  {
   "cell_type": "code",
   "execution_count": 17,
   "id": "292473e8",
   "metadata": {},
   "outputs": [
    {
     "name": "stdout",
     "output_type": "stream",
     "text": [
      "84\n",
      "95\n"
     ]
    }
   ],
   "source": [
    "# split the data into two parts based on the date\n",
    "PRdata_pre_pandemic = PR_weekly_avg[PR_weekly_avg.index < '2020-03-15']\n",
    "PRdata_post_pandemic = PR_weekly_avg[PR_weekly_avg.index >= '2020-03-15']\n",
    "\n",
    "PRdata_post_pandemic\n",
    "\n",
    "print(len(PRdata_pre_pandemic))\n",
    "print(len(PRdata_post_pandemic))"
   ]
  },
  {
   "cell_type": "code",
   "execution_count": 21,
   "id": "8e8413db",
   "metadata": {},
   "outputs": [
    {
     "name": "stdout",
     "output_type": "stream",
     "text": [
      "84\n",
      "95\n"
     ]
    }
   ],
   "source": [
    "# split the data into two parts based on the date\n",
    "RHdata_pre_pandemic = RH_weekly_avg[RH_weekly_avg.index < '2020-03-15']\n",
    "RHdata_post_pandemic = RH_weekly_avg[RH_weekly_avg.index >= '2020-03-15']\n",
    "\n",
    "RHdata_post_pandemic\n",
    "\n",
    "print(len(RHdata_pre_pandemic))\n",
    "print(len(RHdata_post_pandemic))"
   ]
  },
  {
   "cell_type": "code",
   "execution_count": 20,
   "id": "286244b9",
   "metadata": {},
   "outputs": [
    {
     "name": "stdout",
     "output_type": "stream",
     "text": [
      "81\n",
      "95\n"
     ]
    }
   ],
   "source": [
    "# split the data into two parts based on the date\n",
    "MSdata_pre_pandemic = MS_weekly_avg[MS_weekly_avg.index < '2020-03-15']\n",
    "MSdata_post_pandemic = MS_weekly_avg[MS_weekly_avg.index >= '2020-03-15']\n",
    "\n",
    "MSdata_post_pandemic\n",
    "\n",
    "print(len(MSdata_pre_pandemic))\n",
    "print(len(MSdata_post_pandemic))"
   ]
  },
  {
   "cell_type": "code",
   "execution_count": null,
   "id": "a82b579d",
   "metadata": {},
   "outputs": [],
   "source": [
    "#####################################################################\n",
    "#####################################################################\n",
    "#####################################################################\n",
    "#####################################################################\n",
    "#####################################################################\n",
    "\n",
    "# REGRESSIONS PRE AND POST PSANDEMIC"
   ]
  },
  {
   "cell_type": "code",
   "execution_count": 27,
   "id": "62846249",
   "metadata": {},
   "outputs": [],
   "source": [
    "%matplotlib inline\n",
    "import numpy as np\n",
    "import pandas as pd\n",
    "import matplotlib.pyplot as plt\n",
    "from sklearn.model_selection import cross_val_score\n",
    "from sklearn.model_selection import train_test_split\n",
    "from sklearn.model_selection import ShuffleSplit\n",
    "from sklearn.linear_model import LinearRegression"
   ]
  },
  {
   "cell_type": "code",
   "execution_count": 22,
   "id": "96901fd3",
   "metadata": {},
   "outputs": [
    {
     "data": {
      "text/plain": [
       "<AxesSubplot:xlabel='week', ylabel='avg'>"
      ]
     },
     "execution_count": 22,
     "metadata": {},
     "output_type": "execute_result"
    },
    {
     "data": {
      "image/png": "[encoded data removed]",
      "text/plain": [
       "<Figure size 1440x1296 with 3 Axes>"
      ]
     },
     "metadata": {
      "needs_background": "light"
     },
     "output_type": "display_data"
    }
   ],
   "source": [
    "PRdata_pre_pandemic = PR_weekly_avg[PR_weekly_avg.index < '2020-03-15']\n",
    "dictPRpre = {'week': range(84), 'avg': PRdata_pre_pandemic.values}\n",
    "regressionPRpre = pd.DataFrame(data=dictPRpre)\n",
    "regressionPRpre = regressionPRpre.dropna()\n",
    "PRdata_post_pandemic = PR_weekly_avg[PR_weekly_avg.index >= '2020-03-15']\n",
    "dictPRpost = {'week': range(84, 179), 'avg': PRdata_post_pandemic.values}\n",
    "regressionPRpost = pd.DataFrame(data=dictPRpost)\n",
    "regressionPRpost = regressionPRpost.dropna()\n",
    "\n",
    "\n",
    "\n",
    "MSdata_pre_pandemic = MS_weekly_avg[MS_weekly_avg.index < '2020-03-15']\n",
    "dictMSpre = {'week': range(81), 'avg': MSdata_pre_pandemic.values}\n",
    "regressionMSpre = pd.DataFrame(data=dictMSpre)\n",
    "regressionMSpre = regressionMSpre.dropna()\n",
    "MSdata_post_pandemic = MS_weekly_avg[MS_weekly_avg.index >= '2020-03-15']\n",
    "dictMSpost = {'week': range(81, 176), 'avg': MSdata_post_pandemic.values}\n",
    "regressionMSpost = pd.DataFrame(data=dictMSpost)\n",
    "regressionMSpost = regressionMSpost.dropna()\n",
    "\n",
    "\n",
    "RHdata_pre_pandemic = RH_weekly_avg[RH_weekly_avg.index < '2020-03-15']\n",
    "dictRHpre = {'week': range(84), 'avg': RHdata_pre_pandemic.values}\n",
    "regressionRHpre = pd.DataFrame(data=dictRHpre)\n",
    "regressionRHpre = regressionRHpre.dropna()\n",
    "RHdata_post_pandemic = RH_weekly_avg[RH_weekly_avg.index >= '2020-03-15']\n",
    "dictRHpost = {'week': range(84, 179), 'avg': RHdata_post_pandemic.values}\n",
    "regressionRHpost = pd.DataFrame(data=dictRHpost)\n",
    "regressionRHpost = regressionRHpost.dropna()\n",
    "\n",
    "regFig, axes = plt.subplots(3, 1, figsize=(20,18))\n",
    "sns.regplot(ax=axes[0], x=regressionPRpre.week,y= regressionPRpre.avg)\n",
    "sns.regplot(ax=axes[0], x=regressionPRpost.week,y= regressionPRpost.avg, color = 'red')\n",
    "sns.regplot(ax=axes[1], x=regressionMSpre.week,y= regressionMSpre.avg)\n",
    "sns.regplot(ax=axes[1], x=regressionMSpost.week,y= regressionMSpost.avg, color = 'red')\n",
    "sns.regplot(ax=axes[2], x=regressionRHpre.week,y= regressionRHpre.avg)\n",
    "sns.regplot(ax=axes[2], x=regressionRHpost.week,y= regressionRHpost.avg, color = 'red')"
   ]
  },
  {
   "cell_type": "code",
   "execution_count": 106,
   "id": "645784fd",
   "metadata": {},
   "outputs": [
    {
     "data": {
      "text/plain": [
       "64    64\n",
       "58    58\n",
       "40    40\n",
       "9      9\n",
       "80    80\n",
       "      ..\n",
       "20    20\n",
       "62    62\n",
       "73    73\n",
       "14    14\n",
       "53    53\n",
       "Name: week, Length: 65, dtype: int64"
      ]
     },
     "execution_count": 106,
     "metadata": {},
     "output_type": "execute_result"
    }
   ],
   "source": []
  },
  {
   "cell_type": "code",
   "execution_count": 107,
   "id": "36ecf975",
   "metadata": {},
   "outputs": [],
   "source": [
    "# Pre pandemic Phibsborough Road \n",
    "\n",
    "preAvg_train, preAvg_test, preWeek_train, preWeek_test = train_test_split(regressionpre.avg, regressionpre.week, test_size=0.2, random_state=42)\n",
    "\n",
    "preAvg_train_arr = preAvg_train.array\n",
    "preAvg_test_arr = preAvg_test.array\n",
    "preWeek_train_arr = preWeek_train.array.to_numpy().reshape(-1,1)\n",
    "preWeek_test_arr = preWeek_test.array.to_numpy().reshape(-1,1)\n",
    "\n",
    "\n",
    "preAvg_train_arr\n",
    "\n",
    "preReg = LinearRegression().fit(preWeek_train_arr, preAvg_train_arr)\n",
    "\n",
    "fitted_pre_train_avg = preReg.predict(preWeek_train_arr)\n",
    "fitted_pre_test_avg = preReg.predict(preWeek_test_arr)\n"
   ]
  },
  {
   "cell_type": "code",
   "execution_count": 108,
   "id": "76f65e8c",
   "metadata": {},
   "outputs": [
    {
     "data": {
      "image/png": "[encoded data removed]",
      "text/plain": [
       "<Figure size 432x288 with 1 Axes>"
      ]
     },
     "metadata": {
      "needs_background": "light"
     },
     "output_type": "display_data"
    }
   ],
   "source": [
    "#Linear regression pre pan visualisation\n",
    "plt.scatter(preWeek_train_arr, preAvg_train_arr, label='Training points')\n",
    "plt.scatter(preWeek_test_arr, preAvg_test_arr, label='Testing points')\n",
    "plt.plot(preWeek_train_arr, fitted_pre_train_avg, label='Linear model')\n",
    "plt.legend()\n",
    "plt.xlabel('Week')\n",
    "plt.ylabel('Average Usage')\n",
    "plt.show()"
   ]
  },
  {
   "cell_type": "code",
   "execution_count": 127,
   "id": "486482d2",
   "metadata": {},
   "outputs": [
    {
     "name": "stdout",
     "output_type": "stream",
     "text": [
      "0.6962185325996086\n",
      "[0.69621853 0.69621853 0.69621853 0.69621853 0.69621853 0.69621853\n",
      " 0.69621853 0.69621853 0.69621853 0.69621853 0.69621853 0.69621853\n",
      " 0.69621853 0.69621853 0.69621853 0.69621853 0.69621853]\n"
     ]
    }
   ],
   "source": [
    "print(np.mean(regressionpre.avg))\n",
    "\n",
    "null_array = np.repeat(np.mean(regressionpre.avg), 17)\n",
    "\n",
    "print(null_array)"
   ]
  },
  {
   "cell_type": "code",
   "execution_count": 128,
   "id": "adb68e1e",
   "metadata": {},
   "outputs": [
    {
     "name": "stdout",
     "output_type": "stream",
     "text": [
      "Mean Squared Error, training set: 0.0019378034109962016\n",
      "Mean Squared Error, testing set: 0.003057541318645758\n",
      "Mean Squared Error, testing set: 0.003093045856374302\n"
     ]
    }
   ],
   "source": [
    "from sklearn.metrics import mean_squared_error\n",
    "\n",
    "train_MSE = mean_squared_error(preAvg_train, fitted_pre_train_avg)\n",
    "print('Mean Squared Error, training set:', train_MSE)\n",
    "\n",
    "test_MSE = mean_squared_error(preAvg_test, fitted_pre_test_avg)\n",
    "print('Mean Squared Error, testing set:', test_MSE)\n",
    "\n",
    "null_MSE = mean_squared_error(preAvg_test, null_array)\n",
    "print('Mean Squared Error, testing set:', null_MSE)\n"
   ]
  },
  {
   "cell_type": "code",
   "execution_count": 33,
   "id": "ecf635e1",
   "metadata": {},
   "outputs": [
    {
     "name": "stdout",
     "output_type": "stream",
     "text": [
      "Mean Squared Error, training set: 627.7677329080624\n",
      "Mean Squared Error, testing set: 486.44719042294196\n"
     ]
    }
   ],
   "source": [
    "# Post pandemic Phibsborough Road \n",
    "\n",
    "postPRavg_train, postPRavg_test, postPRweek_train, postPRweek_test = train_test_split(regressionPRpost.week, regressionPRpost.avg, test_size=0.2, random_state=42)\n",
    "\n",
    "postPRavg_train_arr = postPRavg_train.array\n",
    "postPRavg_test_arr = postPRavg_test.array\n",
    "postPRweek_train_arr = postPRweek_train.array.to_numpy().reshape(-1,1)\n",
    "postPRweek_test_arr = postPRweek_test.array.to_numpy().reshape(-1,1)\n",
    "\n",
    "\n",
    "postPRavg_train_arr\n",
    "\n",
    "postPRreg = LinearRegression().fit(postPRweek_train_arr, postPRavg_train_arr)\n",
    "\n",
    "fitted_postPRtrain_avg = postPRreg.predict(postPRweek_train_arr)\n",
    "fitted_postPRtest_avg = postPRreg.predict(postPRweek_test_arr)\n",
    "\n",
    "MSE = mean_squared_error(postPRavg_train_arr, fitted_postPRtrain_avg)\n",
    "print('Mean Squared Error, training set:', MSE)\n",
    "\n",
    "MSE = mean_squared_error(postPRavg_test_arr, fitted_postPRtest_avg)\n",
    "print('Mean Squared Error, testing set:', MSE)\n"
   ]
  },
  {
   "cell_type": "code",
   "execution_count": 44,
   "id": "602b2044",
   "metadata": {},
   "outputs": [
    {
     "data": {
      "image/png": "[encoded data removed]",
      "text/plain": [
       "<Figure size 432x288 with 1 Axes>"
      ]
     },
     "metadata": {
      "needs_background": "light"
     },
     "output_type": "display_data"
    }
   ],
   "source": [
    "\n",
    "#Linear regression post pan visualisation\n",
    "plt.scatter(postPRweek_train_arr, postPRavg_train_arr, label='Training points')\n",
    "plt.scatter(postPRweek_test_arr, postPRavg_test_arr, label='Testing points')\n",
    "plt.plot(postPRweek_train_arr, fitted_postPRtrain_avg, label='Linear model')\n",
    "plt.legend()\n",
    "plt.xlabel('Week')\n",
    "plt.ylabel('Average Usage')\n",
    "plt.show()"
   ]
  },
  {
   "cell_type": "code",
   "execution_count": 41,
   "id": "1cd2c2f4",
   "metadata": {},
   "outputs": [
    {
     "name": "stdout",
     "output_type": "stream",
     "text": [
      "Mean Squared Error, training set: 553.6723194394422\n",
      "Mean Squared Error, testing set: 532.0890168123826\n"
     ]
    }
   ],
   "source": [
    "# Pre pandemic Merrion Square\n",
    "\n",
    "preMSavg_train, preMSavg_test, preMSweek_train, preMSweek_test = train_test_split(regressionMSpre.week, regressionMSpre.avg, test_size=0.2, random_state=42)\n",
    "\n",
    "preMSavg_train_arr = preMSavg_train.array\n",
    "preMSavg_test_arr = preMSavg_test.array\n",
    "preMSweek_train_arr = preMSweek_train.array.to_numpy().reshape(-1,1)\n",
    "preMSweek_test_arr = preMSweek_test.array.to_numpy().reshape(-1,1)\n",
    "\n",
    "\n",
    "preMSavg_train_arr\n",
    "\n",
    "preMSreg = LinearRegression().fit(preMSweek_train_arr, preMSavg_train_arr)\n",
    "\n",
    "fitted_preMStrain_avg = preMSreg.predict(preMSweek_train_arr)\n",
    "fitted_preMStest_avg = preMSreg.predict(preMSweek_test_arr)\n",
    "\n",
    "MSE = mean_squared_error(preMSavg_train_arr, fitted_preMStrain_avg)\n",
    "print('Mean Squared Error, training set:', MSE)\n",
    "\n",
    "MSE = mean_squared_error(preMSavg_test_arr, fitted_preMStest_avg)\n",
    "print('Mean Squared Error, testing set:', MSE)\n"
   ]
  },
  {
   "cell_type": "code",
   "execution_count": 37,
   "id": "eb0683ff",
   "metadata": {},
   "outputs": [
    {
     "name": "stdout",
     "output_type": "stream",
     "text": [
      "Mean Squared Error, training set: 700.7281969083308\n",
      "Mean Squared Error, testing set: 742.6926891471871\n"
     ]
    }
   ],
   "source": [
    "# Post pandemic Merrion Square\n",
    "\n",
    "postMSavg_train, postMSavg_test, postMSweek_train, postMSweek_test = train_test_split(regressionMSpost.week, regressionMSpost.avg, test_size=0.2, random_state=42)\n",
    "\n",
    "postMSavg_train_arr = postMSavg_train.array\n",
    "postMSavg_test_arr = postMSavg_test.array\n",
    "postMSweek_train_arr = postMSweek_train.array.to_numpy().reshape(-1,1)\n",
    "postMSweek_test_arr = postMSweek_test.array.to_numpy().reshape(-1,1)\n",
    "\n",
    "\n",
    "postMSavg_train_arr\n",
    "\n",
    "postMSreg = LinearRegression().fit(postMSweek_train_arr, postMSavg_train_arr)\n",
    "\n",
    "fitted_postMStrain_avg = postMSreg.predict(postMSweek_train_arr)\n",
    "fitted_postMStest_avg = postMSreg.predict(postMSweek_test_arr)\n",
    "\n",
    "MSE = mean_squared_error(postMSavg_train_arr, fitted_postMStrain_avg)\n",
    "print('Mean Squared Error, training set:', MSE)\n",
    "\n",
    "MSE = mean_squared_error(postMSavg_test_arr, fitted_postMStest_avg)\n",
    "print('Mean Squared Error, testing set:', MSE)\n"
   ]
  },
  {
   "cell_type": "code",
   "execution_count": 42,
   "id": "202efb44",
   "metadata": {},
   "outputs": [
    {
     "name": "stdout",
     "output_type": "stream",
     "text": [
      "Mean Squared Error, training set: 604.2433458316787\n",
      "Mean Squared Error, testing set: 576.8098917201488\n"
     ]
    }
   ],
   "source": [
    "# Pre pandemic Royal Hospital\n",
    "\n",
    "preRHavg_train, preRHavg_test, preRHweek_train, preRHweek_test = train_test_split(regressionRHpre.week, regressionRHpre.avg, test_size=0.2, random_state=42)\n",
    "\n",
    "preRHavg_train_arr = preRHavg_train.array\n",
    "preRHavg_test_arr = preRHavg_test.array\n",
    "preRHweek_train_arr = preRHweek_train.array.to_numpy().reshape(-1,1)\n",
    "preRHweek_test_arr = preRHweek_test.array.to_numpy().reshape(-1,1)\n",
    "\n",
    "\n",
    "preRHavg_train_arr\n",
    "\n",
    "preRHreg = LinearRegression().fit(preRHweek_train_arr, preRHavg_train_arr)\n",
    "\n",
    "fitted_preRHtrain_avg = preRHreg.predict(preRHweek_train_arr)\n",
    "fitted_preRHtest_avg = preRHreg.predict(preRHweek_test_arr)\n",
    "\n",
    "MSE = mean_squared_error(preRHavg_train_arr, fitted_preRHtrain_avg)\n",
    "print('Mean Squared Error, training set:', MSE)\n",
    "\n",
    "MSE = mean_squared_error(preRHavg_test_arr, fitted_preRHtest_avg)\n",
    "print('Mean Squared Error, testing set:', MSE)\n"
   ]
  },
  {
   "cell_type": "code",
   "execution_count": 43,
   "id": "3154a40a",
   "metadata": {},
   "outputs": [
    {
     "name": "stdout",
     "output_type": "stream",
     "text": [
      "Mean Squared Error, training set: 752.3467082683765\n",
      "Mean Squared Error, testing set: 724.0310840014215\n"
     ]
    }
   ],
   "source": [
    "# Post pandemic Royal Hospital\n",
    "\n",
    "\n",
    "postRHavg_train, postRHavg_test, postRHweek_train, postRHweek_test = train_test_split(regressionRHpost.week, regressionRHpost.avg, test_size=0.2, random_state=42)\n",
    "\n",
    "postRHavg_train_arr = postRHavg_train.array\n",
    "postRHavg_test_arr = postRHavg_test.array\n",
    "postRHweek_train_arr = postRHweek_train.array.to_numpy().reshape(-1,1)\n",
    "postRHweek_test_arr = postRHweek_test.array.to_numpy().reshape(-1,1)\n",
    "\n",
    "\n",
    "postRHavg_train_arr\n",
    "\n",
    "postRHreg = LinearRegression().fit(postRHweek_train_arr, postRHavg_train_arr)\n",
    "\n",
    "fitted_postRHtrain_avg = postRHreg.predict(postRHweek_train_arr)\n",
    "fitted_postRHtest_avg = postRHreg.predict(postRHweek_test_arr)\n",
    "\n",
    "MSE = mean_squared_error(postRHavg_train_arr, fitted_postRHtrain_avg)\n",
    "print('Mean Squared Error, training set:', MSE)\n",
    "\n",
    "MSE = mean_squared_error(postRHavg_test_arr, fitted_postRHtest_avg)\n",
    "print('Mean Squared Error, testing set:', MSE)\n"
   ]
  },
  {
   "cell_type": "code",
   "execution_count": null,
   "id": "e2fc039a",
   "metadata": {},
   "outputs": [],
   "source": [
    "###################"
   ]
  },
  {
   "cell_type": "code",
   "execution_count": null,
   "id": "e2afe5c9",
   "metadata": {},
   "outputs": [],
   "source": []
  },
  {
   "cell_type": "code",
   "execution_count": 55,
   "id": "622b3c76",
   "metadata": {},
   "outputs": [
    {
     "ename": "NameError",
     "evalue": "name 'weekly_avg' is not defined",
     "output_type": "error",
     "traceback": [
      "\u001b[0;31m---------------------------------------------------------------------------\u001b[0m",
      "\u001b[0;31mNameError\u001b[0m                                 Traceback (most recent call last)",
      "Input \u001b[0;32mIn [55]\u001b[0m, in \u001b[0;36m<cell line: 1>\u001b[0;34m()\u001b[0m\n\u001b[0;32m----> 1\u001b[0m data_pre_pandemic \u001b[38;5;241m=\u001b[39m \u001b[43mweekly_avg\u001b[49m[weekly_avg\u001b[38;5;241m.\u001b[39mindex \u001b[38;5;241m<\u001b[39m \u001b[38;5;124m'\u001b[39m\u001b[38;5;124m2020-03-15\u001b[39m\u001b[38;5;124m'\u001b[39m]\n\u001b[1;32m      2\u001b[0m dict_pre \u001b[38;5;241m=\u001b[39m {\u001b[38;5;124m'\u001b[39m\u001b[38;5;124mweek\u001b[39m\u001b[38;5;124m'\u001b[39m: \u001b[38;5;28mrange\u001b[39m(\u001b[38;5;241m84\u001b[39m), \u001b[38;5;124m'\u001b[39m\u001b[38;5;124mavg\u001b[39m\u001b[38;5;124m'\u001b[39m: data_pre_pandemic\u001b[38;5;241m.\u001b[39mvalues}\n\u001b[1;32m      3\u001b[0m regression_pre \u001b[38;5;241m=\u001b[39m pd\u001b[38;5;241m.\u001b[39mDataFrame(data\u001b[38;5;241m=\u001b[39mdictPRpre)\n",
      "\u001b[0;31mNameError\u001b[0m: name 'weekly_avg' is not defined"
     ]
    }
   ],
   "source": [
    "data_pre_pandemic = weekly_avg[weekly_avg.index < '2020-03-15']\n",
    "dict_pre = {'week': range(84), 'avg': data_pre_pandemic.values}\n",
    "regression_pre = pd.DataFrame(data=dictPRpre)\n",
    "regression_pre = regressionPRpre.dropna()\n",
    "data_post_pandemic = weekly_avg[weekly_avg.index >= '2020-03-15']\n",
    "dict_post = {'week': range(84, 179), 'avg': data_post_pandemic.values}\n",
    "regression_post = pd.DataFrame(data=dict_post)\n",
    "regression_post = regression_post.dropna()\n"
   ]
  },
  {
   "cell_type": "code",
   "execution_count": 56,
   "id": "cdbb8a6c",
   "metadata": {},
   "outputs": [
    {
     "ename": "NameError",
     "evalue": "name 'data_pre_pandemic' is not defined",
     "output_type": "error",
     "traceback": [
      "\u001b[0;31m---------------------------------------------------------------------------\u001b[0m",
      "\u001b[0;31mNameError\u001b[0m                                 Traceback (most recent call last)",
      "Input \u001b[0;32mIn [56]\u001b[0m, in \u001b[0;36m<cell line: 1>\u001b[0;34m()\u001b[0m\n\u001b[0;32m----> 1\u001b[0m \u001b[38;5;28mprint\u001b[39m(\u001b[38;5;28mlen\u001b[39m(\u001b[43mdata_pre_pandemic\u001b[49m))\n\u001b[1;32m      2\u001b[0m \u001b[38;5;28mprint\u001b[39m(\u001b[38;5;28mlen\u001b[39m(data_post_pandemic))\n",
      "\u001b[0;31mNameError\u001b[0m: name 'data_pre_pandemic' is not defined"
     ]
    }
   ],
   "source": [
    "print(len(data_pre_pandemic))\n",
    "print(len(data_post_pandemic))"
   ]
  },
  {
   "cell_type": "code",
   "execution_count": 59,
   "id": "78fd32b9",
   "metadata": {},
   "outputs": [
    {
     "name": "stdout",
     "output_type": "stream",
     "text": [
      "84\n",
      "95\n"
     ]
    }
   ],
   "source": [
    "############\n",
    "weekly_avg = data.groupby(pd.Grouper(key='DATE', freq='W'))['BIKE.USAGE'].mean()\n",
    "date_vector = pd.DatetimeIndex(data[\"DATE\"].dt.date)\n",
    "\n",
    "\n",
    "data_pre_pandemic = weekly_avg[weekly_avg.index < '2020-03-15']\n",
    "print(len(data_pre_pandemic))\n",
    "data_post_pandemic = weekly_avg[weekly_avg.index >= '2020-03-15']\n",
    "print(len(data_post_pandemic))"
   ]
  },
  {
   "cell_type": "code",
   "execution_count": 60,
   "id": "1baa2504",
   "metadata": {},
   "outputs": [],
   "source": [
    "data_pre_pandemic = weekly_avg[weekly_avg.index < '2020-03-15']\n",
    "dictpre = {'week': range(84), 'avg': data_pre_pandemic.values}\n",
    "regressionpre = pd.DataFrame(data=dictpre)\n",
    "regressionpre = regressionpre.dropna()\n",
    "data_post_pandemic = weekly_avg[weekly_avg.index >= '2020-03-15']\n",
    "dictpost = {'week': range(84, 179), 'avg': data_post_pandemic.values}\n",
    "regressionpost = pd.DataFrame(data=dictpost)\n",
    "regressionpost = regressionpost.dropna()"
   ]
  },
  {
   "cell_type": "code",
   "execution_count": 61,
   "id": "558e7860",
   "metadata": {},
   "outputs": [
    {
     "data": {
      "text/plain": [
       "<AxesSubplot:xlabel='week', ylabel='avg'>"
      ]
     },
     "execution_count": 61,
     "metadata": {},
     "output_type": "execute_result"
    },
    {
     "data": {
      "image/png": "[encoded data removed]",
      "text/plain": [
       "<Figure size 1440x432 with 1 Axes>"
      ]
     },
     "metadata": {
      "needs_background": "light"
     },
     "output_type": "display_data"
    }
   ],
   "source": [
    "regFig, axes = plt.subplots(figsize=(20,6))\n",
    "sns.regplot(x=regressionpre.week,y= regressionpre.avg)\n",
    "sns.regplot(x=regressionpost.week,y= regressionpost.avg, color = 'red')"
   ]
  },
  {
   "cell_type": "code",
   "execution_count": null,
   "id": "b1b90449",
   "metadata": {},
   "outputs": [],
   "source": []
  },
  {
   "cell_type": "code",
   "execution_count": 62,
   "id": "f6d1236e",
   "metadata": {},
   "outputs": [
    {
     "ename": "AttributeError",
     "evalue": "'DataFrame' object has no attribute 'coef_'",
     "output_type": "error",
     "traceback": [
      "\u001b[0;31m---------------------------------------------------------------------------\u001b[0m",
      "\u001b[0;31mAttributeError\u001b[0m                            Traceback (most recent call last)",
      "Input \u001b[0;32mIn [62]\u001b[0m, in \u001b[0;36m<cell line: 1>\u001b[0;34m()\u001b[0m\n\u001b[0;32m----> 1\u001b[0m pre_slope \u001b[38;5;241m=\u001b[39m \u001b[43mregressionpre\u001b[49m\u001b[38;5;241;43m.\u001b[39;49m\u001b[43mcoef_\u001b[49m[\u001b[38;5;241m0\u001b[39m]\n\u001b[1;32m      3\u001b[0m \u001b[38;5;28mprint\u001b[39m(\u001b[38;5;124m\"\u001b[39m\u001b[38;5;124mSlope of the pre regression line: \u001b[39m\u001b[38;5;124m\"\u001b[39m, pre_slope)\n\u001b[1;32m      5\u001b[0m post_slope \u001b[38;5;241m=\u001b[39m regressionpost\u001b[38;5;241m.\u001b[39mcoef_[\u001b[38;5;241m0\u001b[39m]\n",
      "File \u001b[0;32m~/opt/anaconda3/lib/python3.9/site-packages/pandas/core/generic.py:5575\u001b[0m, in \u001b[0;36mNDFrame.__getattr__\u001b[0;34m(self, name)\u001b[0m\n\u001b[1;32m   5568\u001b[0m \u001b[38;5;28;01mif\u001b[39;00m (\n\u001b[1;32m   5569\u001b[0m     name \u001b[38;5;129;01mnot\u001b[39;00m \u001b[38;5;129;01min\u001b[39;00m \u001b[38;5;28mself\u001b[39m\u001b[38;5;241m.\u001b[39m_internal_names_set\n\u001b[1;32m   5570\u001b[0m     \u001b[38;5;129;01mand\u001b[39;00m name \u001b[38;5;129;01mnot\u001b[39;00m \u001b[38;5;129;01min\u001b[39;00m \u001b[38;5;28mself\u001b[39m\u001b[38;5;241m.\u001b[39m_metadata\n\u001b[1;32m   5571\u001b[0m     \u001b[38;5;129;01mand\u001b[39;00m name \u001b[38;5;129;01mnot\u001b[39;00m \u001b[38;5;129;01min\u001b[39;00m \u001b[38;5;28mself\u001b[39m\u001b[38;5;241m.\u001b[39m_accessors\n\u001b[1;32m   5572\u001b[0m     \u001b[38;5;129;01mand\u001b[39;00m \u001b[38;5;28mself\u001b[39m\u001b[38;5;241m.\u001b[39m_info_axis\u001b[38;5;241m.\u001b[39m_can_hold_identifiers_and_holds_name(name)\n\u001b[1;32m   5573\u001b[0m ):\n\u001b[1;32m   5574\u001b[0m     \u001b[38;5;28;01mreturn\u001b[39;00m \u001b[38;5;28mself\u001b[39m[name]\n\u001b[0;32m-> 5575\u001b[0m \u001b[38;5;28;01mreturn\u001b[39;00m \u001b[38;5;28;43mobject\u001b[39;49m\u001b[38;5;241;43m.\u001b[39;49m\u001b[38;5;21;43m__getattribute__\u001b[39;49m\u001b[43m(\u001b[49m\u001b[38;5;28;43mself\u001b[39;49m\u001b[43m,\u001b[49m\u001b[43m \u001b[49m\u001b[43mname\u001b[49m\u001b[43m)\u001b[49m\n",
      "\u001b[0;31mAttributeError\u001b[0m: 'DataFrame' object has no attribute 'coef_'"
     ]
    }
   ],
   "source": [
    "pre_slope = regressionpre.coef_[0]\n",
    "\n",
    "print(\"Slope of the pre regression line: \", pre_slope)\n",
    "\n",
    "post_slope = regressionpost.coef_[0]\n",
    "\n",
    "print(\"Slope of the pre regression line: \", post_slope)"
   ]
  },
  {
   "cell_type": "code",
   "execution_count": 84,
   "id": "eaf6eed9",
   "metadata": {},
   "outputs": [
    {
     "data": {
      "image/png": "[encoded data removed]",
      "text/plain": [
       "<Figure size 432x288 with 1 Axes>"
      ]
     },
     "metadata": {
      "needs_background": "light"
     },
     "output_type": "display_data"
    }
   ],
   "source": [
    "#We split the data into a training and testing part \n",
    "#for both the 'Engine size' (as X) and the 'Price' (as y, our answers)\n",
    "#With a randomisation of the dataset\n",
    "Avg_train, Avg_test, Week_train, Week_test = train_test_split(regressionpre.week, regressionpre.avg, test_size=0.2, random_state=42)\n",
    "\n",
    "\n",
    "#Adapting to array fromat (not important, formatting to adapt to a different library)\n",
    "Avg_train_arr = Avg_train.array\n",
    "Avg_test_arr = Avg_test.array\n",
    "Week_train_arr = Week_train.array.to_numpy().reshape(-1,1)\n",
    "Week_test_arr = Week_test.array.to_numpy().reshape(-1,1)\n",
    "\n",
    "#Linear regression\n",
    "#Again store results (weights) in the 'reg' object\n",
    "no_pandemic_reg = LinearRegression().fit(Week_train_arr, Avg_train_arr)\n",
    "\n",
    "#Predict price based on engine size\n",
    "fitted_train_Avg = no_pandemic_reg.predict(Week_train_arr)\n",
    "fitted_test_Avg = no_pandemic_reg.predict(Week_test_arr)\n",
    "\n",
    "#Visualisation\n",
    "# Seaborn library is used to easily visualise a dataset and its summarising models\n",
    "import seaborn as sns\n",
    "sns.regplot(x=regressionpre.week, y = regressionpre.avg)\n",
    "plt.show()"
   ]
  },
  {
   "cell_type": "code",
   "execution_count": 66,
   "id": "b457a07d",
   "metadata": {},
   "outputs": [],
   "source": []
  },
  {
   "cell_type": "code",
   "execution_count": 67,
   "id": "ca44c6e1",
   "metadata": {},
   "outputs": [
    {
     "data": {
      "image/png": "[encoded data removed]",
      "text/plain": [
       "<Figure size 432x288 with 1 Axes>"
      ]
     },
     "metadata": {
      "needs_background": "light"
     },
     "output_type": "display_data"
    }
   ],
   "source": []
  },
  {
   "cell_type": "code",
   "execution_count": null,
   "id": "11094205",
   "metadata": {},
   "outputs": [],
   "source": []
  },
  {
   "cell_type": "code",
   "execution_count": 71,
   "id": "a8dee8ac",
   "metadata": {},
   "outputs": [
    {
     "name": "stdout",
     "output_type": "stream",
     "text": [
      "84\n",
      "95\n"
     ]
    }
   ],
   "source": [
    "data_pre_pandemic = weekly_avg[weekly_avg.index < '2020-03-15']\n",
    "print(len(data_pre_pandemic))\n",
    "data_post_pandemic = weekly_avg[weekly_avg.index >= '2020-03-15']\n",
    "print(len(data_post_pandemic))"
   ]
  },
  {
   "cell_type": "code",
   "execution_count": 69,
   "id": "528fe58d",
   "metadata": {},
   "outputs": [],
   "source": [
    "data_pre_pandemic = weekly_avg[weekly_avg.index < '2020-03-15']\n",
    "dictpre = {'week': range(84), 'avg': data_pre_pandemic.values}\n",
    "regressionpre = pd.DataFrame(data=dictpre)\n",
    "regressionpre = regressionpre.dropna()\n",
    "data_post_pandemic = weekly_avg[weekly_avg.index >= '2020-03-15']\n",
    "dictpost = {'week': range(84, 179), 'avg': data_post_pandemic.values}\n",
    "regressionpost = pd.DataFrame(data=dictpost)\n",
    "regressionpost = regressionpost.dropna()"
   ]
  },
  {
   "cell_type": "code",
   "execution_count": 72,
   "id": "d0d70b01",
   "metadata": {},
   "outputs": [
    {
     "name": "stdout",
     "output_type": "stream",
     "text": [
      "Pre-Pandemic Intercept: [0.68513153]\n",
      "Pre-Pandemic Coefficient: [0.00026794]\n",
      "Post-Pandemic Intercept: [0.8387338]\n",
      "Post-Pandemic Coefficient: [-0.00099054]\n"
     ]
    }
   ],
   "source": [
    "preweek_arr = regressionpre.week.to_numpy().reshape(-1,1)\n",
    "preavg_arr = regressionpre.avg.to_numpy().reshape(-1,1)\n",
    "pre_reg = LinearRegression().fit(preweek_arr,preavg_arr)\n",
    "\n",
    "\n",
    "print(\"Pre-Pandemic Intercept:\", pre_reg.intercept_)\n",
    "print(\"Pre-Pandemic Coefficient:\", pre_reg.coef_[0])\n",
    "\n",
    "postweek_arr = regressionpost.week.to_numpy().reshape(-1,1)\n",
    "postavg_arr = regressionpost.avg.to_numpy().reshape(-1,1)\n",
    "post_reg = LinearRegression().fit(postweek_arr,postavg_arr)\n",
    "\n",
    "\n",
    "print(\"Post-Pandemic Intercept:\", post_reg.intercept_)\n",
    "print(\"Post-Pandemic Coefficient:\", post_reg.coef_[0])"
   ]
  },
  {
   "cell_type": "code",
   "execution_count": 73,
   "id": "94b312e6",
   "metadata": {},
   "outputs": [
    {
     "data": {
      "text/plain": [
       "<matplotlib.collections.PathCollection at 0x7fbddf1f4160>"
      ]
     },
     "execution_count": 73,
     "metadata": {},
     "output_type": "execute_result"
    },
    {
     "data": {
      "image/png": "[encoded data removed]",
      "text/plain": [
       "<Figure size 432x288 with 1 Axes>"
      ]
     },
     "metadata": {
      "needs_background": "light"
     },
     "output_type": "display_data"
    }
   ],
   "source": [
    "\n",
    "fc = np.array(range(1,179))\n",
    "fc_pred = pre_reg.predict(fc.reshape(-1,1))\n",
    "\n",
    "plt.plot(fc, fc_pred)\n",
    "dictmain = {'week': range(179), 'avg': weekly_avg.values}\n",
    "pred_df = pd.DataFrame(data=dictmain)\n",
    "plt.scatter(regressionpre.week, regressionpre.avg)\n",
    "\n"
   ]
  },
  {
   "cell_type": "code",
   "execution_count": 81,
   "id": "19fd7373",
   "metadata": {},
   "outputs": [
    {
     "data": {
      "image/png": "[encoded data removed]",
      "text/plain": [
       "<Figure size 432x288 with 1 Axes>"
      ]
     },
     "metadata": {
      "needs_background": "light"
     },
     "output_type": "display_data"
    }
   ],
   "source": [
    "import pandas as pd\n",
    "\n",
    "# Create a new dataframe with weekly dates for 2020\n",
    "dates = pd.date_range(start='2020-01-01', end='2020-12-31', freq='W')\n",
    "data_2020 = pd.DataFrame(index=dates)\n",
    "\n",
    "# Add a new column with the week numbers\n",
    "data_2020['week'] = range(1, 53)\n",
    "\n",
    "# Predict the bike usage trend for the pre-pandemic period\n",
    "preweek_arr = regressionpre.week.to_numpy().reshape(-1,1)\n",
    "preavg_arr = regressionpre.avg.to_numpy().reshape(-1,1)\n",
    "pre_reg = LinearRegression().fit(preweek_arr,preavg_arr)\n",
    "pre_trend = pre_reg.predict(data_2020['week'].to_numpy().reshape(-1,1))\n",
    "\n",
    "\n",
    "# Add the predicted trend to the dataframe and plot the results\n",
    "data_2020['trend'] = pre_trend\n",
    "plt.plot(data_2020.index, data_2020['trend'], label='Predicted trend')\n",
    "plt.legend()\n",
    "plt.show()\n"
   ]
  },
  {
   "cell_type": "code",
   "execution_count": 91,
   "id": "c4dba7e4",
   "metadata": {},
   "outputs": [],
   "source": []
  },
  {
   "cell_type": "code",
   "execution_count": 97,
   "id": "8245a5d4",
   "metadata": {},
   "outputs": [],
   "source": [
    "# Train a linear regression model on the training data\n",
    "no_pandemic_reg = LinearRegression().fit(Week_train_arr, Avg_train_arr)\n",
    "\n",
    "# Predict the average bike usage for the weeks in 2018\n",
    "predicted_avg = no_pandemic_reg.predict(preweek_arr)\n",
    "\n",
    "#Predict price based on engine size\n",
    "fitted_train_Avg = no_pandemic_reg.predict(Week_train_arr)\n",
    "fitted_test_Avg = no_pandemic_reg.predict(Week_test_arr)\n",
    "\n",
    "\n",
    "# Calculate the residuals\n",
    "residuals = preavg_arr - predicted_avg\n",
    "\n",
    "# Calculate the standard deviation of the residuals\n",
    "residual_std = np.std(residuals)\n",
    "\n",
    "# Calculate the upper and lower confidence bounds for the predicted values\n",
    "lower_bound = predicted_avg - 1.96 * residual_std\n",
    "upper_bound = predicted_avg + 1.96 * residual_std\n",
    "\n"
   ]
  },
  {
   "cell_type": "code",
   "execution_count": 98,
   "id": "8d1d74b5",
   "metadata": {},
   "outputs": [
    {
     "ename": "ValueError",
     "evalue": "'x' is not 1-dimensional",
     "output_type": "error",
     "traceback": [
      "\u001b[0;31m---------------------------------------------------------------------------\u001b[0m",
      "\u001b[0;31mValueError\u001b[0m                                Traceback (most recent call last)",
      "Input \u001b[0;32mIn [98]\u001b[0m, in \u001b[0;36m<cell line: 3>\u001b[0;34m()\u001b[0m\n\u001b[1;32m      1\u001b[0m \u001b[38;5;66;03m# Plot the predicted values and confidence bounds\u001b[39;00m\n\u001b[1;32m      2\u001b[0m plt\u001b[38;5;241m.\u001b[39mplot(preweek_arr, predicted_avg, color\u001b[38;5;241m=\u001b[39m\u001b[38;5;124m'\u001b[39m\u001b[38;5;124mred\u001b[39m\u001b[38;5;124m'\u001b[39m, label\u001b[38;5;241m=\u001b[39m\u001b[38;5;124m'\u001b[39m\u001b[38;5;124mPredicted values\u001b[39m\u001b[38;5;124m'\u001b[39m)\n\u001b[0;32m----> 3\u001b[0m \u001b[43mplt\u001b[49m\u001b[38;5;241;43m.\u001b[39;49m\u001b[43mfill_between\u001b[49m\u001b[43m(\u001b[49m\u001b[43mpreweek_arr\u001b[49m\u001b[43m,\u001b[49m\u001b[43m \u001b[49m\u001b[43mlower_bound\u001b[49m\u001b[43m,\u001b[49m\u001b[43m \u001b[49m\u001b[43mupper_bound\u001b[49m\u001b[43m,\u001b[49m\u001b[43m \u001b[49m\u001b[43malpha\u001b[49m\u001b[38;5;241;43m=\u001b[39;49m\u001b[38;5;241;43m0.2\u001b[39;49m\u001b[43m,\u001b[49m\u001b[43m \u001b[49m\u001b[43mcolor\u001b[49m\u001b[38;5;241;43m=\u001b[39;49m\u001b[38;5;124;43m'\u001b[39;49m\u001b[38;5;124;43mblue\u001b[39;49m\u001b[38;5;124;43m'\u001b[39;49m\u001b[43m,\u001b[49m\u001b[43m \u001b[49m\u001b[43mlabel\u001b[49m\u001b[38;5;241;43m=\u001b[39;49m\u001b[38;5;124;43m'\u001b[39;49m\u001b[38;5;124;43m95\u001b[39;49m\u001b[38;5;124;43m%\u001b[39;49m\u001b[38;5;124;43m Confidence Intervals\u001b[39;49m\u001b[38;5;124;43m'\u001b[39;49m\u001b[43m)\u001b[49m\n\u001b[1;32m      4\u001b[0m plt\u001b[38;5;241m.\u001b[39mlegend()\n\u001b[1;32m      5\u001b[0m plt\u001b[38;5;241m.\u001b[39mshow()\n",
      "File \u001b[0;32m~/opt/anaconda3/lib/python3.9/site-packages/matplotlib/pyplot.py:2543\u001b[0m, in \u001b[0;36mfill_between\u001b[0;34m(x, y1, y2, where, interpolate, step, data, **kwargs)\u001b[0m\n\u001b[1;32m   2539\u001b[0m \u001b[38;5;129m@_copy_docstring_and_deprecators\u001b[39m(Axes\u001b[38;5;241m.\u001b[39mfill_between)\n\u001b[1;32m   2540\u001b[0m \u001b[38;5;28;01mdef\u001b[39;00m \u001b[38;5;21mfill_between\u001b[39m(\n\u001b[1;32m   2541\u001b[0m         x, y1, y2\u001b[38;5;241m=\u001b[39m\u001b[38;5;241m0\u001b[39m, where\u001b[38;5;241m=\u001b[39m\u001b[38;5;28;01mNone\u001b[39;00m, interpolate\u001b[38;5;241m=\u001b[39m\u001b[38;5;28;01mFalse\u001b[39;00m, step\u001b[38;5;241m=\u001b[39m\u001b[38;5;28;01mNone\u001b[39;00m, \u001b[38;5;241m*\u001b[39m,\n\u001b[1;32m   2542\u001b[0m         data\u001b[38;5;241m=\u001b[39m\u001b[38;5;28;01mNone\u001b[39;00m, \u001b[38;5;241m*\u001b[39m\u001b[38;5;241m*\u001b[39mkwargs):\n\u001b[0;32m-> 2543\u001b[0m     \u001b[38;5;28;01mreturn\u001b[39;00m \u001b[43mgca\u001b[49m\u001b[43m(\u001b[49m\u001b[43m)\u001b[49m\u001b[38;5;241;43m.\u001b[39;49m\u001b[43mfill_between\u001b[49m\u001b[43m(\u001b[49m\n\u001b[1;32m   2544\u001b[0m \u001b[43m        \u001b[49m\u001b[43mx\u001b[49m\u001b[43m,\u001b[49m\u001b[43m \u001b[49m\u001b[43my1\u001b[49m\u001b[43m,\u001b[49m\u001b[43m \u001b[49m\u001b[43my2\u001b[49m\u001b[38;5;241;43m=\u001b[39;49m\u001b[43my2\u001b[49m\u001b[43m,\u001b[49m\u001b[43m \u001b[49m\u001b[43mwhere\u001b[49m\u001b[38;5;241;43m=\u001b[39;49m\u001b[43mwhere\u001b[49m\u001b[43m,\u001b[49m\u001b[43m \u001b[49m\u001b[43minterpolate\u001b[49m\u001b[38;5;241;43m=\u001b[39;49m\u001b[43minterpolate\u001b[49m\u001b[43m,\u001b[49m\u001b[43m \u001b[49m\u001b[43mstep\u001b[49m\u001b[38;5;241;43m=\u001b[39;49m\u001b[43mstep\u001b[49m\u001b[43m,\u001b[49m\n\u001b[1;32m   2545\u001b[0m \u001b[43m        \u001b[49m\u001b[38;5;241;43m*\u001b[39;49m\u001b[38;5;241;43m*\u001b[39;49m\u001b[43m(\u001b[49m\u001b[43m{\u001b[49m\u001b[38;5;124;43m\"\u001b[39;49m\u001b[38;5;124;43mdata\u001b[39;49m\u001b[38;5;124;43m\"\u001b[39;49m\u001b[43m:\u001b[49m\u001b[43m \u001b[49m\u001b[43mdata\u001b[49m\u001b[43m}\u001b[49m\u001b[43m \u001b[49m\u001b[38;5;28;43;01mif\u001b[39;49;00m\u001b[43m \u001b[49m\u001b[43mdata\u001b[49m\u001b[43m \u001b[49m\u001b[38;5;129;43;01mis\u001b[39;49;00m\u001b[43m \u001b[49m\u001b[38;5;129;43;01mnot\u001b[39;49;00m\u001b[43m \u001b[49m\u001b[38;5;28;43;01mNone\u001b[39;49;00m\u001b[43m \u001b[49m\u001b[38;5;28;43;01melse\u001b[39;49;00m\u001b[43m \u001b[49m\u001b[43m{\u001b[49m\u001b[43m}\u001b[49m\u001b[43m)\u001b[49m\u001b[43m,\u001b[49m\u001b[43m \u001b[49m\u001b[38;5;241;43m*\u001b[39;49m\u001b[38;5;241;43m*\u001b[39;49m\u001b[43mkwargs\u001b[49m\u001b[43m)\u001b[49m\n",
      "File \u001b[0;32m~/opt/anaconda3/lib/python3.9/site-packages/matplotlib/__init__.py:1412\u001b[0m, in \u001b[0;36m_preprocess_data.<locals>.inner\u001b[0;34m(ax, data, *args, **kwargs)\u001b[0m\n\u001b[1;32m   1409\u001b[0m \u001b[38;5;129m@functools\u001b[39m\u001b[38;5;241m.\u001b[39mwraps(func)\n\u001b[1;32m   1410\u001b[0m \u001b[38;5;28;01mdef\u001b[39;00m \u001b[38;5;21minner\u001b[39m(ax, \u001b[38;5;241m*\u001b[39margs, data\u001b[38;5;241m=\u001b[39m\u001b[38;5;28;01mNone\u001b[39;00m, \u001b[38;5;241m*\u001b[39m\u001b[38;5;241m*\u001b[39mkwargs):\n\u001b[1;32m   1411\u001b[0m     \u001b[38;5;28;01mif\u001b[39;00m data \u001b[38;5;129;01mis\u001b[39;00m \u001b[38;5;28;01mNone\u001b[39;00m:\n\u001b[0;32m-> 1412\u001b[0m         \u001b[38;5;28;01mreturn\u001b[39;00m \u001b[43mfunc\u001b[49m\u001b[43m(\u001b[49m\u001b[43max\u001b[49m\u001b[43m,\u001b[49m\u001b[43m \u001b[49m\u001b[38;5;241;43m*\u001b[39;49m\u001b[38;5;28;43mmap\u001b[39;49m\u001b[43m(\u001b[49m\u001b[43msanitize_sequence\u001b[49m\u001b[43m,\u001b[49m\u001b[43m \u001b[49m\u001b[43margs\u001b[49m\u001b[43m)\u001b[49m\u001b[43m,\u001b[49m\u001b[43m \u001b[49m\u001b[38;5;241;43m*\u001b[39;49m\u001b[38;5;241;43m*\u001b[39;49m\u001b[43mkwargs\u001b[49m\u001b[43m)\u001b[49m\n\u001b[1;32m   1414\u001b[0m     bound \u001b[38;5;241m=\u001b[39m new_sig\u001b[38;5;241m.\u001b[39mbind(ax, \u001b[38;5;241m*\u001b[39margs, \u001b[38;5;241m*\u001b[39m\u001b[38;5;241m*\u001b[39mkwargs)\n\u001b[1;32m   1415\u001b[0m     auto_label \u001b[38;5;241m=\u001b[39m (bound\u001b[38;5;241m.\u001b[39marguments\u001b[38;5;241m.\u001b[39mget(label_namer)\n\u001b[1;32m   1416\u001b[0m                   \u001b[38;5;129;01mor\u001b[39;00m bound\u001b[38;5;241m.\u001b[39mkwargs\u001b[38;5;241m.\u001b[39mget(label_namer))\n",
      "File \u001b[0;32m~/opt/anaconda3/lib/python3.9/site-packages/matplotlib/axes/_axes.py:5252\u001b[0m, in \u001b[0;36mAxes.fill_between\u001b[0;34m(self, x, y1, y2, where, interpolate, step, **kwargs)\u001b[0m\n\u001b[1;32m   5250\u001b[0m \u001b[38;5;28;01mdef\u001b[39;00m \u001b[38;5;21mfill_between\u001b[39m(\u001b[38;5;28mself\u001b[39m, x, y1, y2\u001b[38;5;241m=\u001b[39m\u001b[38;5;241m0\u001b[39m, where\u001b[38;5;241m=\u001b[39m\u001b[38;5;28;01mNone\u001b[39;00m, interpolate\u001b[38;5;241m=\u001b[39m\u001b[38;5;28;01mFalse\u001b[39;00m,\n\u001b[1;32m   5251\u001b[0m                  step\u001b[38;5;241m=\u001b[39m\u001b[38;5;28;01mNone\u001b[39;00m, \u001b[38;5;241m*\u001b[39m\u001b[38;5;241m*\u001b[39mkwargs):\n\u001b[0;32m-> 5252\u001b[0m     \u001b[38;5;28;01mreturn\u001b[39;00m \u001b[38;5;28;43mself\u001b[39;49m\u001b[38;5;241;43m.\u001b[39;49m\u001b[43m_fill_between_x_or_y\u001b[49m\u001b[43m(\u001b[49m\n\u001b[1;32m   5253\u001b[0m \u001b[43m        \u001b[49m\u001b[38;5;124;43m\"\u001b[39;49m\u001b[38;5;124;43mx\u001b[39;49m\u001b[38;5;124;43m\"\u001b[39;49m\u001b[43m,\u001b[49m\u001b[43m \u001b[49m\u001b[43mx\u001b[49m\u001b[43m,\u001b[49m\u001b[43m \u001b[49m\u001b[43my1\u001b[49m\u001b[43m,\u001b[49m\u001b[43m \u001b[49m\u001b[43my2\u001b[49m\u001b[43m,\u001b[49m\n\u001b[1;32m   5254\u001b[0m \u001b[43m        \u001b[49m\u001b[43mwhere\u001b[49m\u001b[38;5;241;43m=\u001b[39;49m\u001b[43mwhere\u001b[49m\u001b[43m,\u001b[49m\u001b[43m \u001b[49m\u001b[43minterpolate\u001b[49m\u001b[38;5;241;43m=\u001b[39;49m\u001b[43minterpolate\u001b[49m\u001b[43m,\u001b[49m\u001b[43m \u001b[49m\u001b[43mstep\u001b[49m\u001b[38;5;241;43m=\u001b[39;49m\u001b[43mstep\u001b[49m\u001b[43m,\u001b[49m\u001b[43m \u001b[49m\u001b[38;5;241;43m*\u001b[39;49m\u001b[38;5;241;43m*\u001b[39;49m\u001b[43mkwargs\u001b[49m\u001b[43m)\u001b[49m\n",
      "File \u001b[0;32m~/opt/anaconda3/lib/python3.9/site-packages/matplotlib/axes/_axes.py:5164\u001b[0m, in \u001b[0;36mAxes._fill_between_x_or_y\u001b[0;34m(self, ind_dir, ind, dep1, dep2, where, interpolate, step, **kwargs)\u001b[0m\n\u001b[1;32m   5161\u001b[0m \u001b[38;5;28;01mfor\u001b[39;00m name, array \u001b[38;5;129;01min\u001b[39;00m [\n\u001b[1;32m   5162\u001b[0m         (ind_dir, ind), (\u001b[38;5;124mf\u001b[39m\u001b[38;5;124m\"\u001b[39m\u001b[38;5;132;01m{\u001b[39;00mdep_dir\u001b[38;5;132;01m}\u001b[39;00m\u001b[38;5;124m1\u001b[39m\u001b[38;5;124m\"\u001b[39m, dep1), (\u001b[38;5;124mf\u001b[39m\u001b[38;5;124m\"\u001b[39m\u001b[38;5;132;01m{\u001b[39;00mdep_dir\u001b[38;5;132;01m}\u001b[39;00m\u001b[38;5;124m2\u001b[39m\u001b[38;5;124m\"\u001b[39m, dep2)]:\n\u001b[1;32m   5163\u001b[0m     \u001b[38;5;28;01mif\u001b[39;00m array\u001b[38;5;241m.\u001b[39mndim \u001b[38;5;241m>\u001b[39m \u001b[38;5;241m1\u001b[39m:\n\u001b[0;32m-> 5164\u001b[0m         \u001b[38;5;28;01mraise\u001b[39;00m \u001b[38;5;167;01mValueError\u001b[39;00m(\u001b[38;5;124mf\u001b[39m\u001b[38;5;124m\"\u001b[39m\u001b[38;5;132;01m{\u001b[39;00mname\u001b[38;5;132;01m!r}\u001b[39;00m\u001b[38;5;124m is not 1-dimensional\u001b[39m\u001b[38;5;124m\"\u001b[39m)\n\u001b[1;32m   5166\u001b[0m \u001b[38;5;28;01mif\u001b[39;00m where \u001b[38;5;129;01mis\u001b[39;00m \u001b[38;5;28;01mNone\u001b[39;00m:\n\u001b[1;32m   5167\u001b[0m     where \u001b[38;5;241m=\u001b[39m \u001b[38;5;28;01mTrue\u001b[39;00m\n",
      "\u001b[0;31mValueError\u001b[0m: 'x' is not 1-dimensional"
     ]
    },
    {
     "data": {
      "image/png": "[encoded data removed]",
      "text/plain": [
       "<Figure size 432x288 with 1 Axes>"
      ]
     },
     "metadata": {
      "needs_background": "light"
     },
     "output_type": "display_data"
    }
   ],
   "source": [
    "# Plot the predicted values and confidence bounds\n",
    "plt.plot(preweek_arr, predicted_avg, color='red', label='Predicted values')\n",
    "plt.fill_between(preweek_arr, lower_bound, upper_bound, alpha=0.2, color='blue', label='95% Confidence Intervals')\n",
    "plt.legend()\n",
    "plt.show()"
   ]
  },
  {
   "cell_type": "code",
   "execution_count": 99,
   "id": "dc6cd0c8",
   "metadata": {},
   "outputs": [
    {
     "data": {
      "image/png": "[encoded data removed]",
      "text/plain": [
       "<Figure size 432x288 with 1 Axes>"
      ]
     },
     "metadata": {
      "needs_background": "light"
     },
     "output_type": "display_data"
    }
   ],
   "source": [
    "# Flatten the preweek_arr array\n",
    "preweek_arr = preweek_arr.ravel()\n",
    "\n",
    "# Calculate the upper and lower confidence bounds for the predicted values\n",
    "lower_bound = predicted_avg - 1.96 * residual_std\n",
    "upper_bound = predicted_avg + 1.96 * residual_std\n",
    "\n",
    "# Plot the predicted values and confidence bounds\n",
    "plt.plot(preweek_arr, predicted_avg, color='red', label='Predicted values')\n",
    "plt.fill_between(preweek_arr, lower_bound, upper_bound, alpha=0.2, color='blue', label='95% Confidence Intervals')\n",
    "plt.legend()\n",
    "plt.show()"
   ]
  }
 ],
 "metadata": {
  "kernelspec": {
   "display_name": "Python 3 (ipykernel)",
   "language": "python",
   "name": "python3"
  },
  "language_info": {
   "codemirror_mode": {
    "name": "ipython",
    "version": 3
   },
   "file_extension": ".py",
   "mimetype": "text/x-python",
   "name": "python",
   "nbconvert_exporter": "python",
   "pygments_lexer": "ipython3",
   "version": "3.9.12"
  }
 },
 "nbformat": 4,
 "nbformat_minor": 5
}
