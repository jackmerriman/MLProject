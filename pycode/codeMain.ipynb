{
 "cells": [
  {
   "cell_type": "code",
   "execution_count": 1,
   "id": "db4fd28b",
   "metadata": {},
   "outputs": [
    {
     "name": "stdout",
     "output_type": "stream",
     "text": [
      "This is for code used in the main analysis\n"
     ]
    }
   ],
   "source": [
    "print('This is for code used in the main analysis')"
   ]
  },
  {
   "cell_type": "code",
   "execution_count": 2,
   "id": "403dbefb",
   "metadata": {},
   "outputs": [],
   "source": [
    "#libraries\n",
    "import os\n",
    "import numpy as np\n",
    "import pandas as pd\n",
    "import matplotlib.pyplot as plt\n",
    "import seaborn as sns\n",
    "from sklearn.neural_network import MLPClassifier\n",
    "from sklearn.neighbors import KNeighborsClassifier\n",
    "from sklearn.svm import SVC\n",
    "from sklearn.gaussian_process import GaussianProcessClassifier\n",
    "from sklearn.gaussian_process.kernels import RBF\n",
    "from sklearn.tree import DecisionTreeClassifier\n",
    "from sklearn.ensemble import RandomForestClassifier, AdaBoostClassifier\n",
    "from sklearn.naive_bayes import GaussianNB\n",
    "from sklearn.metrics import plot_confusion_matrix\n",
    "from sklearn.model_selection import cross_val_score\n",
    "from sklearn.model_selection import train_test_split\n",
    "from sklearn.linear_model import LinearRegression\n",
    "\n",
    "# Kmeans libraries\n",
    "from sklearn.cluster import KMeans\n",
    "from sklearn.preprocessing import StandardScaler\n",
    "from scipy.spatial.distance import cdist\n",
    "\n",
    "import cartopy.crs as ccrs\n",
    "import cartopy.feature as cfeature\n",
    "import cartopy.mpl as cmpl\n",
    "import matplotlib.patches as mpatches"
   ]
  },
  {
   "cell_type": "code",
   "execution_count": 3,
   "id": "e6528b90",
   "metadata": {},
   "outputs": [],
   "source": [
    "os.chdir(\"..\")"
   ]
  },
  {
   "cell_type": "code",
   "execution_count": 6,
   "id": "9144e0c7",
   "metadata": {},
   "outputs": [
    {
     "name": "stdout",
     "output_type": "stream",
     "text": [
      "[[53.35604136 -6.27203773]\n",
      " [53.34108627 -6.24685977]\n",
      " [53.34365711 -6.29759778]]\n"
     ]
    },
    {
     "data": {
      "text/plain": [
       "<AxesSubplot:title={'center':'Coordinates of Dublin Bikes stations with 40 stands'}, xlabel='LATITUDE', ylabel='LONGITUDE'>"
      ]
     },
     "execution_count": 6,
     "metadata": {},
     "output_type": "execute_result"
    },
    {
     "data": {
      "image/png": "[encoded data removed]",
      "text/plain": [
       "<Figure size 432x288 with 1 Axes>"
      ]
     },
     "metadata": {
      "needs_background": "light"
     },
     "output_type": "display_data"
    }
   ],
   "source": [
    "# Choose stations using K-means clustering \n",
    "\n",
    "# Import station coordinates (pre-wrangled in R)\n",
    "df = pd.read_csv(\"data/stations.csv\")\n",
    "\n",
    "# Filter the dataframe to include only bike stands = 40\n",
    "df = df[df['BIKE.STANDS'] == 40]\n",
    "\n",
    "# Create a subset of the dataset containing only the latitude and longitude columns\n",
    "X = df[['LATITUDE', 'LONGITUDE']]\n",
    "\n",
    "# Standardize the data\n",
    "scaler = StandardScaler()\n",
    "X_std = scaler.fit_transform(X)\n",
    "\n",
    "# Apply k-means clustering with k=3\n",
    "kmeans = KMeans(n_clusters=3, random_state=42).fit(X_std)\n",
    "\n",
    "# Add the cluster labels to the dataframe\n",
    "df['CLUSTER'] = kmeans.labels_\n",
    "\n",
    "# Print the centroids of each cluster\n",
    "centroids = scaler.inverse_transform(kmeans.cluster_centers_)\n",
    "print(centroids)\n",
    "\n",
    "# Create a scatter plot of the data points colored by cluster\n",
    "proj = ccrs.Mercator()\n",
    "fig, ax = plt.subplots(figsize=(10, 10), subplot_kw=dict(projection=proj))\n",
    "ax.add_feature(cfeature.LAND)\n",
    "ax.add_feature(cfeature.OCEAN)\n",
    "ax.add_feature(cfeature.COASTLINE)\n",
    "ax.add_feature(cfeature.STATES)\n",
    "x0, y0 = -6.27203773, 53.35604136\n",
    "ax.plot(x0, y0, 'ro', transform=ccrs.PlateCarree())\n",
    "x1, y1 = -6.24685977, 53.34108627\n",
    "ax.plot(x1, y1, 'ro', transform=ccrs.PlateCarree())\n",
    "x2, y2 = -6.29759778, 53.34365711\n",
    "ax.plot(x2, y2, 'ro', transform=ccrs.PlateCarree())\n",
    "colours = {0:'green', 1:'purple', 2:'orange'}\n",
    "ax.scatter(df['LONGITUDE'], df['LATITUDE'], c = df['CLUSTER'].map(colours),transform=ccrs.PlateCarree())\n",
    "ax.set_extent([-6.325, -6.2, 53.32, 53.365], crs=ccrs.PlateCarree())\n",
    "ax.set_title('Dublin City Bike Stations with 40 stands')\n",
    "ax.gridlines(draw_labels=True)\n",
    "ax.legend(loc='lower right', frameon=True, title='Clusters')\n",
    "patches = [mpatches.Patch(color=color, label=f'Cluster {cluster}')\n",
    "           for cluster, color in colours.items()]\n",
    "ax.legend(handles=patches, loc='lower right', frameon=True, title='Clusters')\n",
    "\n"
   ]
  },
  {
   "cell_type": "code",
   "execution_count": 4,
   "id": "8add4312",
   "metadata": {},
   "outputs": [
    {
     "name": "stdout",
     "output_type": "stream",
     "text": [
      "[LATITUDE     53.356308\n",
      "LONGITUDE    -6.273717\n",
      "Name: 107, dtype: float64, LATITUDE     53.338615\n",
      "LONGITUDE    -6.248606\n",
      "Name: 111, dtype: float64, LATITUDE     53.343899\n",
      "LONGITUDE    -6.297060\n",
      "Name: 93, dtype: float64]\n"
     ]
    }
   ],
   "source": [
    "# Find the nearest point to each cluster\n",
    "distances = cdist(X, centroids, 'euclidean')\n",
    "nearest_centroid_indices = np.argpartition(distances, kth=range(3))[:, :3]\n",
    "\n",
    "# Get the nearest point to each cluster\n",
    "nearest_points = []\n",
    "for i in range(kmeans.n_clusters):\n",
    "    cluster_indices = np.where(kmeans.labels_ == i)[0]\n",
    "    nearest_point_index = np.argmin(distances[cluster_indices, i])\n",
    "    nearest_point = X.iloc[cluster_indices[nearest_point_index]]\n",
    "    nearest_points.append(nearest_point)\n",
    "\n",
    "# Print the nearest point to each cluster\n",
    "print(nearest_points)"
   ]
  },
  {
   "cell_type": "markdown",
   "id": "1d9979e8",
   "metadata": {},
   "source": [
    "Consulting the indices for the above coordinates shows that geographically well-distributed stations are: \n",
    "1. Phibsborough Road\n",
    "2. Merrion Square South \n",
    "3. Royal Hospital"
   ]
  },
  {
   "cell_type": "code",
   "execution_count": 5,
   "id": "d06da334",
   "metadata": {
    "scrolled": true
   },
   "outputs": [
    {
     "data": {
      "text/html": [
       "<div>\n",
       "<style scoped>\n",
       "    .dataframe tbody tr th:only-of-type {\n",
       "        vertical-align: middle;\n",
       "    }\n",
       "\n",
       "    .dataframe tbody tr th {\n",
       "        vertical-align: top;\n",
       "    }\n",
       "\n",
       "    .dataframe thead th {\n",
       "        text-align: right;\n",
       "    }\n",
       "</style>\n",
       "<table border=\"1\" class=\"dataframe\">\n",
       "  <thead>\n",
       "    <tr style=\"text-align: right;\">\n",
       "      <th></th>\n",
       "      <th>Unnamed: 0</th>\n",
       "      <th>TIME</th>\n",
       "      <th>NAME</th>\n",
       "      <th>BIKE.STANDS</th>\n",
       "      <th>AVAILABLE.BIKE.STANDS</th>\n",
       "      <th>AVAILABLE.BIKES</th>\n",
       "      <th>STATUS</th>\n",
       "    </tr>\n",
       "  </thead>\n",
       "  <tbody>\n",
       "    <tr>\n",
       "      <th>0</th>\n",
       "      <td>1</td>\n",
       "      <td>2018-08-01 12:30:02</td>\n",
       "      <td>ROYAL HOSPITAL</td>\n",
       "      <td>40</td>\n",
       "      <td>40</td>\n",
       "      <td>0</td>\n",
       "      <td>Open</td>\n",
       "    </tr>\n",
       "    <tr>\n",
       "      <th>1</th>\n",
       "      <td>2</td>\n",
       "      <td>2018-08-01 12:35:02</td>\n",
       "      <td>ROYAL HOSPITAL</td>\n",
       "      <td>40</td>\n",
       "      <td>40</td>\n",
       "      <td>0</td>\n",
       "      <td>Open</td>\n",
       "    </tr>\n",
       "    <tr>\n",
       "      <th>2</th>\n",
       "      <td>3</td>\n",
       "      <td>2018-08-01 12:40:02</td>\n",
       "      <td>ROYAL HOSPITAL</td>\n",
       "      <td>40</td>\n",
       "      <td>40</td>\n",
       "      <td>0</td>\n",
       "      <td>Open</td>\n",
       "    </tr>\n",
       "    <tr>\n",
       "      <th>3</th>\n",
       "      <td>4</td>\n",
       "      <td>2018-08-01 12:45:02</td>\n",
       "      <td>ROYAL HOSPITAL</td>\n",
       "      <td>40</td>\n",
       "      <td>40</td>\n",
       "      <td>0</td>\n",
       "      <td>Open</td>\n",
       "    </tr>\n",
       "    <tr>\n",
       "      <th>4</th>\n",
       "      <td>5</td>\n",
       "      <td>2018-08-01 12:50:02</td>\n",
       "      <td>ROYAL HOSPITAL</td>\n",
       "      <td>40</td>\n",
       "      <td>40</td>\n",
       "      <td>0</td>\n",
       "      <td>Open</td>\n",
       "    </tr>\n",
       "  </tbody>\n",
       "</table>\n",
       "</div>"
      ],
      "text/plain": [
       "   Unnamed: 0                 TIME            NAME  BIKE.STANDS  \\\n",
       "0           1  2018-08-01 12:30:02  ROYAL HOSPITAL           40   \n",
       "1           2  2018-08-01 12:35:02  ROYAL HOSPITAL           40   \n",
       "2           3  2018-08-01 12:40:02  ROYAL HOSPITAL           40   \n",
       "3           4  2018-08-01 12:45:02  ROYAL HOSPITAL           40   \n",
       "4           5  2018-08-01 12:50:02  ROYAL HOSPITAL           40   \n",
       "\n",
       "   AVAILABLE.BIKE.STANDS  AVAILABLE.BIKES STATUS  \n",
       "0                     40                0   Open  \n",
       "1                     40                0   Open  \n",
       "2                     40                0   Open  \n",
       "3                     40                0   Open  \n",
       "4                     40                0   Open  "
      ]
     },
     "execution_count": 5,
     "metadata": {},
     "output_type": "execute_result"
    }
   ],
   "source": [
    "#import data\n",
    "data = pd.read_csv(\"data/bikedata.csv\")\n",
    "data.head()"
   ]
  },
  {
   "cell_type": "code",
   "execution_count": 6,
   "id": "85f28ec6",
   "metadata": {
    "scrolled": true
   },
   "outputs": [
    {
     "data": {
      "text/html": [
       "<div>\n",
       "<style scoped>\n",
       "    .dataframe tbody tr th:only-of-type {\n",
       "        vertical-align: middle;\n",
       "    }\n",
       "\n",
       "    .dataframe tbody tr th {\n",
       "        vertical-align: top;\n",
       "    }\n",
       "\n",
       "    .dataframe thead th {\n",
       "        text-align: right;\n",
       "    }\n",
       "</style>\n",
       "<table border=\"1\" class=\"dataframe\">\n",
       "  <thead>\n",
       "    <tr style=\"text-align: right;\">\n",
       "      <th></th>\n",
       "      <th>Unnamed: 0</th>\n",
       "      <th>TIME</th>\n",
       "      <th>NAME</th>\n",
       "      <th>BIKE.STANDS</th>\n",
       "      <th>AVAILABLE.BIKE.STANDS</th>\n",
       "      <th>AVAILABLE.BIKES</th>\n",
       "      <th>STATUS</th>\n",
       "      <th>DATE</th>\n",
       "      <th>BIKE.USAGE</th>\n",
       "    </tr>\n",
       "  </thead>\n",
       "  <tbody>\n",
       "    <tr>\n",
       "      <th>0</th>\n",
       "      <td>1</td>\n",
       "      <td>2018-08-01 12:30:02</td>\n",
       "      <td>ROYAL HOSPITAL</td>\n",
       "      <td>40</td>\n",
       "      <td>40</td>\n",
       "      <td>0</td>\n",
       "      <td>Open</td>\n",
       "      <td>2018-08-01</td>\n",
       "      <td>1.0</td>\n",
       "    </tr>\n",
       "    <tr>\n",
       "      <th>1</th>\n",
       "      <td>2</td>\n",
       "      <td>2018-08-01 12:35:02</td>\n",
       "      <td>ROYAL HOSPITAL</td>\n",
       "      <td>40</td>\n",
       "      <td>40</td>\n",
       "      <td>0</td>\n",
       "      <td>Open</td>\n",
       "      <td>2018-08-01</td>\n",
       "      <td>1.0</td>\n",
       "    </tr>\n",
       "    <tr>\n",
       "      <th>2</th>\n",
       "      <td>3</td>\n",
       "      <td>2018-08-01 12:40:02</td>\n",
       "      <td>ROYAL HOSPITAL</td>\n",
       "      <td>40</td>\n",
       "      <td>40</td>\n",
       "      <td>0</td>\n",
       "      <td>Open</td>\n",
       "      <td>2018-08-01</td>\n",
       "      <td>1.0</td>\n",
       "    </tr>\n",
       "    <tr>\n",
       "      <th>3</th>\n",
       "      <td>4</td>\n",
       "      <td>2018-08-01 12:45:02</td>\n",
       "      <td>ROYAL HOSPITAL</td>\n",
       "      <td>40</td>\n",
       "      <td>40</td>\n",
       "      <td>0</td>\n",
       "      <td>Open</td>\n",
       "      <td>2018-08-01</td>\n",
       "      <td>1.0</td>\n",
       "    </tr>\n",
       "    <tr>\n",
       "      <th>4</th>\n",
       "      <td>5</td>\n",
       "      <td>2018-08-01 12:50:02</td>\n",
       "      <td>ROYAL HOSPITAL</td>\n",
       "      <td>40</td>\n",
       "      <td>40</td>\n",
       "      <td>0</td>\n",
       "      <td>Open</td>\n",
       "      <td>2018-08-01</td>\n",
       "      <td>1.0</td>\n",
       "    </tr>\n",
       "  </tbody>\n",
       "</table>\n",
       "</div>"
      ],
      "text/plain": [
       "   Unnamed: 0                TIME            NAME  BIKE.STANDS  \\\n",
       "0           1 2018-08-01 12:30:02  ROYAL HOSPITAL           40   \n",
       "1           2 2018-08-01 12:35:02  ROYAL HOSPITAL           40   \n",
       "2           3 2018-08-01 12:40:02  ROYAL HOSPITAL           40   \n",
       "3           4 2018-08-01 12:45:02  ROYAL HOSPITAL           40   \n",
       "4           5 2018-08-01 12:50:02  ROYAL HOSPITAL           40   \n",
       "\n",
       "   AVAILABLE.BIKE.STANDS  AVAILABLE.BIKES STATUS       DATE  BIKE.USAGE  \n",
       "0                     40                0   Open 2018-08-01         1.0  \n",
       "1                     40                0   Open 2018-08-01         1.0  \n",
       "2                     40                0   Open 2018-08-01         1.0  \n",
       "3                     40                0   Open 2018-08-01         1.0  \n",
       "4                     40                0   Open 2018-08-01         1.0  "
      ]
     },
     "execution_count": 6,
     "metadata": {},
     "output_type": "execute_result"
    }
   ],
   "source": [
    "#Parse dates and times\n",
    "data.TIME = pd.to_datetime(data.TIME, format = \"%Y-%m-%d %H:%M:%S\")\n",
    "data[\"DATE\"] = pd.DatetimeIndex(data.TIME.dt.date)\n",
    "data.head()\n",
    "#Calculate bike usage\n",
    "data[\"BIKE.USAGE\"] = data[\"AVAILABLE.BIKE.STANDS\"]/data[\"BIKE.STANDS\"]\n",
    "data.head()"
   ]
  },
  {
   "cell_type": "code",
   "execution_count": 7,
   "id": "90a128c3",
   "metadata": {},
   "outputs": [],
   "source": [
    "#create masks\n",
    "dataPR = data[data.NAME == \"PHIBSBOROUGH ROAD\"]\n",
    "dataMS = data[data.NAME == \"MERRION SQUARE SOUTH\"]\n",
    "dataRH = data[data.NAME == \"ROYAL HOSPITAL\"]\n",
    "\n",
    "#Calculate weekly average usage\n",
    "PR_weekly_avg = dataPR.groupby(pd.Grouper(key='DATE', freq='W'))['BIKE.USAGE'].mean()\n",
    "PR_date_vector = pd.DatetimeIndex(dataPR[\"DATE\"].dt.date)\n",
    "\n",
    "MS_weekly_avg = dataMS.groupby(pd.Grouper(key='DATE', freq='W'))['BIKE.USAGE'].mean()\n",
    "MS_date_vector = pd.DatetimeIndex(dataMS[\"DATE\"].dt.date)\n",
    "\n",
    "RH_weekly_avg = dataRH.groupby(pd.Grouper(key='DATE', freq='W'))['BIKE.USAGE'].mean()\n",
    "RH_date_vector = pd.DatetimeIndex(dataRH[\"DATE\"].dt.date)"
   ]
  }
 ],
 "metadata": {
  "kernelspec": {
   "display_name": "Python 3 (ipykernel)",
   "language": "python",
   "name": "python3"
  },
  "language_info": {
   "codemirror_mode": {
    "name": "ipython",
    "version": 3
   },
   "file_extension": ".py",
   "mimetype": "text/x-python",
   "name": "python",
   "nbconvert_exporter": "python",
   "pygments_lexer": "ipython3",
   "version": "3.9.12"
  }
 },
 "nbformat": 4,
 "nbformat_minor": 5
}
