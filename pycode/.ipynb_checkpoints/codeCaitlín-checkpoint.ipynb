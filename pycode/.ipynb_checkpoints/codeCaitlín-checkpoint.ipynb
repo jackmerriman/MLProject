{
 "cells": [
  {
   "cell_type": "code",
   "execution_count": 1,
   "id": "a8370eb2",
   "metadata": {},
   "outputs": [
    {
     "name": "stdout",
     "output_type": "stream",
     "text": [
      "This is for Caitlín's rough code\n"
     ]
    }
   ],
   "source": [
    "print(\"This is for Caitlín's rough code\")"
   ]
  },
  {
   "cell_type": "code",
   "execution_count": 2,
   "id": "efeb82c2",
   "metadata": {},
   "outputs": [],
   "source": [
    "#libraries\n",
    "import os\n",
    "import numpy as np\n",
    "import pandas as pd\n",
    "import matplotlib.pyplot as plt\n",
    "import seaborn as sns\n",
    "from sklearn.neural_network import MLPClassifier\n",
    "from sklearn.neighbors import KNeighborsClassifier\n",
    "from sklearn.svm import SVC\n",
    "from sklearn.gaussian_process import GaussianProcessClassifier\n",
    "from sklearn.gaussian_process.kernels import RBF\n",
    "from sklearn.tree import DecisionTreeClassifier\n",
    "from sklearn.ensemble import RandomForestClassifier, AdaBoostClassifier\n",
    "from sklearn.naive_bayes import GaussianNB\n",
    "from sklearn.metrics import plot_confusion_matrix\n",
    "from sklearn.model_selection import cross_val_score"
   ]
  },
  {
   "cell_type": "code",
   "execution_count": 3,
   "id": "8dce1e4c",
   "metadata": {},
   "outputs": [
    {
     "data": {
      "text/html": [
       "<div>\n",
       "<style scoped>\n",
       "    .dataframe tbody tr th:only-of-type {\n",
       "        vertical-align: middle;\n",
       "    }\n",
       "\n",
       "    .dataframe tbody tr th {\n",
       "        vertical-align: top;\n",
       "    }\n",
       "\n",
       "    .dataframe thead th {\n",
       "        text-align: right;\n",
       "    }\n",
       "</style>\n",
       "<table border=\"1\" class=\"dataframe\">\n",
       "  <thead>\n",
       "    <tr style=\"text-align: right;\">\n",
       "      <th></th>\n",
       "      <th>Unnamed: 0</th>\n",
       "      <th>TIME</th>\n",
       "      <th>NAME</th>\n",
       "      <th>BIKE.STANDS</th>\n",
       "      <th>AVAILABLE.BIKE.STANDS</th>\n",
       "      <th>AVAILABLE.BIKES</th>\n",
       "      <th>STATUS</th>\n",
       "    </tr>\n",
       "  </thead>\n",
       "  <tbody>\n",
       "    <tr>\n",
       "      <th>0</th>\n",
       "      <td>1</td>\n",
       "      <td>2018-08-01 12:30:02</td>\n",
       "      <td>CHARLEMONT PLACE</td>\n",
       "      <td>40</td>\n",
       "      <td>28</td>\n",
       "      <td>12</td>\n",
       "      <td>Open</td>\n",
       "    </tr>\n",
       "    <tr>\n",
       "      <th>1</th>\n",
       "      <td>2</td>\n",
       "      <td>2018-08-01 12:35:02</td>\n",
       "      <td>CHARLEMONT PLACE</td>\n",
       "      <td>40</td>\n",
       "      <td>28</td>\n",
       "      <td>12</td>\n",
       "      <td>Open</td>\n",
       "    </tr>\n",
       "    <tr>\n",
       "      <th>2</th>\n",
       "      <td>3</td>\n",
       "      <td>2018-08-01 12:40:02</td>\n",
       "      <td>CHARLEMONT PLACE</td>\n",
       "      <td>40</td>\n",
       "      <td>28</td>\n",
       "      <td>12</td>\n",
       "      <td>Open</td>\n",
       "    </tr>\n",
       "    <tr>\n",
       "      <th>3</th>\n",
       "      <td>4</td>\n",
       "      <td>2018-08-01 12:45:02</td>\n",
       "      <td>CHARLEMONT PLACE</td>\n",
       "      <td>40</td>\n",
       "      <td>28</td>\n",
       "      <td>12</td>\n",
       "      <td>Open</td>\n",
       "    </tr>\n",
       "    <tr>\n",
       "      <th>4</th>\n",
       "      <td>5</td>\n",
       "      <td>2018-08-01 12:50:02</td>\n",
       "      <td>CHARLEMONT PLACE</td>\n",
       "      <td>40</td>\n",
       "      <td>28</td>\n",
       "      <td>12</td>\n",
       "      <td>Open</td>\n",
       "    </tr>\n",
       "  </tbody>\n",
       "</table>\n",
       "</div>"
      ],
      "text/plain": [
       "   Unnamed: 0                 TIME              NAME  BIKE.STANDS  \\\n",
       "0           1  2018-08-01 12:30:02  CHARLEMONT PLACE           40   \n",
       "1           2  2018-08-01 12:35:02  CHARLEMONT PLACE           40   \n",
       "2           3  2018-08-01 12:40:02  CHARLEMONT PLACE           40   \n",
       "3           4  2018-08-01 12:45:02  CHARLEMONT PLACE           40   \n",
       "4           5  2018-08-01 12:50:02  CHARLEMONT PLACE           40   \n",
       "\n",
       "   AVAILABLE.BIKE.STANDS  AVAILABLE.BIKES STATUS  \n",
       "0                     28               12   Open  \n",
       "1                     28               12   Open  \n",
       "2                     28               12   Open  \n",
       "3                     28               12   Open  \n",
       "4                     28               12   Open  "
      ]
     },
     "execution_count": 3,
     "metadata": {},
     "output_type": "execute_result"
    }
   ],
   "source": [
    "#import data\n",
    "os.chdir(\"..\")\n",
    "data = pd.read_csv(\"data/bikedata.csv\")\n",
    "data.head()"
   ]
  },
  {
   "cell_type": "code",
   "execution_count": 4,
   "id": "3f7165d4",
   "metadata": {
    "scrolled": true
   },
   "outputs": [
    {
     "data": {
      "text/html": [
       "<div>\n",
       "<style scoped>\n",
       "    .dataframe tbody tr th:only-of-type {\n",
       "        vertical-align: middle;\n",
       "    }\n",
       "\n",
       "    .dataframe tbody tr th {\n",
       "        vertical-align: top;\n",
       "    }\n",
       "\n",
       "    .dataframe thead th {\n",
       "        text-align: right;\n",
       "    }\n",
       "</style>\n",
       "<table border=\"1\" class=\"dataframe\">\n",
       "  <thead>\n",
       "    <tr style=\"text-align: right;\">\n",
       "      <th></th>\n",
       "      <th>Unnamed: 0</th>\n",
       "      <th>TIME</th>\n",
       "      <th>NAME</th>\n",
       "      <th>BIKE.STANDS</th>\n",
       "      <th>AVAILABLE.BIKE.STANDS</th>\n",
       "      <th>AVAILABLE.BIKES</th>\n",
       "      <th>STATUS</th>\n",
       "      <th>BIKE.USAGE</th>\n",
       "    </tr>\n",
       "  </thead>\n",
       "  <tbody>\n",
       "    <tr>\n",
       "      <th>0</th>\n",
       "      <td>1</td>\n",
       "      <td>2018-08-01 12:30:02</td>\n",
       "      <td>CHARLEMONT PLACE</td>\n",
       "      <td>40</td>\n",
       "      <td>28</td>\n",
       "      <td>12</td>\n",
       "      <td>Open</td>\n",
       "      <td>0.7</td>\n",
       "    </tr>\n",
       "    <tr>\n",
       "      <th>1</th>\n",
       "      <td>2</td>\n",
       "      <td>2018-08-01 12:35:02</td>\n",
       "      <td>CHARLEMONT PLACE</td>\n",
       "      <td>40</td>\n",
       "      <td>28</td>\n",
       "      <td>12</td>\n",
       "      <td>Open</td>\n",
       "      <td>0.7</td>\n",
       "    </tr>\n",
       "    <tr>\n",
       "      <th>2</th>\n",
       "      <td>3</td>\n",
       "      <td>2018-08-01 12:40:02</td>\n",
       "      <td>CHARLEMONT PLACE</td>\n",
       "      <td>40</td>\n",
       "      <td>28</td>\n",
       "      <td>12</td>\n",
       "      <td>Open</td>\n",
       "      <td>0.7</td>\n",
       "    </tr>\n",
       "    <tr>\n",
       "      <th>3</th>\n",
       "      <td>4</td>\n",
       "      <td>2018-08-01 12:45:02</td>\n",
       "      <td>CHARLEMONT PLACE</td>\n",
       "      <td>40</td>\n",
       "      <td>28</td>\n",
       "      <td>12</td>\n",
       "      <td>Open</td>\n",
       "      <td>0.7</td>\n",
       "    </tr>\n",
       "    <tr>\n",
       "      <th>4</th>\n",
       "      <td>5</td>\n",
       "      <td>2018-08-01 12:50:02</td>\n",
       "      <td>CHARLEMONT PLACE</td>\n",
       "      <td>40</td>\n",
       "      <td>28</td>\n",
       "      <td>12</td>\n",
       "      <td>Open</td>\n",
       "      <td>0.7</td>\n",
       "    </tr>\n",
       "  </tbody>\n",
       "</table>\n",
       "</div>"
      ],
      "text/plain": [
       "   Unnamed: 0                 TIME              NAME  BIKE.STANDS  \\\n",
       "0           1  2018-08-01 12:30:02  CHARLEMONT PLACE           40   \n",
       "1           2  2018-08-01 12:35:02  CHARLEMONT PLACE           40   \n",
       "2           3  2018-08-01 12:40:02  CHARLEMONT PLACE           40   \n",
       "3           4  2018-08-01 12:45:02  CHARLEMONT PLACE           40   \n",
       "4           5  2018-08-01 12:50:02  CHARLEMONT PLACE           40   \n",
       "\n",
       "   AVAILABLE.BIKE.STANDS  AVAILABLE.BIKES STATUS  BIKE.USAGE  \n",
       "0                     28               12   Open         0.7  \n",
       "1                     28               12   Open         0.7  \n",
       "2                     28               12   Open         0.7  \n",
       "3                     28               12   Open         0.7  \n",
       "4                     28               12   Open         0.7  "
      ]
     },
     "execution_count": 4,
     "metadata": {},
     "output_type": "execute_result"
    }
   ],
   "source": [
    "#Calculate bike usage\n",
    "data[\"BIKE.USAGE\"] = data[\"AVAILABLE.BIKE.STANDS\"]/data[\"BIKE.STANDS\"]\n",
    "data.head()"
   ]
  },
  {
   "cell_type": "code",
   "execution_count": 5,
   "id": "3bfb43bf",
   "metadata": {},
   "outputs": [
    {
     "name": "stdout",
     "output_type": "stream",
     "text": [
      "0         2018-08-01 12:30:02\n",
      "1         2018-08-01 12:35:02\n",
      "2         2018-08-01 12:40:02\n",
      "3         2018-08-01 12:45:02\n",
      "4         2018-08-01 12:50:02\n",
      "                  ...        \n",
      "1029255   2022-01-01 23:35:02\n",
      "1029256   2022-01-01 23:40:02\n",
      "1029257   2022-01-01 23:45:02\n",
      "1029258   2022-01-01 23:50:02\n",
      "1029259   2022-01-01 23:55:02\n",
      "Name: TIME, Length: 1029260, dtype: datetime64[ns]\n"
     ]
    }
   ],
   "source": [
    "bike_dates = pd.to_datetime(data.TIME, format = \"%Y-%m-%d %H:%M:%S\")\n",
    "print(bike_dates)"
   ]
  },
  {
   "cell_type": "code",
   "execution_count": 6,
   "id": "ea2b3635",
   "metadata": {},
   "outputs": [
    {
     "name": "stdout",
     "output_type": "stream",
     "text": [
      "DatetimeIndex(['2018-08-01', '2018-08-01', '2018-08-01', '2018-08-01',\n",
      "               '2018-08-01', '2018-08-01', '2018-08-01', '2018-08-01',\n",
      "               '2018-08-01', '2018-08-01',\n",
      "               ...\n",
      "               '2022-01-01', '2022-01-01', '2022-01-01', '2022-01-01',\n",
      "               '2022-01-01', '2022-01-01', '2022-01-01', '2022-01-01',\n",
      "               '2022-01-01', '2022-01-01'],\n",
      "              dtype='datetime64[ns]', name='TIME', length=1029260, freq=None)\n"
     ]
    }
   ],
   "source": [
    "bike_dates.dt.date\n",
    "date_vector = pd.DatetimeIndex(bike_dates.dt.date)\n",
    "print(date_vector)"
   ]
  },
  {
   "cell_type": "code",
   "execution_count": null,
   "id": "ace327ec",
   "metadata": {},
   "outputs": [],
   "source": [
    "#Parse dates and times\n",
    "data.TIME = pd.to_datetime(data.TIME, format = \"%Y-%m-%d %H:%M:%S\")\n",
    "print(bike_dates)\n",
    "data[\"DATE\"] = pd.DatetimeIndex(data.TIME.dt.date)\n",
    "data.head()\n",
    "#Calculate bike usage\n",
    "data[\"BIKE.USAGE\"] = data[\"AVAILABLE.BIKE.STANDS\"]/data[\"BIKE.STANDS\"]\n",
    "data.head()"
   ]
  },
  {
   "cell_type": "code",
   "execution_count": 10,
   "id": "628b3102",
   "metadata": {},
   "outputs": [],
   "source": [
    "#create masks\n",
    "dataCP = data[data.NAME == \"CHARLEMONT PLACE\"]\n",
    "dataSG = data[data.NAME == \"ST. STEPHEN'S GREEN EAST\"]\n",
    "dataPR = data[data.NAME == \"PHIBSBOROUGH ROAD\"]"
   ]
  },
  {
   "cell_type": "code",
   "execution_count": 11,
   "id": "2212df78",
   "metadata": {},
   "outputs": [
    {
     "data": {
      "text/plain": [
       "<bound method NDFrame.head of          Unnamed: 0                 TIME               NAME  BIKE.STANDS  \\\n",
       "276             277  2018-08-01 12:30:02  PHIBSBOROUGH ROAD           40   \n",
       "277             278  2018-08-01 12:35:02  PHIBSBOROUGH ROAD           40   \n",
       "278             279  2018-08-01 12:40:02  PHIBSBOROUGH ROAD           40   \n",
       "279             280  2018-08-01 12:45:02  PHIBSBOROUGH ROAD           40   \n",
       "280             281  2018-08-01 12:50:02  PHIBSBOROUGH ROAD           40   \n",
       "...             ...                  ...                ...          ...   \n",
       "1029255     1029256  2022-01-01 23:35:02  PHIBSBOROUGH ROAD           40   \n",
       "1029256     1029257  2022-01-01 23:40:02  PHIBSBOROUGH ROAD           40   \n",
       "1029257     1029258  2022-01-01 23:45:02  PHIBSBOROUGH ROAD           40   \n",
       "1029258     1029259  2022-01-01 23:50:02  PHIBSBOROUGH ROAD           40   \n",
       "1029259     1029260  2022-01-01 23:55:02  PHIBSBOROUGH ROAD           40   \n",
       "\n",
       "         AVAILABLE.BIKE.STANDS  AVAILABLE.BIKES STATUS  BIKE.USAGE  \n",
       "276                         40                0   Open         1.0  \n",
       "277                         40                0   Open         1.0  \n",
       "278                         40                0   Open         1.0  \n",
       "279                         40                0   Open         1.0  \n",
       "280                         40                0   Open         1.0  \n",
       "...                        ...              ...    ...         ...  \n",
       "1029255                     16               24   Open         0.4  \n",
       "1029256                     16               24   Open         0.4  \n",
       "1029257                     16               24   Open         0.4  \n",
       "1029258                     16               24   Open         0.4  \n",
       "1029259                     16               24   Open         0.4  \n",
       "\n",
       "[342924 rows x 8 columns]>"
      ]
     },
     "execution_count": 11,
     "metadata": {},
     "output_type": "execute_result"
    }
   ],
   "source": [
    "dataPR.head"
   ]
  },
  {
   "cell_type": "code",
   "execution_count": null,
   "id": "3b7f7bb4",
   "metadata": {},
   "outputs": [],
   "source": []
  },
  {
   "cell_type": "code",
   "execution_count": null,
   "id": "a420427d",
   "metadata": {},
   "outputs": [],
   "source": [
    "print(dataPR.DATE)"
   ]
  },
  {
   "cell_type": "code",
   "execution_count": null,
   "id": "63e0d6cf",
   "metadata": {},
   "outputs": [],
   "source": [
    "PRdate_vector = pd.DatetimeIndex(dataPR.DATE.dt.date)\n",
    "print(PRdate_vector)"
   ]
  },
  {
   "cell_type": "code",
   "execution_count": null,
   "id": "511aebf0",
   "metadata": {
    "scrolled": true
   },
   "outputs": [],
   "source": [
    "# Approach 3\n",
    "idx_day_of_interest = 0;\n",
    "Day_of_interest = PRdate_vector[idx_day_of_interest] # pearse_dates.dt.date.iloc[idx_day_of_interest]\n",
    "Day_index = PRdate_vector == Day_of_interest\n",
    "print(Day_of_interest)\n",
    "\n",
    "dataPR[Day_index].head"
   ]
  },
  {
   "cell_type": "code",
   "execution_count": null,
   "id": "adfc73e0",
   "metadata": {},
   "outputs": [],
   "source": [
    "phibs_day_of_interest = dataPR.DATE[Day_index]\n",
    "time = phibs_day_of_interest.dt.hour\n",
    "stands = dataPR[Day_index]['AVAILABLE.BIKE.STANDS']\n",
    "bikes = dataPR[Day_index]['AVAILABLE.BIKES']\n",
    "bikes"
   ]
  },
  {
   "cell_type": "code",
   "execution_count": null,
   "id": "f905cc02",
   "metadata": {},
   "outputs": [],
   "source": [
    "plt.figure()\n",
    "plt.title(f'Usage of the Phibsborough Road station on the {Day_of_interest}')\n",
    "plt.plot(time, stands,'k')\n",
    "plt.xlabel('Hours of the day')\n",
    "plt.ylabel('Available bike stands')\n",
    "plt.title(f'Usage of the Phibsborough Road station on the {Day_of_interest}')\n",
    "\n",
    "plt.figure()\n",
    "plt.plot(time, bikes,'b')\n",
    "plt.xlabel('Hours of the day')\n",
    "plt.ylabel('Available bikes')\n",
    "plt.show()"
   ]
  },
  {
   "cell_type": "code",
   "execution_count": null,
   "id": "9318dfc8",
   "metadata": {},
   "outputs": [],
   "source": [
    "# Group data by date and calculate mean bike usage\n",
    "usage_by_date = dataPR.groupby('DATE')['BIKE.USAGE'].mean()\n",
    "\n",
    "# Create a line plot\n",
    "plt.plot(usage_by_date.index, usage_by_date.values)\n",
    "\n",
    "# Set plot title and axis labels\n",
    "plt.title('Average Bike Usage for Phibsborough Road')\n",
    "plt.xlabel('Date')\n",
    "plt.ylabel('Bike Usage')\n",
    "\n",
    "# Show the plot\n",
    "plt.show()"
   ]
  },
  {
   "cell_type": "code",
   "execution_count": null,
   "id": "52d7c7aa",
   "metadata": {},
   "outputs": [],
   "source": [
    "CP_daily_avg = dataCP.groupby(pd.Grouper(key='DATE', freq='W'))['BIKE.USAGE'].mean()\n",
    "CP_date_vector = pd.DatetimeIndex(dataCP[\"DATE\"].dt.date)\n",
    "\n",
    "PR_daily_avg = dataPR.groupby(pd.Grouper(key='DATE', freq='W'))['BIKE.USAGE'].mean()\n",
    "PR_date_vector = pd.DatetimeIndex(dataPR[\"DATE\"].dt.date)\n",
    "\n",
    "SG_daily_avg = dataSG.groupby(pd.Grouper(key='DATE', freq='W'))['BIKE.USAGE'].mean()\n",
    "SG_date_vector = pd.DatetimeIndex(dataSG[\"DATE\"].dt.date)"
   ]
  },
  {
   "cell_type": "code",
   "execution_count": null,
   "id": "57fcfb0e",
   "metadata": {},
   "outputs": [],
   "source": [
    "#datavis\n",
    "usageFig, axes = plt.subplots(3, 1, figsize=(20,18))\n",
    "sns.lineplot(ax=axes[0],x = CP_daily_avg.index, y = CP_daily_avg.values)\n",
    "axes[0].set_title('Charlemont Place')\n",
    "sns.lineplot(ax=axes[1],x = PR_daily_avg.index, y = PR_daily_avg.values)\n",
    "axes[1].set_title('Phibsborough Road')\n",
    "sns.lineplot(ax=axes[2],x = SG_daily_avg.index, y = SG_daily_avg.values)\n",
    "axes[2].set_title(\"St. Stephen's Green East\")\n"
   ]
  },
  {
   "cell_type": "code",
   "execution_count": null,
   "id": "85eb3faa",
   "metadata": {},
   "outputs": [],
   "source": [
    "CP_weekly_avg = dataCP.groupby(pd.Grouper(key='DATE', freq='W'))['BIKE.USAGE'].mean()\n",
    "PR_weekly_avg = dataPR.groupby(pd.Grouper(key='DATE', freq='W'))['BIKE.USAGE'].mean()\n",
    "SG_weekly_avg = dataSG.groupby(pd.Grouper(key='DATE', freq='W'))['BIKE.USAGE'].mean()\n"
   ]
  },
  {
   "cell_type": "code",
   "execution_count": null,
   "id": "9df18ddd",
   "metadata": {},
   "outputs": [],
   "source": [
    "usageFig, axes = plt.subplots(3, 1, figsize=(20,18))\n",
    "\n",
    "sns.barplot(ax=axes[0], x=CP_weekly_avg.index, y=CP_weekly_avg.values)\n",
    "axes[0].set_title('Charlemont Place')\n",
    "\n",
    "sns.barplot(ax=axes[1], x=PR_weekly_avg.index, y=PR_weekly_avg.values)\n",
    "axes[1].set_title('Phibsborough Road')\n",
    "\n",
    "sns.barplot(ax=axes[2], x=SG_weekly_avg.index, y=SG_weekly_avg.values)\n",
    "axes[2].set_title(\"St. Stephen's Green East\")"
   ]
  },
  {
   "cell_type": "code",
   "execution_count": null,
   "id": "773f1648",
   "metadata": {},
   "outputs": [],
   "source": [
    "\n",
    "\n",
    "# Filter data for year 2020\n",
    "dataCP_2020 = dataCP[dataCP['TIME'].dt.year == 2020]\n",
    "dataPR_2020 = dataPR[dataPR['TIME'].dt.year == 2020]\n",
    "dataSG_2020 = dataSG[dataSG['TIME'].dt.year == 2020]\n",
    "\n",
    "# Group data by week and calculate weekly average\n",
    "CP_weekly_avg = dataCP_2020.groupby(pd.Grouper(key='TIME', freq='W'))['BIKE.USAGE'].mean()\n",
    "PR_weekly_avg = dataPR_2020.groupby(pd.Grouper(key='TIME', freq='W'))['BIKE.USAGE'].mean()\n",
    "SG_weekly_avg = dataSG_2020.groupby(pd.Grouper(key='TIME', freq='W'))['BIKE.USAGE'].mean()\n",
    "\n",
    "# Create bar plot\n",
    "fig, axes = plt.subplots(3, 1, figsize=(20,18))\n",
    "sns.barplot(ax=axes[0], x=CP_weekly_avg.index, y=CP_weekly_avg.values)\n",
    "axes[0].set_title('Charlemont Place')\n",
    "sns.barplot(ax=axes[1], x=PR_weekly_avg.index, y=PR_weekly_avg.values)\n",
    "axes[1].set_title('Phibsborough Road')\n",
    "sns.barplot(ax=axes[2], x=SG_weekly_avg.index, y=SG_weekly_avg.values)\n",
    "axes[2].set_title(\"St. Stephen's Green East\")\n",
    "\n",
    "plt.show()"
   ]
  },
  {
   "cell_type": "code",
   "execution_count": 13,
   "id": "1a0fbe0f",
   "metadata": {},
   "outputs": [
    {
     "ename": "AttributeError",
     "evalue": "Can only use .dt accessor with datetimelike values",
     "output_type": "error",
     "traceback": [
      "\u001b[0;31m---------------------------------------------------------------------------\u001b[0m",
      "\u001b[0;31mAttributeError\u001b[0m                            Traceback (most recent call last)",
      "Input \u001b[0;32mIn [13]\u001b[0m, in \u001b[0;36m<cell line: 5>\u001b[0;34m()\u001b[0m\n\u001b[1;32m      2\u001b[0m data_2020 \u001b[38;5;241m=\u001b[39m data[data[\u001b[38;5;124m'\u001b[39m\u001b[38;5;124mTIME\u001b[39m\u001b[38;5;124m'\u001b[39m]\u001b[38;5;241m.\u001b[39mstr\u001b[38;5;241m.\u001b[39mstartswith(\u001b[38;5;124m'\u001b[39m\u001b[38;5;124m2020\u001b[39m\u001b[38;5;124m'\u001b[39m)]\n\u001b[1;32m      4\u001b[0m \u001b[38;5;66;03m# Group the data by month and calculate the average bike usage for each month:\u001b[39;00m\n\u001b[0;32m----> 5\u001b[0m monthly_avg \u001b[38;5;241m=\u001b[39m data_2020\u001b[38;5;241m.\u001b[39mgroupby(\u001b[43mdata_2020\u001b[49m\u001b[43m[\u001b[49m\u001b[38;5;124;43m'\u001b[39;49m\u001b[38;5;124;43mTIME\u001b[39;49m\u001b[38;5;124;43m'\u001b[39;49m\u001b[43m]\u001b[49m\u001b[38;5;241;43m.\u001b[39;49m\u001b[43mdt\u001b[49m\u001b[38;5;241m.\u001b[39mstrftime(\u001b[38;5;124m'\u001b[39m\u001b[38;5;124m%\u001b[39m\u001b[38;5;124mB\u001b[39m\u001b[38;5;124m'\u001b[39m))[\u001b[38;5;124m'\u001b[39m\u001b[38;5;124mBIKE.USAGE\u001b[39m\u001b[38;5;124m'\u001b[39m]\u001b[38;5;241m.\u001b[39mmean()\n",
      "File \u001b[0;32m~/opt/anaconda3/lib/python3.9/site-packages/pandas/core/generic.py:5575\u001b[0m, in \u001b[0;36mNDFrame.__getattr__\u001b[0;34m(self, name)\u001b[0m\n\u001b[1;32m   5568\u001b[0m \u001b[38;5;28;01mif\u001b[39;00m (\n\u001b[1;32m   5569\u001b[0m     name \u001b[38;5;129;01mnot\u001b[39;00m \u001b[38;5;129;01min\u001b[39;00m \u001b[38;5;28mself\u001b[39m\u001b[38;5;241m.\u001b[39m_internal_names_set\n\u001b[1;32m   5570\u001b[0m     \u001b[38;5;129;01mand\u001b[39;00m name \u001b[38;5;129;01mnot\u001b[39;00m \u001b[38;5;129;01min\u001b[39;00m \u001b[38;5;28mself\u001b[39m\u001b[38;5;241m.\u001b[39m_metadata\n\u001b[1;32m   5571\u001b[0m     \u001b[38;5;129;01mand\u001b[39;00m name \u001b[38;5;129;01mnot\u001b[39;00m \u001b[38;5;129;01min\u001b[39;00m \u001b[38;5;28mself\u001b[39m\u001b[38;5;241m.\u001b[39m_accessors\n\u001b[1;32m   5572\u001b[0m     \u001b[38;5;129;01mand\u001b[39;00m \u001b[38;5;28mself\u001b[39m\u001b[38;5;241m.\u001b[39m_info_axis\u001b[38;5;241m.\u001b[39m_can_hold_identifiers_and_holds_name(name)\n\u001b[1;32m   5573\u001b[0m ):\n\u001b[1;32m   5574\u001b[0m     \u001b[38;5;28;01mreturn\u001b[39;00m \u001b[38;5;28mself\u001b[39m[name]\n\u001b[0;32m-> 5575\u001b[0m \u001b[38;5;28;01mreturn\u001b[39;00m \u001b[38;5;28;43mobject\u001b[39;49m\u001b[38;5;241;43m.\u001b[39;49m\u001b[38;5;21;43m__getattribute__\u001b[39;49m\u001b[43m(\u001b[49m\u001b[38;5;28;43mself\u001b[39;49m\u001b[43m,\u001b[49m\u001b[43m \u001b[49m\u001b[43mname\u001b[49m\u001b[43m)\u001b[49m\n",
      "File \u001b[0;32m~/opt/anaconda3/lib/python3.9/site-packages/pandas/core/accessor.py:182\u001b[0m, in \u001b[0;36mCachedAccessor.__get__\u001b[0;34m(self, obj, cls)\u001b[0m\n\u001b[1;32m    179\u001b[0m \u001b[38;5;28;01mif\u001b[39;00m obj \u001b[38;5;129;01mis\u001b[39;00m \u001b[38;5;28;01mNone\u001b[39;00m:\n\u001b[1;32m    180\u001b[0m     \u001b[38;5;66;03m# we're accessing the attribute of the class, i.e., Dataset.geo\u001b[39;00m\n\u001b[1;32m    181\u001b[0m     \u001b[38;5;28;01mreturn\u001b[39;00m \u001b[38;5;28mself\u001b[39m\u001b[38;5;241m.\u001b[39m_accessor\n\u001b[0;32m--> 182\u001b[0m accessor_obj \u001b[38;5;241m=\u001b[39m \u001b[38;5;28;43mself\u001b[39;49m\u001b[38;5;241;43m.\u001b[39;49m\u001b[43m_accessor\u001b[49m\u001b[43m(\u001b[49m\u001b[43mobj\u001b[49m\u001b[43m)\u001b[49m\n\u001b[1;32m    183\u001b[0m \u001b[38;5;66;03m# Replace the property with the accessor object. Inspired by:\u001b[39;00m\n\u001b[1;32m    184\u001b[0m \u001b[38;5;66;03m# https://www.pydanny.com/cached-property.html\u001b[39;00m\n\u001b[1;32m    185\u001b[0m \u001b[38;5;66;03m# We need to use object.__setattr__ because we overwrite __setattr__ on\u001b[39;00m\n\u001b[1;32m    186\u001b[0m \u001b[38;5;66;03m# NDFrame\u001b[39;00m\n\u001b[1;32m    187\u001b[0m \u001b[38;5;28mobject\u001b[39m\u001b[38;5;241m.\u001b[39m\u001b[38;5;21m__setattr__\u001b[39m(obj, \u001b[38;5;28mself\u001b[39m\u001b[38;5;241m.\u001b[39m_name, accessor_obj)\n",
      "File \u001b[0;32m~/opt/anaconda3/lib/python3.9/site-packages/pandas/core/indexes/accessors.py:509\u001b[0m, in \u001b[0;36mCombinedDatetimelikeProperties.__new__\u001b[0;34m(cls, data)\u001b[0m\n\u001b[1;32m    506\u001b[0m \u001b[38;5;28;01melif\u001b[39;00m is_period_dtype(data\u001b[38;5;241m.\u001b[39mdtype):\n\u001b[1;32m    507\u001b[0m     \u001b[38;5;28;01mreturn\u001b[39;00m PeriodProperties(data, orig)\n\u001b[0;32m--> 509\u001b[0m \u001b[38;5;28;01mraise\u001b[39;00m \u001b[38;5;167;01mAttributeError\u001b[39;00m(\u001b[38;5;124m\"\u001b[39m\u001b[38;5;124mCan only use .dt accessor with datetimelike values\u001b[39m\u001b[38;5;124m\"\u001b[39m)\n",
      "\u001b[0;31mAttributeError\u001b[0m: Can only use .dt accessor with datetimelike values"
     ]
    }
   ],
   "source": [
    "# Filter the data to include only the year 2020:\n",
    "data_2020 = data[data['TIME'].str.startswith('2020')]\n",
    "\n",
    "# Group the data by month and calculate the average bike usage for each month:\n",
    "monthly_avg = data_2020.groupby(data_2020['TIME'].dt.strftime('%B'))['BIKE.USAGE'].mean()\n"
   ]
  },
  {
   "cell_type": "code",
   "execution_count": 37,
   "id": "c1418949",
   "metadata": {},
   "outputs": [],
   "source": [
    "import pandas as pd\n",
    "from sklearn.cluster import KMeans\n",
    "from sklearn.preprocessing import StandardScaler\n"
   ]
  },
  {
   "cell_type": "code",
   "execution_count": 38,
   "id": "7847930c",
   "metadata": {},
   "outputs": [
    {
     "data": {
      "text/html": [
       "<div>\n",
       "<style scoped>\n",
       "    .dataframe tbody tr th:only-of-type {\n",
       "        vertical-align: middle;\n",
       "    }\n",
       "\n",
       "    .dataframe tbody tr th {\n",
       "        vertical-align: top;\n",
       "    }\n",
       "\n",
       "    .dataframe thead th {\n",
       "        text-align: right;\n",
       "    }\n",
       "</style>\n",
       "<table border=\"1\" class=\"dataframe\">\n",
       "  <thead>\n",
       "    <tr style=\"text-align: right;\">\n",
       "      <th></th>\n",
       "      <th>Unnamed: 0</th>\n",
       "      <th>NAME</th>\n",
       "      <th>LATITUDE</th>\n",
       "      <th>LONGITUDE</th>\n",
       "      <th>BIKE.STANDS</th>\n",
       "    </tr>\n",
       "  </thead>\n",
       "  <tbody>\n",
       "    <tr>\n",
       "      <th>0</th>\n",
       "      <td>1</td>\n",
       "      <td>CLARENDON ROW</td>\n",
       "      <td>53.340927</td>\n",
       "      <td>-6.262501</td>\n",
       "      <td>31</td>\n",
       "    </tr>\n",
       "    <tr>\n",
       "      <th>1</th>\n",
       "      <td>2</td>\n",
       "      <td>BLESSINGTON STREET</td>\n",
       "      <td>53.356770</td>\n",
       "      <td>-6.268140</td>\n",
       "      <td>20</td>\n",
       "    </tr>\n",
       "    <tr>\n",
       "      <th>2</th>\n",
       "      <td>3</td>\n",
       "      <td>BOLTON STREET</td>\n",
       "      <td>53.351181</td>\n",
       "      <td>-6.269859</td>\n",
       "      <td>20</td>\n",
       "    </tr>\n",
       "    <tr>\n",
       "      <th>3</th>\n",
       "      <td>4</td>\n",
       "      <td>GREEK STREET</td>\n",
       "      <td>53.346874</td>\n",
       "      <td>-6.272976</td>\n",
       "      <td>20</td>\n",
       "    </tr>\n",
       "    <tr>\n",
       "      <th>4</th>\n",
       "      <td>5</td>\n",
       "      <td>CHARLEMONT PLACE</td>\n",
       "      <td>53.330662</td>\n",
       "      <td>-6.260177</td>\n",
       "      <td>40</td>\n",
       "    </tr>\n",
       "  </tbody>\n",
       "</table>\n",
       "</div>"
      ],
      "text/plain": [
       "   Unnamed: 0                NAME   LATITUDE  LONGITUDE  BIKE.STANDS\n",
       "0           1       CLARENDON ROW  53.340927  -6.262501           31\n",
       "1           2  BLESSINGTON STREET  53.356770  -6.268140           20\n",
       "2           3       BOLTON STREET  53.351181  -6.269859           20\n",
       "3           4        GREEK STREET  53.346874  -6.272976           20\n",
       "4           5    CHARLEMONT PLACE  53.330662  -6.260177           40"
      ]
     },
     "execution_count": 38,
     "metadata": {},
     "output_type": "execute_result"
    }
   ],
   "source": [
    "df = pd.read_csv(\"data/stations.csv\")\n",
    "df.head()"
   ]
  },
  {
   "cell_type": "code",
   "execution_count": 39,
   "id": "44ca1bd4",
   "metadata": {},
   "outputs": [],
   "source": []
  },
  {
   "cell_type": "code",
   "execution_count": 46,
   "id": "62556cce",
   "metadata": {},
   "outputs": [
    {
     "name": "stdout",
     "output_type": "stream",
     "text": [
      "[1 0 0 0 1 1 2 1 1 1 1 0 1 1 0 1 1 1 1 1 1 0 0 1 1 1 0 0 0 0 1 0 1 2 1 1 0\n",
      " 1 0 1 0 1 0 0 0 1 1 1 0 1 1 1 1 1 1 1 1 0 0 0 1 1 1 1 1 1 1 1 1 1 2 2 2 2\n",
      " 2 0 0 0 2 2 2 2 2 2 2 2 2 1 1 1 2 2 2 2 2 2 1 1 2 0 0 0 0 0 0 0 0 0 0 0 1\n",
      " 1 0]\n"
     ]
    },
    {
     "data": {
      "text/plain": [
       "<AxesSubplot:xlabel='LATITUDE', ylabel='LONGITUDE'>"
      ]
     },
     "execution_count": 46,
     "metadata": {},
     "output_type": "execute_result"
    },
    {
     "data": {
      "image/png": "[encoded data removed]",
      "text/plain": [
       "<Figure size 432x288 with 1 Axes>"
      ]
     },
     "metadata": {
      "needs_background": "light"
     },
     "output_type": "display_data"
    }
   ],
   "source": [
    "X = df[['LATITUDE', 'LONGITUDE']]\n",
    "\n",
    "scaler = StandardScaler()\n",
    "X_std = scaler.fit_transform(X)\n",
    "\n",
    "kmeans = KMeans(n_clusters=3, random_state=42).fit(X_std)\n",
    "\n",
    "df['CLUSTER'] = kmeans.labels_\n",
    "\n",
    "print(kmeans.labels_)\n",
    "\n",
    "sns.scatterplot(x=\"LATITUDE\", y=\"LONGITUDE\",hue = 'CLUSTER', data=df, palette='viridis')\n",
    "\n",
    "# Add the centroids to the plot as black diamonds\n",
    "sns.scatterplot(x=centroids[:, 0], y=centroids[:, 1],marker='D', s=100, color='black')\n"
   ]
  },
  {
   "cell_type": "code",
   "execution_count": 32,
   "id": "2e382efc",
   "metadata": {},
   "outputs": [
    {
     "data": {
      "text/plain": [
       "<AxesSubplot:xlabel='LATITUDE', ylabel='LONGITUDE'>"
      ]
     },
     "execution_count": 32,
     "metadata": {},
     "output_type": "execute_result"
    },
    {
     "data": {
      "image/png": "[encoded data removed]",
      "text/plain": [
       "<Figure size 432x288 with 1 Axes>"
      ]
     },
     "metadata": {
      "needs_background": "light"
     },
     "output_type": "display_data"
    }
   ],
   "source": [
    "sns.scatterplot(x=\"LATITUDE\", y=\"LONGITUDE\",hue = 'CLUSTER', data=df, palette='viridis')\n",
    "\n"
   ]
  },
  {
   "cell_type": "code",
   "execution_count": 36,
   "id": "b9c011e4",
   "metadata": {
    "scrolled": true
   },
   "outputs": [
    {
     "data": {
      "text/plain": [
       "<AxesSubplot:xlabel='LATITUDE', ylabel='LONGITUDE'>"
      ]
     },
     "execution_count": 36,
     "metadata": {},
     "output_type": "execute_result"
    },
    {
     "data": {
      "image/png": "[encoded data removed]",
      "text/plain": [
       "<Figure size 432x288 with 1 Axes>"
      ]
     },
     "metadata": {
      "needs_background": "light"
     },
     "output_type": "display_data"
    }
   ],
   "source": [
    "\n",
    "sns.scatterplot(x=\"LATITUDE\", y=\"LONGITUDE\",hue = 'CLUSTER', data=df, palette='viridis')\n",
    "\n",
    "\n",
    "# Add the centroids to the plot as black diamonds\n",
    "sns.scatterplot(x=centroids[:, 0], y=centroids[:, 1],marker='D', s=100, color='black')\n"
   ]
  },
  {
   "cell_type": "code",
   "execution_count": 47,
   "id": "fe712ee4",
   "metadata": {},
   "outputs": [
    {
     "name": "stdout",
     "output_type": "stream",
     "text": [
      "[[53.35604136 -6.27203773]\n",
      " [53.34108627 -6.24685977]\n",
      " [53.34365711 -6.29759778]]\n"
     ]
    },
    {
     "data": {
      "text/plain": [
       "<AxesSubplot:xlabel='LATITUDE', ylabel='LONGITUDE'>"
      ]
     },
     "execution_count": 47,
     "metadata": {},
     "output_type": "execute_result"
    },
    {
     "data": {
      "image/png": "[encoded data removed]",
      "text/plain": [
       "<Figure size 432x288 with 1 Axes>"
      ]
     },
     "metadata": {
      "needs_background": "light"
     },
     "output_type": "display_data"
    }
   ],
   "source": [
    "import pandas as pd\n",
    "import seaborn as sns\n",
    "from sklearn.cluster import KMeans\n",
    "from sklearn.preprocessing import StandardScaler\n",
    "\n",
    "# Load the dataset\n",
    "df = pd.read_csv(\"data/stations.csv\")\n",
    "\n",
    "# Filter the dataframe to include only bike stands = 40\n",
    "df = df[df['BIKE.STANDS'] == 40]\n",
    "\n",
    "# Create a subset of the dataset containing only the latitude and longitude columns\n",
    "X = df[['LATITUDE', 'LONGITUDE']]\n",
    "\n",
    "# Standardize the data\n",
    "scaler = StandardScaler()\n",
    "X_std = scaler.fit_transform(X)\n",
    "\n",
    "# Apply k-means clustering with k=3\n",
    "kmeans = KMeans(n_clusters=3, random_state=42).fit(X_std)\n",
    "\n",
    "# Add the cluster labels to the dataframe\n",
    "df['CLUSTER'] = kmeans.labels_\n",
    "\n",
    "# Print the centroids of each cluster\n",
    "centroids = scaler.inverse_transform(kmeans.cluster_centers_)\n",
    "print(centroids)\n",
    "\n",
    "# Create a scatter plot of the data points colored by cluster\n",
    "sns.scatterplot(x=\"LATITUDE\", y=\"LONGITUDE\",hue = 'CLUSTER', data=df, palette='viridis')\n",
    "\n",
    "# Add the centroids to the plot as black diamonds\n",
    "sns.scatterplot(x=centroids[:, 0], y=centroids[:, 1],marker='D', s=100, color='black')\n"
   ]
  }
 ],
 "metadata": {
  "kernelspec": {
   "display_name": "Python 3 (ipykernel)",
   "language": "python",
   "name": "python3"
  },
  "language_info": {
   "codemirror_mode": {
    "name": "ipython",
    "version": 3
   },
   "file_extension": ".py",
   "mimetype": "text/x-python",
   "name": "python",
   "nbconvert_exporter": "python",
   "pygments_lexer": "ipython3",
   "version": "3.9.12"
  }
 },
 "nbformat": 4,
 "nbformat_minor": 5
}
