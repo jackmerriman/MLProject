{
 "cells": [
  {
   "cell_type": "code",
   "execution_count": 1,
   "id": "a8370eb2",
   "metadata": {},
   "outputs": [
    {
     "name": "stdout",
     "output_type": "stream",
     "text": [
      "This is for Caitlín's rough code\n"
     ]
    }
   ],
   "source": [
    "print(\"This is for Caitlín's rough code\")"
   ]
  },
  {
   "cell_type": "code",
   "execution_count": 10,
   "id": "efeb82c2",
   "metadata": {},
   "outputs": [],
   "source": [
    "#libraries\n",
    "import os\n",
    "import numpy as np\n",
    "import pandas as pd\n",
    "import matplotlib.pyplot as plt\n",
    "import seaborn as sns\n",
    "from sklearn.neural_network import MLPClassifier\n",
    "from sklearn.neighbors import KNeighborsClassifier\n",
    "from sklearn.svm import SVC\n",
    "from sklearn.gaussian_process import GaussianProcessClassifier\n",
    "from sklearn.gaussian_process.kernels import RBF\n",
    "from sklearn.tree import DecisionTreeClassifier\n",
    "from sklearn.ensemble import RandomForestClassifier, AdaBoostClassifier\n",
    "from sklearn.naive_bayes import GaussianNB\n",
    "from sklearn.metrics import plot_confusion_matrix\n",
    "from sklearn.model_selection import cross_val_score"
   ]
  },
  {
   "cell_type": "code",
   "execution_count": 11,
   "id": "43d7e073",
   "metadata": {},
   "outputs": [
    {
     "data": {
      "text/html": [
       "<div>\n",
       "<style scoped>\n",
       "    .dataframe tbody tr th:only-of-type {\n",
       "        vertical-align: middle;\n",
       "    }\n",
       "\n",
       "    .dataframe tbody tr th {\n",
       "        vertical-align: top;\n",
       "    }\n",
       "\n",
       "    .dataframe thead th {\n",
       "        text-align: right;\n",
       "    }\n",
       "</style>\n",
       "<table border=\"1\" class=\"dataframe\">\n",
       "  <thead>\n",
       "    <tr style=\"text-align: right;\">\n",
       "      <th></th>\n",
       "      <th>Unnamed: 0</th>\n",
       "      <th>TIME</th>\n",
       "      <th>NAME</th>\n",
       "      <th>BIKE.STANDS</th>\n",
       "      <th>AVAILABLE.BIKE.STANDS</th>\n",
       "      <th>AVAILABLE.BIKES</th>\n",
       "      <th>STATUS</th>\n",
       "    </tr>\n",
       "  </thead>\n",
       "  <tbody>\n",
       "    <tr>\n",
       "      <th>0</th>\n",
       "      <td>1</td>\n",
       "      <td>2018-08-01 12:30:02</td>\n",
       "      <td>CHARLEMONT PLACE</td>\n",
       "      <td>40</td>\n",
       "      <td>28</td>\n",
       "      <td>12</td>\n",
       "      <td>Open</td>\n",
       "    </tr>\n",
       "    <tr>\n",
       "      <th>1</th>\n",
       "      <td>2</td>\n",
       "      <td>2018-08-01 12:35:02</td>\n",
       "      <td>CHARLEMONT PLACE</td>\n",
       "      <td>40</td>\n",
       "      <td>28</td>\n",
       "      <td>12</td>\n",
       "      <td>Open</td>\n",
       "    </tr>\n",
       "    <tr>\n",
       "      <th>2</th>\n",
       "      <td>3</td>\n",
       "      <td>2018-08-01 12:40:02</td>\n",
       "      <td>CHARLEMONT PLACE</td>\n",
       "      <td>40</td>\n",
       "      <td>28</td>\n",
       "      <td>12</td>\n",
       "      <td>Open</td>\n",
       "    </tr>\n",
       "    <tr>\n",
       "      <th>3</th>\n",
       "      <td>4</td>\n",
       "      <td>2018-08-01 12:45:02</td>\n",
       "      <td>CHARLEMONT PLACE</td>\n",
       "      <td>40</td>\n",
       "      <td>28</td>\n",
       "      <td>12</td>\n",
       "      <td>Open</td>\n",
       "    </tr>\n",
       "    <tr>\n",
       "      <th>4</th>\n",
       "      <td>5</td>\n",
       "      <td>2018-08-01 12:50:02</td>\n",
       "      <td>CHARLEMONT PLACE</td>\n",
       "      <td>40</td>\n",
       "      <td>28</td>\n",
       "      <td>12</td>\n",
       "      <td>Open</td>\n",
       "    </tr>\n",
       "  </tbody>\n",
       "</table>\n",
       "</div>"
      ],
      "text/plain": [
       "   Unnamed: 0                 TIME              NAME  BIKE.STANDS  \\\n",
       "0           1  2018-08-01 12:30:02  CHARLEMONT PLACE           40   \n",
       "1           2  2018-08-01 12:35:02  CHARLEMONT PLACE           40   \n",
       "2           3  2018-08-01 12:40:02  CHARLEMONT PLACE           40   \n",
       "3           4  2018-08-01 12:45:02  CHARLEMONT PLACE           40   \n",
       "4           5  2018-08-01 12:50:02  CHARLEMONT PLACE           40   \n",
       "\n",
       "   AVAILABLE.BIKE.STANDS  AVAILABLE.BIKES STATUS  \n",
       "0                     28               12   Open  \n",
       "1                     28               12   Open  \n",
       "2                     28               12   Open  \n",
       "3                     28               12   Open  \n",
       "4                     28               12   Open  "
      ]
     },
     "execution_count": 11,
     "metadata": {},
     "output_type": "execute_result"
    }
   ],
   "source": [
    "#import data\n",
    "os.chdir(\"..\")\n",
    "data = pd.read_csv(\"data/bikedata.csv\")\n",
    "data.head()"
   ]
  },
  {
   "cell_type": "code",
   "execution_count": 12,
   "id": "27c8c66e",
   "metadata": {
    "scrolled": true
   },
   "outputs": [
    {
     "data": {
      "text/html": [
       "<div>\n",
       "<style scoped>\n",
       "    .dataframe tbody tr th:only-of-type {\n",
       "        vertical-align: middle;\n",
       "    }\n",
       "\n",
       "    .dataframe tbody tr th {\n",
       "        vertical-align: top;\n",
       "    }\n",
       "\n",
       "    .dataframe thead th {\n",
       "        text-align: right;\n",
       "    }\n",
       "</style>\n",
       "<table border=\"1\" class=\"dataframe\">\n",
       "  <thead>\n",
       "    <tr style=\"text-align: right;\">\n",
       "      <th></th>\n",
       "      <th>Unnamed: 0</th>\n",
       "      <th>TIME</th>\n",
       "      <th>NAME</th>\n",
       "      <th>BIKE.STANDS</th>\n",
       "      <th>AVAILABLE.BIKE.STANDS</th>\n",
       "      <th>AVAILABLE.BIKES</th>\n",
       "      <th>STATUS</th>\n",
       "      <th>BIKE.USAGE</th>\n",
       "    </tr>\n",
       "  </thead>\n",
       "  <tbody>\n",
       "    <tr>\n",
       "      <th>0</th>\n",
       "      <td>1</td>\n",
       "      <td>2018-08-01 12:30:02</td>\n",
       "      <td>CHARLEMONT PLACE</td>\n",
       "      <td>40</td>\n",
       "      <td>28</td>\n",
       "      <td>12</td>\n",
       "      <td>Open</td>\n",
       "      <td>0.7</td>\n",
       "    </tr>\n",
       "    <tr>\n",
       "      <th>1</th>\n",
       "      <td>2</td>\n",
       "      <td>2018-08-01 12:35:02</td>\n",
       "      <td>CHARLEMONT PLACE</td>\n",
       "      <td>40</td>\n",
       "      <td>28</td>\n",
       "      <td>12</td>\n",
       "      <td>Open</td>\n",
       "      <td>0.7</td>\n",
       "    </tr>\n",
       "    <tr>\n",
       "      <th>2</th>\n",
       "      <td>3</td>\n",
       "      <td>2018-08-01 12:40:02</td>\n",
       "      <td>CHARLEMONT PLACE</td>\n",
       "      <td>40</td>\n",
       "      <td>28</td>\n",
       "      <td>12</td>\n",
       "      <td>Open</td>\n",
       "      <td>0.7</td>\n",
       "    </tr>\n",
       "    <tr>\n",
       "      <th>3</th>\n",
       "      <td>4</td>\n",
       "      <td>2018-08-01 12:45:02</td>\n",
       "      <td>CHARLEMONT PLACE</td>\n",
       "      <td>40</td>\n",
       "      <td>28</td>\n",
       "      <td>12</td>\n",
       "      <td>Open</td>\n",
       "      <td>0.7</td>\n",
       "    </tr>\n",
       "    <tr>\n",
       "      <th>4</th>\n",
       "      <td>5</td>\n",
       "      <td>2018-08-01 12:50:02</td>\n",
       "      <td>CHARLEMONT PLACE</td>\n",
       "      <td>40</td>\n",
       "      <td>28</td>\n",
       "      <td>12</td>\n",
       "      <td>Open</td>\n",
       "      <td>0.7</td>\n",
       "    </tr>\n",
       "  </tbody>\n",
       "</table>\n",
       "</div>"
      ],
      "text/plain": [
       "   Unnamed: 0                 TIME              NAME  BIKE.STANDS  \\\n",
       "0           1  2018-08-01 12:30:02  CHARLEMONT PLACE           40   \n",
       "1           2  2018-08-01 12:35:02  CHARLEMONT PLACE           40   \n",
       "2           3  2018-08-01 12:40:02  CHARLEMONT PLACE           40   \n",
       "3           4  2018-08-01 12:45:02  CHARLEMONT PLACE           40   \n",
       "4           5  2018-08-01 12:50:02  CHARLEMONT PLACE           40   \n",
       "\n",
       "   AVAILABLE.BIKE.STANDS  AVAILABLE.BIKES STATUS  BIKE.USAGE  \n",
       "0                     28               12   Open         0.7  \n",
       "1                     28               12   Open         0.7  \n",
       "2                     28               12   Open         0.7  \n",
       "3                     28               12   Open         0.7  \n",
       "4                     28               12   Open         0.7  "
      ]
     },
     "execution_count": 12,
     "metadata": {},
     "output_type": "execute_result"
    }
   ],
   "source": [
    "#Calculate bike usage\n",
    "data[\"BIKE.USAGE\"] = data[\"AVAILABLE.BIKE.STANDS\"]/data[\"BIKE.STANDS\"]\n",
    "data.head()"
   ]
  },
  {
   "cell_type": "code",
   "execution_count": 14,
   "id": "bfe21e18",
   "metadata": {},
   "outputs": [
    {
     "name": "stdout",
     "output_type": "stream",
     "text": [
      "0         2018-08-01 12:30:02\n",
      "1         2018-08-01 12:35:02\n",
      "2         2018-08-01 12:40:02\n",
      "3         2018-08-01 12:45:02\n",
      "4         2018-08-01 12:50:02\n",
      "                  ...        \n",
      "1029255   2022-01-01 23:35:02\n",
      "1029256   2022-01-01 23:40:02\n",
      "1029257   2022-01-01 23:45:02\n",
      "1029258   2022-01-01 23:50:02\n",
      "1029259   2022-01-01 23:55:02\n",
      "Name: TIME, Length: 1029260, dtype: datetime64[ns]\n"
     ]
    }
   ],
   "source": [
    "bike_dates = pd.to_datetime(data.TIME, format = \"%Y-%m-%d %H:%M:%S\")\n",
    "print(bike_dates)"
   ]
  },
  {
   "cell_type": "code",
   "execution_count": 16,
   "id": "d2853aff",
   "metadata": {},
   "outputs": [
    {
     "name": "stdout",
     "output_type": "stream",
     "text": [
      "DatetimeIndex(['2018-08-01', '2018-08-01', '2018-08-01', '2018-08-01',\n",
      "               '2018-08-01', '2018-08-01', '2018-08-01', '2018-08-01',\n",
      "               '2018-08-01', '2018-08-01',\n",
      "               ...\n",
      "               '2022-01-01', '2022-01-01', '2022-01-01', '2022-01-01',\n",
      "               '2022-01-01', '2022-01-01', '2022-01-01', '2022-01-01',\n",
      "               '2022-01-01', '2022-01-01'],\n",
      "              dtype='datetime64[ns]', name='TIME', length=1029260, freq=None)\n"
     ]
    }
   ],
   "source": [
    "bike_dates.dt.date\n",
    "date_vector = pd.DatetimeIndex(bike_dates.dt.date)\n",
    "print(date_vector)"
   ]
  },
  {
   "cell_type": "code",
   "execution_count": 19,
   "id": "a8222406",
   "metadata": {},
   "outputs": [
    {
     "data": {
      "text/html": [
       "<div>\n",
       "<style scoped>\n",
       "    .dataframe tbody tr th:only-of-type {\n",
       "        vertical-align: middle;\n",
       "    }\n",
       "\n",
       "    .dataframe tbody tr th {\n",
       "        vertical-align: top;\n",
       "    }\n",
       "\n",
       "    .dataframe thead th {\n",
       "        text-align: right;\n",
       "    }\n",
       "</style>\n",
       "<table border=\"1\" class=\"dataframe\">\n",
       "  <thead>\n",
       "    <tr style=\"text-align: right;\">\n",
       "      <th></th>\n",
       "      <th>Unnamed: 0</th>\n",
       "      <th>TIME</th>\n",
       "      <th>NAME</th>\n",
       "      <th>BIKE.STANDS</th>\n",
       "      <th>AVAILABLE.BIKE.STANDS</th>\n",
       "      <th>AVAILABLE.BIKES</th>\n",
       "      <th>STATUS</th>\n",
       "      <th>BIKE.USAGE</th>\n",
       "    </tr>\n",
       "  </thead>\n",
       "  <tbody>\n",
       "    <tr>\n",
       "      <th>0</th>\n",
       "      <td>1</td>\n",
       "      <td>2018-08-01 12:30:02</td>\n",
       "      <td>CHARLEMONT PLACE</td>\n",
       "      <td>40</td>\n",
       "      <td>28</td>\n",
       "      <td>12</td>\n",
       "      <td>Open</td>\n",
       "      <td>0.7</td>\n",
       "    </tr>\n",
       "    <tr>\n",
       "      <th>1</th>\n",
       "      <td>2</td>\n",
       "      <td>2018-08-01 12:35:02</td>\n",
       "      <td>CHARLEMONT PLACE</td>\n",
       "      <td>40</td>\n",
       "      <td>28</td>\n",
       "      <td>12</td>\n",
       "      <td>Open</td>\n",
       "      <td>0.7</td>\n",
       "    </tr>\n",
       "    <tr>\n",
       "      <th>2</th>\n",
       "      <td>3</td>\n",
       "      <td>2018-08-01 12:40:02</td>\n",
       "      <td>CHARLEMONT PLACE</td>\n",
       "      <td>40</td>\n",
       "      <td>28</td>\n",
       "      <td>12</td>\n",
       "      <td>Open</td>\n",
       "      <td>0.7</td>\n",
       "    </tr>\n",
       "    <tr>\n",
       "      <th>3</th>\n",
       "      <td>4</td>\n",
       "      <td>2018-08-01 12:45:02</td>\n",
       "      <td>CHARLEMONT PLACE</td>\n",
       "      <td>40</td>\n",
       "      <td>28</td>\n",
       "      <td>12</td>\n",
       "      <td>Open</td>\n",
       "      <td>0.7</td>\n",
       "    </tr>\n",
       "    <tr>\n",
       "      <th>4</th>\n",
       "      <td>5</td>\n",
       "      <td>2018-08-01 12:50:02</td>\n",
       "      <td>CHARLEMONT PLACE</td>\n",
       "      <td>40</td>\n",
       "      <td>28</td>\n",
       "      <td>12</td>\n",
       "      <td>Open</td>\n",
       "      <td>0.7</td>\n",
       "    </tr>\n",
       "    <tr>\n",
       "      <th>...</th>\n",
       "      <td>...</td>\n",
       "      <td>...</td>\n",
       "      <td>...</td>\n",
       "      <td>...</td>\n",
       "      <td>...</td>\n",
       "      <td>...</td>\n",
       "      <td>...</td>\n",
       "      <td>...</td>\n",
       "    </tr>\n",
       "    <tr>\n",
       "      <th>409</th>\n",
       "      <td>410</td>\n",
       "      <td>2018-08-01 23:35:02</td>\n",
       "      <td>PHIBSBOROUGH ROAD</td>\n",
       "      <td>40</td>\n",
       "      <td>12</td>\n",
       "      <td>28</td>\n",
       "      <td>Open</td>\n",
       "      <td>0.3</td>\n",
       "    </tr>\n",
       "    <tr>\n",
       "      <th>410</th>\n",
       "      <td>411</td>\n",
       "      <td>2018-08-01 23:40:02</td>\n",
       "      <td>PHIBSBOROUGH ROAD</td>\n",
       "      <td>40</td>\n",
       "      <td>12</td>\n",
       "      <td>28</td>\n",
       "      <td>Open</td>\n",
       "      <td>0.3</td>\n",
       "    </tr>\n",
       "    <tr>\n",
       "      <th>411</th>\n",
       "      <td>412</td>\n",
       "      <td>2018-08-01 23:45:02</td>\n",
       "      <td>PHIBSBOROUGH ROAD</td>\n",
       "      <td>40</td>\n",
       "      <td>12</td>\n",
       "      <td>28</td>\n",
       "      <td>Open</td>\n",
       "      <td>0.3</td>\n",
       "    </tr>\n",
       "    <tr>\n",
       "      <th>412</th>\n",
       "      <td>413</td>\n",
       "      <td>2018-08-01 23:50:02</td>\n",
       "      <td>PHIBSBOROUGH ROAD</td>\n",
       "      <td>40</td>\n",
       "      <td>12</td>\n",
       "      <td>28</td>\n",
       "      <td>Open</td>\n",
       "      <td>0.3</td>\n",
       "    </tr>\n",
       "    <tr>\n",
       "      <th>413</th>\n",
       "      <td>414</td>\n",
       "      <td>2018-08-01 23:55:02</td>\n",
       "      <td>PHIBSBOROUGH ROAD</td>\n",
       "      <td>40</td>\n",
       "      <td>12</td>\n",
       "      <td>28</td>\n",
       "      <td>Open</td>\n",
       "      <td>0.3</td>\n",
       "    </tr>\n",
       "  </tbody>\n",
       "</table>\n",
       "<p>414 rows × 8 columns</p>\n",
       "</div>"
      ],
      "text/plain": [
       "     Unnamed: 0                 TIME               NAME  BIKE.STANDS  \\\n",
       "0             1  2018-08-01 12:30:02   CHARLEMONT PLACE           40   \n",
       "1             2  2018-08-01 12:35:02   CHARLEMONT PLACE           40   \n",
       "2             3  2018-08-01 12:40:02   CHARLEMONT PLACE           40   \n",
       "3             4  2018-08-01 12:45:02   CHARLEMONT PLACE           40   \n",
       "4             5  2018-08-01 12:50:02   CHARLEMONT PLACE           40   \n",
       "..          ...                  ...                ...          ...   \n",
       "409         410  2018-08-01 23:35:02  PHIBSBOROUGH ROAD           40   \n",
       "410         411  2018-08-01 23:40:02  PHIBSBOROUGH ROAD           40   \n",
       "411         412  2018-08-01 23:45:02  PHIBSBOROUGH ROAD           40   \n",
       "412         413  2018-08-01 23:50:02  PHIBSBOROUGH ROAD           40   \n",
       "413         414  2018-08-01 23:55:02  PHIBSBOROUGH ROAD           40   \n",
       "\n",
       "     AVAILABLE.BIKE.STANDS  AVAILABLE.BIKES STATUS  BIKE.USAGE  \n",
       "0                       28               12   Open         0.7  \n",
       "1                       28               12   Open         0.7  \n",
       "2                       28               12   Open         0.7  \n",
       "3                       28               12   Open         0.7  \n",
       "4                       28               12   Open         0.7  \n",
       "..                     ...              ...    ...         ...  \n",
       "409                     12               28   Open         0.3  \n",
       "410                     12               28   Open         0.3  \n",
       "411                     12               28   Open         0.3  \n",
       "412                     12               28   Open         0.3  \n",
       "413                     12               28   Open         0.3  \n",
       "\n",
       "[414 rows x 8 columns]"
      ]
     },
     "execution_count": 19,
     "metadata": {},
     "output_type": "execute_result"
    }
   ],
   "source": [
    "data[Day_index]"
   ]
  },
  {
   "cell_type": "code",
   "execution_count": 20,
   "id": "2ec4cdf6",
   "metadata": {},
   "outputs": [
    {
     "name": "stdout",
     "output_type": "stream",
     "text": [
      "0         2018-08-01 12:30:02\n",
      "1         2018-08-01 12:35:02\n",
      "2         2018-08-01 12:40:02\n",
      "3         2018-08-01 12:45:02\n",
      "4         2018-08-01 12:50:02\n",
      "                  ...        \n",
      "1029255   2022-01-01 23:35:02\n",
      "1029256   2022-01-01 23:40:02\n",
      "1029257   2022-01-01 23:45:02\n",
      "1029258   2022-01-01 23:50:02\n",
      "1029259   2022-01-01 23:55:02\n",
      "Name: TIME, Length: 1029260, dtype: datetime64[ns]\n"
     ]
    },
    {
     "data": {
      "text/html": [
       "<div>\n",
       "<style scoped>\n",
       "    .dataframe tbody tr th:only-of-type {\n",
       "        vertical-align: middle;\n",
       "    }\n",
       "\n",
       "    .dataframe tbody tr th {\n",
       "        vertical-align: top;\n",
       "    }\n",
       "\n",
       "    .dataframe thead th {\n",
       "        text-align: right;\n",
       "    }\n",
       "</style>\n",
       "<table border=\"1\" class=\"dataframe\">\n",
       "  <thead>\n",
       "    <tr style=\"text-align: right;\">\n",
       "      <th></th>\n",
       "      <th>Unnamed: 0</th>\n",
       "      <th>TIME</th>\n",
       "      <th>NAME</th>\n",
       "      <th>BIKE.STANDS</th>\n",
       "      <th>AVAILABLE.BIKE.STANDS</th>\n",
       "      <th>AVAILABLE.BIKES</th>\n",
       "      <th>STATUS</th>\n",
       "      <th>BIKE.USAGE</th>\n",
       "      <th>DATE</th>\n",
       "    </tr>\n",
       "  </thead>\n",
       "  <tbody>\n",
       "    <tr>\n",
       "      <th>0</th>\n",
       "      <td>1</td>\n",
       "      <td>2018-08-01 12:30:02</td>\n",
       "      <td>CHARLEMONT PLACE</td>\n",
       "      <td>40</td>\n",
       "      <td>28</td>\n",
       "      <td>12</td>\n",
       "      <td>Open</td>\n",
       "      <td>0.7</td>\n",
       "      <td>2018-08-01</td>\n",
       "    </tr>\n",
       "    <tr>\n",
       "      <th>1</th>\n",
       "      <td>2</td>\n",
       "      <td>2018-08-01 12:35:02</td>\n",
       "      <td>CHARLEMONT PLACE</td>\n",
       "      <td>40</td>\n",
       "      <td>28</td>\n",
       "      <td>12</td>\n",
       "      <td>Open</td>\n",
       "      <td>0.7</td>\n",
       "      <td>2018-08-01</td>\n",
       "    </tr>\n",
       "    <tr>\n",
       "      <th>2</th>\n",
       "      <td>3</td>\n",
       "      <td>2018-08-01 12:40:02</td>\n",
       "      <td>CHARLEMONT PLACE</td>\n",
       "      <td>40</td>\n",
       "      <td>28</td>\n",
       "      <td>12</td>\n",
       "      <td>Open</td>\n",
       "      <td>0.7</td>\n",
       "      <td>2018-08-01</td>\n",
       "    </tr>\n",
       "    <tr>\n",
       "      <th>3</th>\n",
       "      <td>4</td>\n",
       "      <td>2018-08-01 12:45:02</td>\n",
       "      <td>CHARLEMONT PLACE</td>\n",
       "      <td>40</td>\n",
       "      <td>28</td>\n",
       "      <td>12</td>\n",
       "      <td>Open</td>\n",
       "      <td>0.7</td>\n",
       "      <td>2018-08-01</td>\n",
       "    </tr>\n",
       "    <tr>\n",
       "      <th>4</th>\n",
       "      <td>5</td>\n",
       "      <td>2018-08-01 12:50:02</td>\n",
       "      <td>CHARLEMONT PLACE</td>\n",
       "      <td>40</td>\n",
       "      <td>28</td>\n",
       "      <td>12</td>\n",
       "      <td>Open</td>\n",
       "      <td>0.7</td>\n",
       "      <td>2018-08-01</td>\n",
       "    </tr>\n",
       "  </tbody>\n",
       "</table>\n",
       "</div>"
      ],
      "text/plain": [
       "   Unnamed: 0                TIME              NAME  BIKE.STANDS  \\\n",
       "0           1 2018-08-01 12:30:02  CHARLEMONT PLACE           40   \n",
       "1           2 2018-08-01 12:35:02  CHARLEMONT PLACE           40   \n",
       "2           3 2018-08-01 12:40:02  CHARLEMONT PLACE           40   \n",
       "3           4 2018-08-01 12:45:02  CHARLEMONT PLACE           40   \n",
       "4           5 2018-08-01 12:50:02  CHARLEMONT PLACE           40   \n",
       "\n",
       "   AVAILABLE.BIKE.STANDS  AVAILABLE.BIKES STATUS  BIKE.USAGE       DATE  \n",
       "0                     28               12   Open         0.7 2018-08-01  \n",
       "1                     28               12   Open         0.7 2018-08-01  \n",
       "2                     28               12   Open         0.7 2018-08-01  \n",
       "3                     28               12   Open         0.7 2018-08-01  \n",
       "4                     28               12   Open         0.7 2018-08-01  "
      ]
     },
     "execution_count": 20,
     "metadata": {},
     "output_type": "execute_result"
    }
   ],
   "source": [
    "#Parse dates and times\n",
    "data.TIME = pd.to_datetime(data.TIME, format = \"%Y-%m-%d %H:%M:%S\")\n",
    "print(bike_dates)\n",
    "data[\"DATE\"] = pd.DatetimeIndex(data.TIME.dt.date)\n",
    "data.head()\n",
    "#Calculate bike usage\n",
    "data[\"BIKE.USAGE\"] = data[\"AVAILABLE.BIKE.STANDS\"]/data[\"BIKE.STANDS\"]\n",
    "data.head()"
   ]
  },
  {
   "cell_type": "code",
   "execution_count": 29,
   "id": "303b5a28",
   "metadata": {},
   "outputs": [],
   "source": [
    "#create masks\n",
    "dataCP = data[data.NAME == \"CHARLEMONT PLACE\"]\n",
    "dataSG = data[data.NAME == \"ST. STEPHEN'S GREEN EAST\"]\n",
    "dataPR = data[data.NAME == \"PHIBSBOROUGH ROAD\"]"
   ]
  },
  {
   "cell_type": "code",
   "execution_count": 42,
   "id": "9ce20b75",
   "metadata": {},
   "outputs": [
    {
     "data": {
      "text/plain": [
       "<bound method NDFrame.head of          Unnamed: 0                TIME               NAME  BIKE.STANDS  \\\n",
       "276             277 2018-08-01 12:30:02  PHIBSBOROUGH ROAD           40   \n",
       "277             278 2018-08-01 12:35:02  PHIBSBOROUGH ROAD           40   \n",
       "278             279 2018-08-01 12:40:02  PHIBSBOROUGH ROAD           40   \n",
       "279             280 2018-08-01 12:45:02  PHIBSBOROUGH ROAD           40   \n",
       "280             281 2018-08-01 12:50:02  PHIBSBOROUGH ROAD           40   \n",
       "...             ...                 ...                ...          ...   \n",
       "1029255     1029256 2022-01-01 23:35:02  PHIBSBOROUGH ROAD           40   \n",
       "1029256     1029257 2022-01-01 23:40:02  PHIBSBOROUGH ROAD           40   \n",
       "1029257     1029258 2022-01-01 23:45:02  PHIBSBOROUGH ROAD           40   \n",
       "1029258     1029259 2022-01-01 23:50:02  PHIBSBOROUGH ROAD           40   \n",
       "1029259     1029260 2022-01-01 23:55:02  PHIBSBOROUGH ROAD           40   \n",
       "\n",
       "         AVAILABLE.BIKE.STANDS  AVAILABLE.BIKES STATUS  BIKE.USAGE       DATE  \n",
       "276                         40                0   Open         1.0 2018-08-01  \n",
       "277                         40                0   Open         1.0 2018-08-01  \n",
       "278                         40                0   Open         1.0 2018-08-01  \n",
       "279                         40                0   Open         1.0 2018-08-01  \n",
       "280                         40                0   Open         1.0 2018-08-01  \n",
       "...                        ...              ...    ...         ...        ...  \n",
       "1029255                     16               24   Open         0.4 2022-01-01  \n",
       "1029256                     16               24   Open         0.4 2022-01-01  \n",
       "1029257                     16               24   Open         0.4 2022-01-01  \n",
       "1029258                     16               24   Open         0.4 2022-01-01  \n",
       "1029259                     16               24   Open         0.4 2022-01-01  \n",
       "\n",
       "[342924 rows x 9 columns]>"
      ]
     },
     "execution_count": 42,
     "metadata": {},
     "output_type": "execute_result"
    }
   ],
   "source": [
    "dataPR.head"
   ]
  },
  {
   "cell_type": "code",
   "execution_count": null,
   "id": "69ab8560",
   "metadata": {},
   "outputs": [],
   "source": []
  },
  {
   "cell_type": "code",
   "execution_count": 33,
   "id": "c4de7d9a",
   "metadata": {},
   "outputs": [
    {
     "name": "stdout",
     "output_type": "stream",
     "text": [
      "276       2018-08-01\n",
      "277       2018-08-01\n",
      "278       2018-08-01\n",
      "279       2018-08-01\n",
      "280       2018-08-01\n",
      "             ...    \n",
      "1029255   2022-01-01\n",
      "1029256   2022-01-01\n",
      "1029257   2022-01-01\n",
      "1029258   2022-01-01\n",
      "1029259   2022-01-01\n",
      "Name: DATE, Length: 342924, dtype: datetime64[ns]\n"
     ]
    }
   ],
   "source": [
    "print(dataPR.DATE)"
   ]
  },
  {
   "cell_type": "code",
   "execution_count": 34,
   "id": "987e132c",
   "metadata": {},
   "outputs": [
    {
     "name": "stdout",
     "output_type": "stream",
     "text": [
      "DatetimeIndex(['2018-08-01', '2018-08-01', '2018-08-01', '2018-08-01',\n",
      "               '2018-08-01', '2018-08-01', '2018-08-01', '2018-08-01',\n",
      "               '2018-08-01', '2018-08-01',\n",
      "               ...\n",
      "               '2022-01-01', '2022-01-01', '2022-01-01', '2022-01-01',\n",
      "               '2022-01-01', '2022-01-01', '2022-01-01', '2022-01-01',\n",
      "               '2022-01-01', '2022-01-01'],\n",
      "              dtype='datetime64[ns]', name='DATE', length=342924, freq=None)\n"
     ]
    }
   ],
   "source": [
    "PRdate_vector = pd.DatetimeIndex(dataPR.DATE.dt.date)\n",
    "print(PRdate_vector)"
   ]
  },
  {
   "cell_type": "code",
   "execution_count": 40,
   "id": "b1ade069",
   "metadata": {
    "scrolled": true
   },
   "outputs": [
    {
     "name": "stdout",
     "output_type": "stream",
     "text": [
      "2018-08-01 00:00:00\n"
     ]
    },
    {
     "data": {
      "text/plain": [
       "<bound method NDFrame.head of      Unnamed: 0                TIME               NAME  BIKE.STANDS  \\\n",
       "276         277 2018-08-01 12:30:02  PHIBSBOROUGH ROAD           40   \n",
       "277         278 2018-08-01 12:35:02  PHIBSBOROUGH ROAD           40   \n",
       "278         279 2018-08-01 12:40:02  PHIBSBOROUGH ROAD           40   \n",
       "279         280 2018-08-01 12:45:02  PHIBSBOROUGH ROAD           40   \n",
       "280         281 2018-08-01 12:50:02  PHIBSBOROUGH ROAD           40   \n",
       "..          ...                 ...                ...          ...   \n",
       "409         410 2018-08-01 23:35:02  PHIBSBOROUGH ROAD           40   \n",
       "410         411 2018-08-01 23:40:02  PHIBSBOROUGH ROAD           40   \n",
       "411         412 2018-08-01 23:45:02  PHIBSBOROUGH ROAD           40   \n",
       "412         413 2018-08-01 23:50:02  PHIBSBOROUGH ROAD           40   \n",
       "413         414 2018-08-01 23:55:02  PHIBSBOROUGH ROAD           40   \n",
       "\n",
       "     AVAILABLE.BIKE.STANDS  AVAILABLE.BIKES STATUS  BIKE.USAGE       DATE  \n",
       "276                     40                0   Open         1.0 2018-08-01  \n",
       "277                     40                0   Open         1.0 2018-08-01  \n",
       "278                     40                0   Open         1.0 2018-08-01  \n",
       "279                     40                0   Open         1.0 2018-08-01  \n",
       "280                     40                0   Open         1.0 2018-08-01  \n",
       "..                     ...              ...    ...         ...        ...  \n",
       "409                     12               28   Open         0.3 2018-08-01  \n",
       "410                     12               28   Open         0.3 2018-08-01  \n",
       "411                     12               28   Open         0.3 2018-08-01  \n",
       "412                     12               28   Open         0.3 2018-08-01  \n",
       "413                     12               28   Open         0.3 2018-08-01  \n",
       "\n",
       "[138 rows x 9 columns]>"
      ]
     },
     "execution_count": 40,
     "metadata": {},
     "output_type": "execute_result"
    }
   ],
   "source": [
    "# Approach 3\n",
    "idx_day_of_interest = 0;\n",
    "Day_of_interest = PRdate_vector[idx_day_of_interest] # pearse_dates.dt.date.iloc[idx_day_of_interest]\n",
    "Day_index = PRdate_vector == Day_of_interest\n",
    "print(Day_of_interest)\n",
    "\n",
    "dataPR[Day_index].head"
   ]
  },
  {
   "cell_type": "code",
   "execution_count": 38,
   "id": "88cb9930",
   "metadata": {},
   "outputs": [
    {
     "data": {
      "text/plain": [
       "276     0\n",
       "277     0\n",
       "278     0\n",
       "279     0\n",
       "280     0\n",
       "       ..\n",
       "409    28\n",
       "410    28\n",
       "411    28\n",
       "412    28\n",
       "413    28\n",
       "Name: AVAILABLE.BIKES, Length: 138, dtype: int64"
      ]
     },
     "execution_count": 38,
     "metadata": {},
     "output_type": "execute_result"
    }
   ],
   "source": [
    "phibs_day_of_interest = dataPR.DATE[Day_index]\n",
    "time = phibs_day_of_interest.dt.hour\n",
    "stands = dataPR[Day_index]['AVAILABLE.BIKE.STANDS']\n",
    "bikes = dataPR[Day_index]['AVAILABLE.BIKES']\n",
    "bikes"
   ]
  },
  {
   "cell_type": "code",
   "execution_count": 39,
   "id": "6dc237d7",
   "metadata": {},
   "outputs": [
    {
     "data": {
      "image/png": "[encoded data removed]",
      "text/plain": [
       "<Figure size 432x288 with 1 Axes>"
      ]
     },
     "metadata": {
      "needs_background": "light"
     },
     "output_type": "display_data"
    },
    {
     "data": {
      "image/png": "[encoded data removed]",
      "text/plain": [
       "<Figure size 432x288 with 1 Axes>"
      ]
     },
     "metadata": {
      "needs_background": "light"
     },
     "output_type": "display_data"
    }
   ],
   "source": [
    "plt.figure()\n",
    "plt.title(f'Usage of the Phibsborough Road station on the {Day_of_interest}')\n",
    "plt.plot(time, stands,'k')\n",
    "plt.xlabel('Hours of the day')\n",
    "plt.ylabel('Available bike stands')\n",
    "plt.title(f'Usage of the Phibsborough Road station on the {Day_of_interest}')\n",
    "\n",
    "plt.figure()\n",
    "plt.plot(time, bikes,'b')\n",
    "plt.xlabel('Hours of the day')\n",
    "plt.ylabel('Available bikes')\n",
    "plt.show()"
   ]
  },
  {
   "cell_type": "code",
   "execution_count": 43,
   "id": "6708fdce",
   "metadata": {},
   "outputs": [
    {
     "data": {
      "image/png": "[encoded data removed]",
      "text/plain": [
       "<Figure size 432x288 with 1 Axes>"
      ]
     },
     "metadata": {
      "needs_background": "light"
     },
     "output_type": "display_data"
    }
   ],
   "source": [
    "# Group data by date and calculate mean bike usage\n",
    "usage_by_date = dataPR.groupby('DATE')['BIKE.USAGE'].mean()\n",
    "\n",
    "# Create a line plot\n",
    "plt.plot(usage_by_date.index, usage_by_date.values)\n",
    "\n",
    "# Set plot title and axis labels\n",
    "plt.title('Average Bike Usage for Phibsborough Road')\n",
    "plt.xlabel('Date')\n",
    "plt.ylabel('Bike Usage')\n",
    "\n",
    "# Show the plot\n",
    "plt.show()"
   ]
  },
  {
   "cell_type": "code",
   "execution_count": null,
   "id": "e4de0157",
   "metadata": {},
   "outputs": [],
   "source": []
  }
 ],
 "metadata": {
  "kernelspec": {
   "display_name": "Python 3 (ipykernel)",
   "language": "python",
   "name": "python3"
  },
  "language_info": {
   "codemirror_mode": {
    "name": "ipython",
    "version": 3
   },
   "file_extension": ".py",
   "mimetype": "text/x-python",
   "name": "python",
   "nbconvert_exporter": "python",
   "pygments_lexer": "ipython3",
   "version": "3.9.12"
  }
 },
 "nbformat": 4,
 "nbformat_minor": 5
}
